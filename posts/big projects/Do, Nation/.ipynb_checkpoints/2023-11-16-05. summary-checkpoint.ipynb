{
 "cells": [
  {
   "cell_type": "raw",
   "id": "55bf9bed-d5e8-4cd6-b7d6-ec8c43fdbd64",
   "metadata": {},
   "source": [
    "---\n",
    "title : \"05. summary\"\n",
    "author : \"gc\"\n",
    "date : \"11/16/23\"\n",
    "---"
   ]
  },
  {
   "cell_type": "markdown",
   "id": "28f5b3fc-a0c8-4c3c-a242-051acae7de79",
   "metadata": {},
   "source": [
    "# 1. 아이디어 요약"
   ]
  },
  {
   "cell_type": "markdown",
   "id": "bbff01dc-44dd-4a3b-8649-f7e25f9ee777",
   "metadata": {},
   "source": [
    "`1` 이스라엘, 하마스 전쟁사태와 더불어 전 세계는 다양한 종류의 내난과 전쟁 상황에 직면"
   ]
  },
  {
   "cell_type": "markdown",
   "id": "189b7686-2c82-4e16-88ba-5e864c6228a0",
   "metadata": {},
   "source": [
    "`2` 뉴스 기사를 통해 쉽게 접할 수 있지만, 가독성이 떨어짐"
   ]
  },
  {
   "cell_type": "markdown",
   "id": "294b4f3f-e2c8-4784-b591-bc789a9f964c",
   "metadata": {},
   "source": [
    "`3` 또한, 어느 지역에서 어떤 사건이 발생하고 있는지 정확하게 파악하기 어려움"
   ]
  },
  {
   "cell_type": "markdown",
   "id": "44405af4-bcd9-4171-b579-02d1c7feddbb",
   "metadata": {},
   "source": [
    "`4` 통계청 자료의 따르면, 기부 참여율을 매년 현저히 감소"
   ]
  },
  {
   "cell_type": "markdown",
   "id": "170b6c72-107d-495c-836f-68911d85ce1f",
   "metadata": {},
   "source": [
    "`5` 기부에 대한 관심도 하락과 참여율 저조에 대한 문제를 해결하기 위해 `Do, Nation` 종합 재난 기부 플랫폼 구축을 기획"
   ]
  },
  {
   "cell_type": "markdown",
   "id": "a47e65a5-554e-40ad-8fd4-eb171cfeb6a2",
   "metadata": {},
   "source": [
    "***"
   ]
  },
  {
   "cell_type": "markdown",
   "id": "353909eb-f4a8-44f4-8527-6cd169a9c5c2",
   "metadata": {},
   "source": [
    "# 2. 솔루션 요약"
   ]
  },
  {
   "cell_type": "markdown",
   "id": "b6452512-7e8d-4c58-928d-8d5c410c7883",
   "metadata": {},
   "source": [
    "`1` 실시간 뉴스 모니터링 및 피해 심각도 시각화\n",
    "\n",
    "`2` 지역 기반 서비스 : 해당 지역을 선택하고 직접 기부를 할 수 있는 서비스 구축\n",
    "\n",
    "`3` 다국어 기사 서비스 제공 : 생성형 AI 기술을 활용하여 다국어로 작성된 뉴스 기사를 신속하게 번역하여 제공"
   ]
  },
  {
   "cell_type": "markdown",
   "id": "bf9c3800-8753-4c46-9a4c-fe1e357f5c2e",
   "metadata": {},
   "source": [
    "`4` 사용 기술\n",
    "\n",
    "* python, streamlit\n",
    "\n",
    "* [BERTopic](https://maartengr.github.io/BERTopic/index.html#quick-start) : 단어의 빈도 수와 의미적 연관성을 함께 고려하여 토픽 모델리을 수행하는 기법\n",
    "\n",
    "    * 텍스트 데이터를 SBERT로 문서를 입베딩\n",
    "    \n",
    "    * UMAP을 이용해서 각 Documnet Vector의 차원 축소\n",
    "    \n",
    "    * HDBSCAN을 이용하여 클러스터링\n",
    "    \n",
    "    * C-TF-IDF(Class-based TF-IDF)를 통해서 각 묶어진 그룹에 대해 해당 Topic을 잘 표현하는 단어를 찾음"
   ]
  },
  {
   "cell_type": "markdown",
   "id": "8855a412-36c4-4b46-a803-382623228cae",
   "metadata": {},
   "source": [
    "<center><img src=\"https://leebongho.files.wordpress.com/2022/06/algorithm.png\" width = 400 class=\"kg-image\" alt=\"image\" loading=\"lazy\"><center>"
   ]
  },
  {
   "cell_type": "markdown",
   "id": "1abdbc5c-c9c4-42ea-8822-4e3da2a72786",
   "metadata": {},
   "source": [
    "* [mBART-50](https://huggingface.co/facebook/mbart-large-50-many-to-many-mmt) : 기계번역 모델\n",
    "\n",
    "    * facebook에서 개발한 기계번역 모델, 총 50개 국어를 학습한 Seq2seq 모델\n",
    "    \n",
    "    * 본 개발에서는 다국어 서비스를 지원하기 위해 해당 모델을 선택(pretrained-model)"
   ]
  },
  {
   "cell_type": "markdown",
   "id": "b7f93c72-976f-4a50-9a7e-49de0aeeba01",
   "metadata": {},
   "source": [
    "***"
   ]
  },
  {
   "cell_type": "markdown",
   "id": "588f49c9-08c3-47f1-8c30-33f45cd0a3f1",
   "metadata": {},
   "source": [
    "# 3. feedback"
   ]
  },
  {
   "cell_type": "markdown",
   "id": "80b761ad-0975-47e3-89d6-059423ed71ee",
   "metadata": {},
   "source": [
    "`-` 본선 탈락한 이유를 종합해보자."
   ]
  },
  {
   "cell_type": "markdown",
   "id": "d1d95b1d-3fd7-4754-94d5-b7e8ceb4d08c",
   "metadata": {},
   "source": [
    "`1` 생성형 AI라는 단어에 너무 집중했다...\n",
    "\n",
    "* 기술은 두번째, 기획서가 첫번째라고 생각한다.\n",
    "\n",
    "* 우리의 제안이 얼마나 사회적, 비즈니스적 가치가 있는지 충분히 어필하지 못했음.\n",
    "\n",
    "* 모호한 타깃설정 : 기부에 관심있는 누구나라는 타깃은 명확한 타깃으로 보기 어려움\n",
    "\n",
    "* 기부를 통한 빠른 재해 복구 및 국가 안정 도모를 언급했는데 기부에 대한 관심도, 기부를 통한 국가 안정 도모간 연관성을 명확히 설명하지 못함"
   ]
  },
  {
   "cell_type": "markdown",
   "id": "fa87e86b-71e9-430f-ada5-8f36652007a4",
   "metadata": {},
   "source": [
    "`2` 업무 분할\n",
    "\n",
    "* 개인이 맡은 파트가 명확하지 않았다.\n",
    "\n",
    "* 명확하지 않다보니 중간중간 방향이 흐트러질때가 많았다.\n",
    "\n",
    "* 그러다 보니 프로토타입 개발팀과 데이터 분석 팀의 코드가 호환되지 않는 상황도 발생함..."
   ]
  },
  {
   "cell_type": "markdown",
   "id": "5211eb7c-a29a-498e-b7a4-76c524cc1ec6",
   "metadata": {},
   "source": [
    "`3` 다음 해커톤에서는 이러한 부분을 좀 다듬어서 재도전해봐야겠다..."
   ]
  }
 ],
 "metadata": {
  "kernelspec": {
   "display_name": "Python 3 (ipykernel)",
   "language": "python",
   "name": "python3"
  },
  "language_info": {
   "codemirror_mode": {
    "name": "ipython",
    "version": 3
   },
   "file_extension": ".py",
   "mimetype": "text/x-python",
   "name": "python",
   "nbconvert_exporter": "python",
   "pygments_lexer": "ipython3",
   "version": "3.11.4"
  }
 },
 "nbformat": 4,
 "nbformat_minor": 5
}
