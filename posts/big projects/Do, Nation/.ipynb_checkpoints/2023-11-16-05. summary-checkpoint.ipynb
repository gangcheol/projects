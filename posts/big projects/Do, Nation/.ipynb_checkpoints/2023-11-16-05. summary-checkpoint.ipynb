{
 "cells": [
  {
   "cell_type": "raw",
   "id": "55bf9bed-d5e8-4cd6-b7d6-ec8c43fdbd64",
   "metadata": {},
   "source": [
    "---\n",
    "title : \"05. summary\"\n",
    "author : \"gc\"\n",
    "date : \"11/16/23\"\n",
    "---"
   ]
  },
  {
   "cell_type": "markdown",
   "id": "28f5b3fc-a0c8-4c3c-a242-051acae7de79",
   "metadata": {},
   "source": [
    "# 1. 아이디어 요약"
   ]
  },
  {
   "cell_type": "markdown",
   "id": "353909eb-f4a8-44f4-8527-6cd169a9c5c2",
   "metadata": {},
   "source": [
    "# 2. 솔루션 요약"
   ]
  },
  {
   "cell_type": "markdown",
   "id": "588f49c9-08c3-47f1-8c30-33f45cd0a3f1",
   "metadata": {},
   "source": [
    "# 3. feedback"
   ]
  }
 ],
 "metadata": {
  "kernelspec": {
   "display_name": "Python 3 (ipykernel)",
   "language": "python",
   "name": "python3"
  },
  "language_info": {
   "codemirror_mode": {
    "name": "ipython",
    "version": 3
   },
   "file_extension": ".py",
   "mimetype": "text/x-python",
   "name": "python",
   "nbconvert_exporter": "python",
   "pygments_lexer": "ipython3",
   "version": "3.11.4"
  }
 },
 "nbformat": 4,
 "nbformat_minor": 5
}
