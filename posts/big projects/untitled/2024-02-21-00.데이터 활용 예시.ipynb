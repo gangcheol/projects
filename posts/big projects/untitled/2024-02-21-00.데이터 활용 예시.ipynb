{
 "cells": [
  {
   "cell_type": "raw",
   "id": "d102881a-c75a-4071-b480-b8d609e86448",
   "metadata": {},
   "source": [
    "---\n",
    "title : \"00. 데이터 활용 예시\"\n",
    "author : \"GC\"\n",
    "date : \"02/22/24\"\n",
    "---"
   ]
  },
  {
   "cell_type": "markdown",
   "id": "f0b49489-2c4a-4774-8db2-513ea8128f26",
   "metadata": {},
   "source": [
    "# 활용 데이터"
   ]
  },
  {
   "cell_type": "markdown",
   "id": "0cd4ac28-58be-42e4-8bd0-b57ccd0fd218",
   "metadata": {},
   "source": [
    " `1` [국토교통부 건축물 대장 정보](https://www.data.go.kr/data/15044713/openapi.do?recommendDataYn=Y)\n",
    " \n",
    "* 건축물대장에서 관리하고 있는 총괄표제부, 표제부, 층별개요, 부속지번, 전유공용면적, 오수정화시설, 주택가격, 전유부, 지역지구구역 등 속성정보(대용량 원시DB)\n",
    " \n",
    " `2` [산림청 건물부문 탄소배출량(2019~2022년)](https://www.bigdata-forest.kr/mydata/list)\n",
    " \n",
    " * **현재 해당 데이터에 대한 변수 정의서와 에러문제 메일 문의 드림.**\n",
    " \n",
    " `3` [시군구별 가로수 종별 탄소흡수량(2015~2021)](https://www.bigdata-forest.kr/orderProduct/ECO100201)\n",
    "\n",
    "* **시군구별 및 년도별 가로수종(느티나무 등 15종)별 수량과 탄소 흡수량을 산정한 데이터**\n",
    " \n",
    " `4` [시군구별 산림녹지 탄소흡수량(침엽수, 활엽수, 혼효림)](https://www.bigdata-forest.kr/orderProduct/ECO100101)\n",
    "\n",
    "* **시군구별 및 년도별 자연녹지(침엽수, 활엽수, 혼효림), 인공녹지(공원), 시설녹지(완충, 연결, 경관)의 면적과 탄소 흡수량을 산정한 데이터**\n",
    "\n",
    "* **나무별 면적대비 탄소 흡수량을 산출하기 위함**"
   ]
  },
  {
   "cell_type": "markdown",
   "id": "250e6978-e97c-4916-9498-44e84fdd346a",
   "metadata": {},
   "source": [
    "# 그래서?"
   ]
  },
  {
   "cell_type": "markdown",
   "id": "b8871f2f-257c-4518-8a95-70ed74e7b61e",
   "metadata": {},
   "source": [
    "`1` 위 데이터들을 활용해서 건물들의 탄소배출량을 구함\n",
    "\n",
    "`2` 나무별 면적대비, 탄소흡수량을 산출\n",
    "\n",
    "`3` 탄소배출권 비용과 나무 비용을 산출해서 기업이 공장 설립 또는 우영시 드는 cost 계산 **`(\"이 부분은 내일 기획 자료 바탕으로 협의 필요\")`**\n",
    "\n",
    "`4` 공장 탄소배출량 예측 모형을 만들기, 향후 공장 설립 시 cost 계산을 위함 \n",
    "\n",
    "`6` 시군구별 탄소배출량 시각화 : [example](https://plotly.com/python/choropleth-maps/)\n",
    "\n",
    "`6` 여기에 + `marker` 추가해서 누르면 공장 정보, 예상되는 탄소배출량 표기\n",
    "\n",
    "`7` [웹 대시보드 예시, 이런 tool을 써서 대시보드를 만들겠다는 예시입니다](https://gangcheol.github.io/projects/posts/mini%20projects/%EB%B3%91%EC%9B%90%EC%84%A0%EC%A0%95%20%EC%86%94%EB%A3%A8%EC%85%98/2023-11-02-03.%20Prototype.html)"
   ]
  }
 ],
 "metadata": {
  "kernelspec": {
   "display_name": "Python 3 (ipykernel)",
   "language": "python",
   "name": "python3"
  },
  "language_info": {
   "codemirror_mode": {
    "name": "ipython",
    "version": 3
   },
   "file_extension": ".py",
   "mimetype": "text/x-python",
   "name": "python",
   "nbconvert_exporter": "python",
   "pygments_lexer": "ipython3",
   "version": "3.11.4"
  }
 },
 "nbformat": 4,
 "nbformat_minor": 5
}
