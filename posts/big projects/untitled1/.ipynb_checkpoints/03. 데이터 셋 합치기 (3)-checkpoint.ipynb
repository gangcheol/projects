{
 "cells": [
  {
   "cell_type": "raw",
   "id": "399e9084-83d3-4925-99ef-c1f6145df9df",
   "metadata": {},
   "source": [
    "---\n",
    "title : \"03. 데이터 셋 합치기 (3)\"\n",
    "author : \"gc\"\n",
    "date : \"06/24/24\"\n",
    "---"
   ]
  },
  {
   "cell_type": "markdown",
   "id": "d7661ec2-2aab-4765-b538-c98a67a40383",
   "metadata": {},
   "source": [
    "# 01. 데이터 로드"
   ]
  },
  {
   "cell_type": "code",
   "execution_count": 75,
   "id": "1a936c5d-2873-4df7-91b7-0666532810f3",
   "metadata": {},
   "outputs": [],
   "source": [
    "# | code-fold : true\n",
    "\n",
    "import pandas as pd\n",
    "import os\n",
    "import numpy as np\n",
    "import warnings\n",
    "\n",
    "warnings.filterwarnings(action = \"ignore\")"
   ]
  },
  {
   "cell_type": "code",
   "execution_count": 76,
   "id": "929ae189-cb5d-45b7-a5e2-06356f8f913b",
   "metadata": {},
   "outputs": [],
   "source": [
    "file_list = os.listdir(\"total_data\")"
   ]
  },
  {
   "cell_type": "code",
   "execution_count": 77,
   "id": "48b23e70-e505-4e2a-aa65-051fd94fed9b",
   "metadata": {},
   "outputs": [],
   "source": [
    "for i in range(len(file_list)) : \n",
    "    exec(f'df{i+1} = pd.read_csv(\"total_data/\" + file_list[{i}],encoding = \"euc-kr\")')"
   ]
  },
  {
   "cell_type": "code",
   "execution_count": 78,
   "id": "a1ec208f-e04b-4c4d-96ef-5caf344a2143",
   "metadata": {},
   "outputs": [],
   "source": [
    "df3.rename(columns = {\"학교코드_공시연도\" : \"key\"}, inplace = True)"
   ]
  },
  {
   "cell_type": "markdown",
   "id": "8a7dbbed-9c03-4632-be36-d711bb987fa3",
   "metadata": {},
   "source": [
    "# 02. df2 데이터 전처리"
   ]
  },
  {
   "cell_type": "markdown",
   "id": "db7fc0b3-032c-4650-917a-d81c8e7a3112",
   "metadata": {},
   "source": [
    "## (1) key값 수정"
   ]
  },
  {
   "cell_type": "code",
   "execution_count": 79,
   "id": "d071cdbf-7e23-4c52-a2e9-87e117b390be",
   "metadata": {},
   "outputs": [],
   "source": [
    "#df2.info()"
   ]
  },
  {
   "cell_type": "markdown",
   "id": "48ac0ade-d4b0-417a-a35d-eb1197357725",
   "metadata": {},
   "source": [
    "`-` df2 데이터를 살펴본 결과 3번째 부터 32번째 컬럼은 필요 없어보임"
   ]
  },
  {
   "cell_type": "code",
   "execution_count": 80,
   "id": "7ecd1673-6e41-4c61-85d0-6155eed2f386",
   "metadata": {},
   "outputs": [],
   "source": [
    "drop_col = df2.columns[3:33].tolist()\n",
    "\n",
    "df2.drop(drop_col, axis = 1, inplace = True)\n",
    "df2.dropna(subset = [\"key\"], inplace = True)"
   ]
  },
  {
   "cell_type": "code",
   "execution_count": 81,
   "id": "71962517-85fd-4170-a1a0-c19e00ca6fd5",
   "metadata": {},
   "outputs": [
    {
     "data": {
      "text/plain": [
       "(154031, 31)"
      ]
     },
     "execution_count": 81,
     "metadata": {},
     "output_type": "execute_result"
    }
   ],
   "source": [
    "df2.shape"
   ]
  },
  {
   "cell_type": "markdown",
   "id": "73940c1c-97cc-4955-822b-02e04524d77a",
   "metadata": {},
   "source": [
    "`1` 전처리 과정에서 key 값 결합이 잘못된 것 같음.. 다시 분할 한 후 합쳐 주자"
   ]
  },
  {
   "cell_type": "code",
   "execution_count": 82,
   "id": "b7802169-2b60-42b2-899c-aac43fd6c7d5",
   "metadata": {},
   "outputs": [],
   "source": [
    "df2[\"school_code\"] = [i.split(\"-\")[0] for i in df2[\"key\"]]\n",
    "df2[\"year\"] = [i.split(\"-\")[1] for i in df2[\"key\"]]\n",
    "df2.year.replace(\"nan\",0, inplace =True)"
   ]
  },
  {
   "cell_type": "code",
   "execution_count": 83,
   "id": "43c4f6ed-4f1f-461b-96a8-34a7583f658f",
   "metadata": {},
   "outputs": [],
   "source": [
    "df2.year = df2.year.astype(float).astype(int)"
   ]
  },
  {
   "cell_type": "code",
   "execution_count": 84,
   "id": "b8535a9a-df59-4913-bf9b-c50bfd4723c1",
   "metadata": {},
   "outputs": [],
   "source": [
    "df2 = df2.loc[df2.year !=0 ,:]"
   ]
  },
  {
   "cell_type": "markdown",
   "id": "b2fbd2d7-dce2-4c27-9f56-a67b3e6a8910",
   "metadata": {},
   "source": [
    "`2` 합치기"
   ]
  },
  {
   "cell_type": "code",
   "execution_count": 85,
   "id": "24b1e1bd-045b-4a61-8e26-0a8283861fb2",
   "metadata": {},
   "outputs": [],
   "source": [
    "df2[\"key\"] = [i + \"-\" + str(j) for i,j in zip(df2[\"school_code\"], df2[\"year\"])]"
   ]
  },
  {
   "cell_type": "code",
   "execution_count": 86,
   "id": "0293701c-db32-4316-b0b7-0d5d167f5dad",
   "metadata": {},
   "outputs": [
    {
     "data": {
      "text/plain": [
       "array(['S000003511-2021', 'S000003563-2021', 'S010000738-2021', ...,\n",
       "       'S010006027-2024', 'S010006380-2024', 'S010005864-2024'],\n",
       "      dtype=object)"
      ]
     },
     "execution_count": 86,
     "metadata": {},
     "output_type": "execute_result"
    }
   ],
   "source": [
    "df2.key.unique()"
   ]
  },
  {
   "cell_type": "code",
   "execution_count": 87,
   "id": "5b8a2c5b-192c-4611-993a-724a6038c6ed",
   "metadata": {},
   "outputs": [],
   "source": [
    "df2.drop_duplicates(subset = [\"key\"],inplace = True)"
   ]
  },
  {
   "cell_type": "markdown",
   "id": "03d7b052-c5f4-42ba-82af-d418759a4d56",
   "metadata": {},
   "source": [
    "`3` 필요없는 변수 삭제"
   ]
  },
  {
   "cell_type": "code",
   "execution_count": 88,
   "id": "3d4350b1-f181-4fcb-9da2-f2aa4bff2bdc",
   "metadata": {},
   "outputs": [],
   "source": [
    "del_col = [\"장학금인원\",\"장학금금액\",\"학비지원인원\",\"학비지원금액\",\"인원합계\",\"금액합계_x\",\"금액합계_y\", \"school_code\", \"year\",\n",
    "            \"건수합계\", \"지출금액합계\", \"금전및 유가증권건수\", \"도서및 물품건수\", \"수목시설및 재산건수\",\"교육청비율\", \"자치단체비율\",\n",
    "            \"금액계\", \"비율계\", \"분류\"]\n",
    "\n",
    "df2.drop(del_col, axis =1, inplace = True)"
   ]
  },
  {
   "cell_type": "code",
   "execution_count": 89,
   "id": "c3747cf2-a584-4a42-9a5d-aceba661a0e9",
   "metadata": {},
   "outputs": [
    {
     "name": "stdout",
     "output_type": "stream",
     "text": [
      "<class 'pandas.core.frame.DataFrame'>\n",
      "Index: 5475 entries, 0 to 151459\n",
      "Data columns (total 14 columns):\n",
      " #   Column          Non-Null Count  Dtype  \n",
      "---  ------          --------------  -----  \n",
      " 0   key             5475 non-null   object \n",
      " 1   정보공시 학교코드       5475 non-null   object \n",
      " 2   학교명             5475 non-null   object \n",
      " 3   교육청금액           5365 non-null   float64\n",
      " 4   자치단체금액          5365 non-null   float64\n",
      " 5   보호자금액           5365 non-null   float64\n",
      " 6   보호자비율           5365 non-null   float64\n",
      " 7   금전및 유가증권금액      3650 non-null   float64\n",
      " 8   도서및 물품금액        3650 non-null   float64\n",
      " 9   수목시설및 재산금액      3650 non-null   float64\n",
      " 10  학교교육시설 보수확충금액   3650 non-null   float64\n",
      " 11  교육용기자재 및도서금액    3650 non-null   float64\n",
      " 12  학교체육학예 활동금액     3650 non-null   float64\n",
      " 13  학생복지및 자치활동지원금액  3650 non-null   float64\n",
      "dtypes: float64(11), object(3)\n",
      "memory usage: 641.6+ KB\n"
     ]
    }
   ],
   "source": [
    "df2.info()"
   ]
  },
  {
   "cell_type": "markdown",
   "id": "cf22eb40-3508-4e2d-82a6-0153e23054ee",
   "metadata": {},
   "source": [
    "`-` 참고 : 교육청금액과 자치단체금액, 보호자 금액은 `급식비 집행 실적 현황`에 대한 내용임"
   ]
  },
  {
   "cell_type": "markdown",
   "id": "9156f9aa-809b-4cce-9cd9-d542e14d71bb",
   "metadata": {},
   "source": [
    "## (2) 결측치 채우기"
   ]
  },
  {
   "cell_type": "markdown",
   "id": "49934f06-bc06-459b-8865-44737ebdf3c1",
   "metadata": {},
   "source": [
    "결측치는 금액과 관련된 내용이니 전부 `0`으로 채우자...(실제로 예산을 집행안한 걸 수 도 있으니까...)"
   ]
  },
  {
   "cell_type": "code",
   "execution_count": 90,
   "id": "77719ab4-b3a8-45a2-98c6-ac9321ca4ceb",
   "metadata": {},
   "outputs": [],
   "source": [
    "df2.fillna(0, inplace = True)"
   ]
  },
  {
   "cell_type": "code",
   "execution_count": 91,
   "id": "f56f11b1-dc59-43f6-a572-b9275d9a9ce8",
   "metadata": {},
   "outputs": [
    {
     "name": "stdout",
     "output_type": "stream",
     "text": [
      "<class 'pandas.core.frame.DataFrame'>\n",
      "Index: 5475 entries, 0 to 151459\n",
      "Data columns (total 14 columns):\n",
      " #   Column          Non-Null Count  Dtype  \n",
      "---  ------          --------------  -----  \n",
      " 0   key             5475 non-null   object \n",
      " 1   정보공시 학교코드       5475 non-null   object \n",
      " 2   학교명             5475 non-null   object \n",
      " 3   교육청금액           5475 non-null   float64\n",
      " 4   자치단체금액          5475 non-null   float64\n",
      " 5   보호자금액           5475 non-null   float64\n",
      " 6   보호자비율           5475 non-null   float64\n",
      " 7   금전및 유가증권금액      5475 non-null   float64\n",
      " 8   도서및 물품금액        5475 non-null   float64\n",
      " 9   수목시설및 재산금액      5475 non-null   float64\n",
      " 10  학교교육시설 보수확충금액   5475 non-null   float64\n",
      " 11  교육용기자재 및도서금액    5475 non-null   float64\n",
      " 12  학교체육학예 활동금액     5475 non-null   float64\n",
      " 13  학생복지및 자치활동지원금액  5475 non-null   float64\n",
      "dtypes: float64(11), object(3)\n",
      "memory usage: 641.6+ KB\n"
     ]
    }
   ],
   "source": [
    "df2.info()"
   ]
  },
  {
   "cell_type": "markdown",
   "id": "0f0e04db-4eb9-49fb-9237-2894a60c7042",
   "metadata": {},
   "source": [
    "****"
   ]
  },
  {
   "cell_type": "markdown",
   "id": "805fabd6-c175-4519-b90b-1e3b75e74ebc",
   "metadata": {},
   "source": [
    "# 03. 합치기"
   ]
  },
  {
   "cell_type": "code",
   "execution_count": 92,
   "id": "832b16e4-ef11-4791-9d4b-6ba0270034e8",
   "metadata": {},
   "outputs": [],
   "source": [
    "del_col = [\"정보공시 학교코드\", \"학교명\"]"
   ]
  },
  {
   "cell_type": "code",
   "execution_count": 93,
   "id": "0563076d-82ed-44ff-94b9-7baaeff76417",
   "metadata": {},
   "outputs": [],
   "source": [
    "df2.drop(del_col, axis = 1, inplace = True)\n",
    "df3.drop(del_col, axis = 1, inplace = True)"
   ]
  },
  {
   "cell_type": "code",
   "execution_count": 94,
   "id": "3aa0b6dd-e0a0-453a-bd8f-bf09a3976180",
   "metadata": {},
   "outputs": [],
   "source": [
    "df3.drop(\"지역\", axis = 1, inplace = True)"
   ]
  },
  {
   "cell_type": "code",
   "execution_count": 95,
   "id": "0486f73e-3548-4305-89aa-d1a369e96560",
   "metadata": {},
   "outputs": [],
   "source": [
    "temp = pd.merge(df1,df2, on = \"key\", how = \"left\")\n",
    "temp = pd.merge(temp,df3, on = \"key\", how = \"left\")\n",
    "temp = pd.merge(temp,df4, on = \"key\", how = \"left\")\n",
    "temp.fillna(0, inplace = True)"
   ]
  },
  {
   "cell_type": "markdown",
   "id": "f803ccec-faaf-405e-8d83-ec3ce3743fa8",
   "metadata": {},
   "source": [
    "# 04. 합친 데이터 살펴보기"
   ]
  },
  {
   "cell_type": "code",
   "execution_count": 96,
   "id": "ace5c7dc-428b-4995-b539-c8e00ea57ca5",
   "metadata": {},
   "outputs": [
    {
     "data": {
      "text/plain": [
       "(5475, 77)"
      ]
     },
     "execution_count": 96,
     "metadata": {},
     "output_type": "execute_result"
    }
   ],
   "source": [
    "temp.shape"
   ]
  },
  {
   "cell_type": "code",
   "execution_count": 97,
   "id": "d027d7aa-d62b-460d-b770-fdac7ff03b5d",
   "metadata": {},
   "outputs": [],
   "source": [
    "#temp.info()"
   ]
  },
  {
   "cell_type": "markdown",
   "id": "9b9410f4-9a6b-4e57-8504-7a9d3e7fa3d5",
   "metadata": {},
   "source": [
    "## (1) 필요없는 컬럼 삭제 1"
   ]
  },
  {
   "cell_type": "markdown",
   "id": "46b5c18e-e563-4c01-be5c-f759c90e6f58",
   "metadata": {},
   "source": [
    "`-` 학교별 직원 현황은 별로 의미가 없어 \n",
    "\n",
    "* 수업 교원 1인당 학생 수가 있으므로!"
   ]
  },
  {
   "cell_type": "code",
   "execution_count": 98,
   "id": "da8076bb-ea37-41ee-955b-b0a42026e097",
   "metadata": {},
   "outputs": [],
   "source": [
    "d_col = [\"일반직계\", \"별정직계(2018년이후)\", \"기타직계(2019년이후)\"]\n",
    "\n",
    "temp.drop(d_col, axis = 1, inplace = True)"
   ]
  },
  {
   "cell_type": "markdown",
   "id": "a2617eaa-f8f0-40e6-bbb4-64f30ac802b9",
   "metadata": {},
   "source": [
    "## (2) 필요없는 컬럼 삭제 2"
   ]
  },
  {
   "cell_type": "code",
   "execution_count": 99,
   "id": "6f9a73be-4ad4-4c4c-9550-373f715cea1e",
   "metadata": {},
   "outputs": [],
   "source": [
    "#temp.info()"
   ]
  },
  {
   "cell_type": "markdown",
   "id": "2314fd9e-81c5-40a1-a22f-408686b6480b",
   "metadata": {},
   "source": [
    "`-` 특수, 순회학급, 교사 구분 변수 제외"
   ]
  },
  {
   "cell_type": "code",
   "execution_count": 100,
   "id": "483bdec1-6e63-43ad-bd95-6e61e95a90e4",
   "metadata": {},
   "outputs": [],
   "source": [
    "#print(temp.columns.tolist())"
   ]
  },
  {
   "cell_type": "code",
   "execution_count": 101,
   "id": "abd40de5-3846-4420-b871-3e8687f6647e",
   "metadata": {},
   "outputs": [],
   "source": [
    "d_col = ['특수학급 학급당 학생수', '순회학급 학급당 학생수', '수석교사(계)', '전문상담교사(계)', '사서교사(계)', '보건교사(계)', '영양교사(계)']\n",
    "temp.drop(d_col, axis = 1, inplace = True)"
   ]
  },
  {
   "cell_type": "markdown",
   "id": "363a677a-3e0a-4bc4-b991-107ceb1b0779",
   "metadata": {},
   "source": [
    "## (3) 필요없는 컬럼 삭제 3"
   ]
  },
  {
   "cell_type": "code",
   "execution_count": 102,
   "id": "5b2472c2-7c5c-4b8d-809e-b824a7d758f6",
   "metadata": {},
   "outputs": [
    {
     "name": "stdout",
     "output_type": "stream",
     "text": [
      "<class 'pandas.core.frame.DataFrame'>\n",
      "RangeIndex: 5475 entries, 0 to 5474\n",
      "Data columns (total 67 columns):\n",
      " #   Column                                     Non-Null Count  Dtype  \n",
      "---  ------                                     --------------  -----  \n",
      " 0   key                                        5475 non-null   object \n",
      " 1   지역                                         5475 non-null   object \n",
      " 2   정보공시 학교코드                                  5475 non-null   object \n",
      " 3   학교명                                        5475 non-null   object \n",
      " 4   교과교실제(지정?운영)                               5475 non-null   int64  \n",
      " 5   자율학교(지정?운영)                                5475 non-null   int64  \n",
      " 6   수준별 수업(운영)                                 5475 non-null   int64  \n",
      " 7   전체학생수                                      5475 non-null   float64\n",
      " 8   연간1인당 보건실이용건수                              5475 non-null   float64\n",
      " 9   수업교원 1인당 학생수                               5475 non-null   float64\n",
      " 10  체육장 개방여부                                   5475 non-null   object \n",
      " 11  체육관 개방여부                                   5475 non-null   object \n",
      " 12  강당 개방여부                                    5475 non-null   object \n",
      " 13  일반교과교실 개방여부                                5475 non-null   object \n",
      " 14  특별교실 개방여부                                  5475 non-null   object \n",
      " 15  시청각실 개방여부                                  5475 non-null   object \n",
      " 16  체력 1등급 (%)                                 5475 non-null   float64\n",
      " 17  체력 2등급 (%)                                 5475 non-null   float64\n",
      " 18  체력 3등급 (%)                                 5475 non-null   float64\n",
      " 19  체력 4등급 (%)                                 5475 non-null   float64\n",
      " 20  체력 5등급 (%)                                 5475 non-null   float64\n",
      " 21  교육청금액                                      5475 non-null   float64\n",
      " 22  자치단체금액                                     5475 non-null   float64\n",
      " 23  보호자금액                                      5475 non-null   float64\n",
      " 24  보호자비율                                      5475 non-null   float64\n",
      " 25  금전및 유가증권금액                                 5475 non-null   float64\n",
      " 26  도서및 물품금액                                   5475 non-null   float64\n",
      " 27  수목시설및 재산금액                                 5475 non-null   float64\n",
      " 28  학교교육시설 보수확충금액                              5475 non-null   float64\n",
      " 29  교육용기자재 및도서금액                               5475 non-null   float64\n",
      " 30  학교체육학예 활동금액                                5475 non-null   float64\n",
      " 31  학생복지및 자치활동지원금액                             5475 non-null   float64\n",
      " 32  지도교사수-동아리?학생자치활동                           5475 non-null   int64  \n",
      " 33  지도교사수-또래활동                                 5475 non-null   int64  \n",
      " 34  지도교사수-교육주간 활동                              5475 non-null   int64  \n",
      " 35  지도교사수-기타 학교폭력 예방활동                         5475 non-null   int64  \n",
      " 36  참여학생수-동아리?학생자치활동                           5475 non-null   int64  \n",
      " 37  참여학생수-또래활동                                 5475 non-null   int64  \n",
      " 38  참여학생수-교육주간 활동                              5475 non-null   int64  \n",
      " 39  참여학생수-기타 학교폭력 예방활동                         5475 non-null   int64  \n",
      " 40  전체학생수_안전교육 계획 및 실시현황                       5475 non-null   int64  \n",
      " 41  생활안전교육 시간(단위활동차시)-합계                       5475 non-null   float64\n",
      " 42  교통안전교육 시간(단위활동차시)-합계                       5475 non-null   float64\n",
      " 43  폭력예방및신변보호교육 시간(단위활동차시)-합계                  5475 non-null   float64\n",
      " 44  약물중독예방교육 시간(단위활동차시) - 합계 (2020년 이후)        5475 non-null   float64\n",
      " 45  지능정보서비스과의존관련교육 시간(단위활동차시) - 합계 (2023년 이후)  5475 non-null   float64\n",
      " 46  직업안전교육 시간(단위활동차시)-합계                       5475 non-null   float64\n",
      " 47  응급처치교육 시간(단위활동차시)-합계                       5475 non-null   float64\n",
      " 48  주 출입구 접근로 설치여부                             5475 non-null   object \n",
      " 49  장애인 전용 주차구역 지정여부                           5475 non-null   object \n",
      " 50  주 출입구 높이차이 제거여부                            5475 non-null   object \n",
      " 51  출입구(문) 설치유무                                5475 non-null   object \n",
      " 52  복도                                         5475 non-null   object \n",
      " 53  계단/승강기/경사로/휠체어리프트 유무                       5475 non-null   object \n",
      " 54  장애인용 대변기 설치여부                              5475 non-null   object \n",
      " 55  장애인용 소변기 설치여부                              5475 non-null   object \n",
      " 56  점자블록 설치여부                                  5475 non-null   object \n",
      " 57  유도 및 안내설비 설치여부                             5475 non-null   object \n",
      " 58  경보 및 피난설비 설치여부                             5475 non-null   object \n",
      " 59  상담실적(내부상담전문가)                              5475 non-null   float64\n",
      " 60  상담실적(외부상담전문가)                              5475 non-null   float64\n",
      " 61  교수학습공간 일반교실                                5475 non-null   float64\n",
      " 62  교수학습공간 교과교실                                5475 non-null   float64\n",
      " 63  교수학습공간 수준별교실                               5475 non-null   float64\n",
      " 64  교수학습공간 특별교실                                5475 non-null   float64\n",
      " 65  학생자율동아리 동아리수                               5475 non-null   float64\n",
      " 66  창의적체험활동동아리 동아리수                            5475 non-null   float64\n",
      "dtypes: float64(34), int64(12), object(21)\n",
      "memory usage: 2.8+ MB\n"
     ]
    }
   ],
   "source": [
    "temp.info()"
   ]
  },
  {
   "cell_type": "markdown",
   "id": "53284e11-6cbc-4589-b9cc-4308e3d43746",
   "metadata": {},
   "source": [
    "`-` 일단 여기까지..."
   ]
  },
  {
   "cell_type": "code",
   "execution_count": 103,
   "id": "3b652710-0b4b-4bdb-975f-427a7500a3d5",
   "metadata": {},
   "outputs": [],
   "source": [
    "#pd.DataFrame({\"변수\" : temp.columns.tolist()}).to_csv(\"변수명.csv\", index = False, encoding = \"euc-kr\")"
   ]
  },
  {
   "cell_type": "code",
   "execution_count": 104,
   "id": "85141e67-d486-4b33-93d6-e0507065f452",
   "metadata": {},
   "outputs": [],
   "source": [
    "#temp.to_csv(\"통합1.csv\", index = False, encoding = \"euc-kr\")"
   ]
  },
  {
   "cell_type": "markdown",
   "id": "f54f6a61-6457-44ff-9e9c-a4fe5a9037b7",
   "metadata": {},
   "source": [
    "`-` 연간1인당 보건실이용건수는 학교 평가시 별 의미가 없는 변수인 것 같음....."
   ]
  },
  {
   "cell_type": "code",
   "execution_count": 105,
   "id": "d7d919c9-b068-4da2-8cb0-2501ae14d796",
   "metadata": {},
   "outputs": [
    {
     "name": "stdout",
     "output_type": "stream",
     "text": [
      "['key', '지역', '정보공시 학교코드', '학교명', '교과교실제(지정?운영)', '자율학교(지정?운영)', '수준별 수업(운영)', '전체학생수', '연간1인당 보건실이용건수', '수업교원 1인당 학생수', '체육장 개방여부', '체육관 개방여부', '강당 개방여부', '일반교과교실 개방여부', '특별교실 개방여부', '시청각실 개방여부', '체력 1등급 (%)', '체력 2등급 (%)', '체력 3등급 (%)', '체력 4등급 (%)', '체력 5등급 (%)', '교육청금액', '자치단체금액', '보호자금액', '보호자비율', '금전및 유가증권금액', '도서및 물품금액', '수목시설및 재산금액', '학교교육시설 보수확충금액', '교육용기자재 및도서금액', '학교체육학예 활동금액', '학생복지및 자치활동지원금액', '지도교사수-동아리?학생자치활동', '지도교사수-또래활동', '지도교사수-교육주간 활동', '지도교사수-기타 학교폭력 예방활동', '참여학생수-동아리?학생자치활동', '참여학생수-또래활동', '참여학생수-교육주간 활동', '참여학생수-기타 학교폭력 예방활동', '전체학생수_안전교육 계획 및 실시현황', '생활안전교육 시간(단위활동차시)-합계', '교통안전교육 시간(단위활동차시)-합계', '폭력예방및신변보호교육 시간(단위활동차시)-합계', '약물중독예방교육 시간(단위활동차시) - 합계 (2020년 이후)', '지능정보서비스과의존관련교육 시간(단위활동차시) - 합계 (2023년 이후)', '직업안전교육 시간(단위활동차시)-합계', '응급처치교육 시간(단위활동차시)-합계', '주 출입구 접근로 설치여부', '장애인 전용 주차구역 지정여부', '주 출입구 높이차이 제거여부', '출입구(문) 설치유무', '복도', '계단/승강기/경사로/휠체어리프트 유무', '장애인용 대변기 설치여부', '장애인용 소변기 설치여부', '점자블록 설치여부', '유도 및 안내설비 설치여부', '경보 및 피난설비 설치여부', '상담실적(내부상담전문가)', '상담실적(외부상담전문가)', '교수학습공간 일반교실', '교수학습공간 교과교실', '교수학습공간 수준별교실', '교수학습공간 특별교실', '학생자율동아리 동아리수', '창의적체험활동동아리 동아리수']\n"
     ]
    }
   ],
   "source": [
    "print(temp.columns.tolist())"
   ]
  },
  {
   "cell_type": "code",
   "execution_count": 106,
   "id": "c04017c5-c9c3-4f70-a4a1-17d0067087ba",
   "metadata": {},
   "outputs": [],
   "source": [
    "del_col = ['체력 1등급 (%)', '체력 2등급 (%)', '체력 3등급 (%)', '체력 4등급 (%)', '체력 5등급 (%)',\n",
    "'교육청금액', '자치단체금액', '보호자금액', '금전및 유가증권금액', '도서및 물품금액', '수목시설및 재산금액', '학교교육시설 보수확충금액', \n",
    " '교육용기자재 및도서금액', '학교체육학예 활동금액', '학생복지및 자치활동지원금액']"
   ]
  },
  {
   "cell_type": "code",
   "execution_count": 107,
   "id": "6938efde-bfb5-4c26-805a-a8b07c229507",
   "metadata": {},
   "outputs": [],
   "source": [
    "temp.drop(del_col, axis = 1, inplace = True)"
   ]
  },
  {
   "cell_type": "code",
   "execution_count": 108,
   "id": "cb6066a2-9a59-4457-8f1b-7b47d156fa78",
   "metadata": {},
   "outputs": [],
   "source": [
    "temp.to_csv(\"통합2.csv\", encoding = \"euc-kr\", index = False)"
   ]
  },
  {
   "cell_type": "code",
   "execution_count": 110,
   "id": "2fefe286-1610-495b-a1dc-038007b8c5b8",
   "metadata": {},
   "outputs": [
    {
     "data": {
      "text/plain": [
       "(5475, 52)"
      ]
     },
     "execution_count": 110,
     "metadata": {},
     "output_type": "execute_result"
    }
   ],
   "source": [
    "temp.shape"
   ]
  },
  {
   "cell_type": "markdown",
   "id": "180ec4ec-7cf3-48ef-b9f3-d44a31e6bf67",
   "metadata": {},
   "source": [
    "`-` 어떤 카테고리가 들어갔으면 좋겠다. 어떤 시각화가 들어갔으면 좋은지..."
   ]
  }
 ],
 "metadata": {
  "kernelspec": {
   "display_name": "Python 3 (ipykernel)",
   "language": "python",
   "name": "python3"
  },
  "language_info": {
   "codemirror_mode": {
    "name": "ipython",
    "version": 3
   },
   "file_extension": ".py",
   "mimetype": "text/x-python",
   "name": "python",
   "nbconvert_exporter": "python",
   "pygments_lexer": "ipython3",
   "version": "3.12.2"
  }
 },
 "nbformat": 4,
 "nbformat_minor": 5
}
