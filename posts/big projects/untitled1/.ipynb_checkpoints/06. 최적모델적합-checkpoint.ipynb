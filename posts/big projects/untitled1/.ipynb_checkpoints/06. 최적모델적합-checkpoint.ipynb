{
 "cells": [
  {
   "cell_type": "raw",
   "id": "3bf4f192-f527-4892-a8db-6c74eb740e04",
   "metadata": {},
   "source": [
    "---\n",
    "title : \"06. 최적 모델 적합\"\n",
    "author : \"gc\"\n",
    "date : \"06/26/24\"\n",
    "---"
   ]
  },
  {
   "cell_type": "markdown",
   "id": "90e7ba3b-de70-46c4-a119-9d5d31c3dcb5",
   "metadata": {},
   "source": [
    "# import"
   ]
  },
  {
   "cell_type": "code",
   "execution_count": 15,
   "id": "f0971705-5111-4da9-b8ae-0a4bef12ba5e",
   "metadata": {},
   "outputs": [
    {
     "ename": "SyntaxError",
     "evalue": "invalid character '¿' (U+00BF) (713952237.py, line 1)",
     "output_type": "error",
     "traceback": [
      "\u001b[1;36m  Cell \u001b[1;32mIn[15], line 1\u001b[1;36m\u001b[0m\n\u001b[1;33m    cross_val_score¿\u001b[0m\n\u001b[1;37m                   ^\u001b[0m\n\u001b[1;31mSyntaxError\u001b[0m\u001b[1;31m:\u001b[0m invalid character '¿' (U+00BF)\n"
     ]
    }
   ],
   "source": [
    "cross_val_score"
   ]
  },
  {
   "cell_type": "code",
   "execution_count": 14,
   "id": "b67775b8-d986-4108-8b0f-bd8d82907d3e",
   "metadata": {},
   "outputs": [],
   "source": [
    "# | code-fold : true\n",
    "\n",
    "import pandas as pd\n",
    "import os\n",
    "import numpy as np\n",
    "import warnings\n",
    "from sklearn.preprocessing import MinMaxScaler\n",
    "from sklearn.model_selection import train_test_split\n",
    "from sklearn.metrics import *\n",
    "import matplotlib.pyplot as plt\n",
    "import seaborn as sns\n",
    "from sklearn.model_selection import cross_val_score\n",
    "\n",
    "warnings.filterwarnings(action = \"ignore\")"
   ]
  },
  {
   "cell_type": "markdown",
   "id": "7aadd990-dd92-45c0-9744-02b8dad1813f",
   "metadata": {},
   "source": [
    "# 1. 데이터 로드"
   ]
  },
  {
   "cell_type": "code",
   "execution_count": 2,
   "id": "89458bbd-deed-4b36-a490-52d529f0246d",
   "metadata": {},
   "outputs": [],
   "source": [
    "data = pd.read_csv(\"final_data.csv\", encoding = \"euc-kr\")\n",
    "data = data.loc[:,\"x1\" : \"y\"]\n",
    "\n",
    "data[\"x6\"] = data[\"x6\"].astype(str)\n",
    "data[\"x7\"] = data[\"x6\"].astype(str)\n",
    "data[\"x8\"] = data[\"x6\"].astype(str)"
   ]
  },
  {
   "cell_type": "markdown",
   "id": "546c9d93-01af-47f7-9aab-1c5318beb455",
   "metadata": {},
   "source": [
    "***"
   ]
  },
  {
   "cell_type": "markdown",
   "id": "596f19a0-4241-4d4a-9ace-aa74963d34fd",
   "metadata": {},
   "source": [
    "# 2. 더미변수 변환"
   ]
  },
  {
   "cell_type": "code",
   "execution_count": 3,
   "id": "92349e58-5b23-4856-96dd-79bdfa20e4b1",
   "metadata": {},
   "outputs": [],
   "source": [
    "d_col = data.select_dtypes(\"O\").columns.values\n",
    "data1 = pd.get_dummies(data = data, columns = d_col, drop_first = True)"
   ]
  },
  {
   "cell_type": "markdown",
   "id": "c7240649-6874-41cd-97d4-03827ff987f7",
   "metadata": {},
   "source": [
    "## 3. 훈련, 평가 데이터 분리"
   ]
  },
  {
   "cell_type": "code",
   "execution_count": 4,
   "id": "4319cad3-e090-46f2-b37f-59c1aae0f43d",
   "metadata": {},
   "outputs": [],
   "source": [
    "target = \"y\"\n",
    "\n",
    "X = data1.drop(target, axis = 1)\n",
    "y = data1[target]"
   ]
  },
  {
   "cell_type": "code",
   "execution_count": 5,
   "id": "9ec80be0-d9dd-43a5-b35f-70b008418bc9",
   "metadata": {},
   "outputs": [],
   "source": [
    "from sklearn.model_selection import train_test_split\n",
    "\n",
    "# 8:2으로 분리\n",
    "x_train, x_test, y_train, y_test = train_test_split(X, y, test_size=0.3, random_state=1)"
   ]
  },
  {
   "cell_type": "markdown",
   "id": "49e50b42-7fb3-464b-a8e1-7ad4c212f288",
   "metadata": {},
   "source": [
    "***"
   ]
  },
  {
   "cell_type": "markdown",
   "id": "cb1e2905-81d1-4e6b-a96d-8901937e8b8c",
   "metadata": {},
   "source": [
    "# 3. cv기법을 이용하여 최적의 모델 선정"
   ]
  },
  {
   "cell_type": "markdown",
   "id": "edfe6838-5d11-43b8-be61-5337b16b902e",
   "metadata": {},
   "source": [
    "decision, randomforest, xgboost, lightgbm, cvm 총 5개의 모델을 비교"
   ]
  },
  {
   "cell_type": "code",
   "execution_count": 6,
   "id": "276504ad-2d8c-4f15-84bb-de5c16dcb33a",
   "metadata": {},
   "outputs": [],
   "source": [
    "cv_result = pd.DataFrame()\n",
    "\n",
    "cv_score = []"
   ]
  },
  {
   "cell_type": "markdown",
   "id": "ef8a5801-bb4f-4f67-95b9-77de6fbb5940",
   "metadata": {},
   "source": [
    "## (1) 의사결정나무"
   ]
  },
  {
   "cell_type": "code",
   "execution_count": 7,
   "id": "07c5df95-a50b-43fc-896d-d316f726d076",
   "metadata": {},
   "outputs": [],
   "source": [
    "from sklearn.tree import DecisionTreeRegressor\n",
    "\n",
    "tree = DecisionTreeRegressor(random_state = 2024)\n",
    "\n",
    "tree_cv = cross_val_score(tree, x_train, y_train, cv = 5)\n",
    "\n",
    "tree_cv_m = tree_cv.mean()\n",
    "\n",
    "cv_score.append(tree_cv_m)"
   ]
  },
  {
   "cell_type": "markdown",
   "id": "a36900a3-ba6a-47fc-b9f7-ddcd75b3b6e0",
   "metadata": {},
   "source": [
    "## (2) 랜덤포레스트"
   ]
  },
  {
   "cell_type": "code",
   "execution_count": 8,
   "id": "633cf1a3-f919-4f4a-a815-b762f7935e00",
   "metadata": {},
   "outputs": [],
   "source": [
    "from sklearn.ensemble import RandomForestRegressor\n",
    "\n",
    "rf = RandomForestRegressor(random_state = 2024)\n",
    "\n",
    "rf_cv = cross_val_score(rf, x_train, y_train, cv = 5)\n",
    "\n",
    "rf_cv_m = rf_cv.mean()\n",
    "\n",
    "cv_score.append(rf_cv_m)"
   ]
  },
  {
   "cell_type": "markdown",
   "id": "d0eb5917-0c94-41b3-bcea-5f047a0bff9a",
   "metadata": {},
   "source": [
    "## (3) xgboost"
   ]
  },
  {
   "cell_type": "code",
   "execution_count": 9,
   "id": "0dc1f773-277d-4dc9-bfc2-a8cb22d40a98",
   "metadata": {},
   "outputs": [],
   "source": [
    "from xgboost import XGBRegressor\n",
    "\n",
    "xgb = XGBRegressor(random_state = 2024)\n",
    "\n",
    "xgb_cv = cross_val_score(xgb, x_train, y_train, cv = 5)\n",
    "\n",
    "xgb_cv_m = xgb_cv.mean()\n",
    "\n",
    "cv_score.append(xgb_cv_m)"
   ]
  },
  {
   "cell_type": "markdown",
   "id": "2bdfe429-9738-4b0a-bb38-c0a19dd1a8a9",
   "metadata": {},
   "source": [
    "## (4) lightgbm"
   ]
  },
  {
   "cell_type": "code",
   "execution_count": 10,
   "id": "5f0837a4-21ed-48d8-81d0-6697374f5270",
   "metadata": {},
   "outputs": [],
   "source": [
    "from lightgbm import LGBMRegressor\n",
    "\n",
    "lgbm = LGBMRegressor(random_state = 2024,verbose = -100)\n",
    "\n",
    "lgbm_cv = cross_val_score(lgbm, x_train, y_train, cv = 5)\n",
    "\n",
    "lgbm_cv_m = lgbm_cv.mean()\n",
    "\n",
    "cv_score.append(lgbm_cv_m)"
   ]
  },
  {
   "cell_type": "markdown",
   "id": "9106a433-016b-4ed7-a30b-caf922b062b1",
   "metadata": {},
   "source": [
    "## (5) svm"
   ]
  },
  {
   "cell_type": "code",
   "execution_count": 11,
   "id": "25d209d8-f733-4c3b-84d7-b299f6d10a19",
   "metadata": {},
   "outputs": [],
   "source": [
    "from sklearn.svm import SVR\n",
    "\n",
    "svm = SVR()\n",
    "\n",
    "svm_cv = cross_val_score(svm, x_train, y_train, cv=5)\n",
    "\n",
    "svm_cv_m = svm_cv.mean()\n",
    "\n",
    "cv_score.append(svm_cv_m)"
   ]
  },
  {
   "cell_type": "markdown",
   "id": "a8ccee4b-619d-49e5-ad0f-16bbf26fcf94",
   "metadata": {},
   "source": [
    "## (6) 결과확인"
   ]
  },
  {
   "cell_type": "code",
   "execution_count": 12,
   "id": "7c964a96-5e51-493d-95e7-5a9865cbc444",
   "metadata": {},
   "outputs": [],
   "source": [
    "cv_result[\"cv_score\"] = cv_score\n",
    "cv_result[\"model\"] = [\"Decision Tree\", \"Random Fores\",\"Xgboost\",\"Lightgbm\", \"svm\"]"
   ]
  },
  {
   "cell_type": "code",
   "execution_count": 13,
   "id": "b0cdf9f3-200b-436e-9a56-5fcf5b7a7606",
   "metadata": {},
   "outputs": [
    {
     "ename": "PermissionError",
     "evalue": "[Errno 13] Permission denied: 'cv_result.csv'",
     "output_type": "error",
     "traceback": [
      "\u001b[1;31m---------------------------------------------------------------------------\u001b[0m",
      "\u001b[1;31mPermissionError\u001b[0m                           Traceback (most recent call last)",
      "Cell \u001b[1;32mIn[13], line 1\u001b[0m\n\u001b[1;32m----> 1\u001b[0m \u001b[43mcv_result\u001b[49m\u001b[38;5;241;43m.\u001b[39;49m\u001b[43mto_csv\u001b[49m\u001b[43m(\u001b[49m\u001b[38;5;124;43m\"\u001b[39;49m\u001b[38;5;124;43mcv_result.csv\u001b[39;49m\u001b[38;5;124;43m\"\u001b[39;49m\u001b[43m,\u001b[49m\u001b[43m \u001b[49m\u001b[43mencoding\u001b[49m\u001b[43m \u001b[49m\u001b[38;5;241;43m=\u001b[39;49m\u001b[43m \u001b[49m\u001b[38;5;124;43m\"\u001b[39;49m\u001b[38;5;124;43meuc-kr\u001b[39;49m\u001b[38;5;124;43m\"\u001b[39;49m\u001b[43m,\u001b[49m\u001b[43m \u001b[49m\u001b[43mindex\u001b[49m\u001b[43m \u001b[49m\u001b[38;5;241;43m=\u001b[39;49m\u001b[43m \u001b[49m\u001b[38;5;28;43;01mFalse\u001b[39;49;00m\u001b[43m)\u001b[49m\n",
      "File \u001b[1;32m~\\anaconda3\\envs\\r4-base\\Lib\\site-packages\\pandas\\util\\_decorators.py:333\u001b[0m, in \u001b[0;36mdeprecate_nonkeyword_arguments.<locals>.decorate.<locals>.wrapper\u001b[1;34m(*args, **kwargs)\u001b[0m\n\u001b[0;32m    327\u001b[0m \u001b[38;5;28;01mif\u001b[39;00m \u001b[38;5;28mlen\u001b[39m(args) \u001b[38;5;241m>\u001b[39m num_allow_args:\n\u001b[0;32m    328\u001b[0m     warnings\u001b[38;5;241m.\u001b[39mwarn(\n\u001b[0;32m    329\u001b[0m         msg\u001b[38;5;241m.\u001b[39mformat(arguments\u001b[38;5;241m=\u001b[39m_format_argument_list(allow_args)),\n\u001b[0;32m    330\u001b[0m         \u001b[38;5;167;01mFutureWarning\u001b[39;00m,\n\u001b[0;32m    331\u001b[0m         stacklevel\u001b[38;5;241m=\u001b[39mfind_stack_level(),\n\u001b[0;32m    332\u001b[0m     )\n\u001b[1;32m--> 333\u001b[0m \u001b[38;5;28;01mreturn\u001b[39;00m \u001b[43mfunc\u001b[49m\u001b[43m(\u001b[49m\u001b[38;5;241;43m*\u001b[39;49m\u001b[43margs\u001b[49m\u001b[43m,\u001b[49m\u001b[43m \u001b[49m\u001b[38;5;241;43m*\u001b[39;49m\u001b[38;5;241;43m*\u001b[39;49m\u001b[43mkwargs\u001b[49m\u001b[43m)\u001b[49m\n",
      "File \u001b[1;32m~\\anaconda3\\envs\\r4-base\\Lib\\site-packages\\pandas\\core\\generic.py:3964\u001b[0m, in \u001b[0;36mNDFrame.to_csv\u001b[1;34m(self, path_or_buf, sep, na_rep, float_format, columns, header, index, index_label, mode, encoding, compression, quoting, quotechar, lineterminator, chunksize, date_format, doublequote, escapechar, decimal, errors, storage_options)\u001b[0m\n\u001b[0;32m   3953\u001b[0m df \u001b[38;5;241m=\u001b[39m \u001b[38;5;28mself\u001b[39m \u001b[38;5;28;01mif\u001b[39;00m \u001b[38;5;28misinstance\u001b[39m(\u001b[38;5;28mself\u001b[39m, ABCDataFrame) \u001b[38;5;28;01melse\u001b[39;00m \u001b[38;5;28mself\u001b[39m\u001b[38;5;241m.\u001b[39mto_frame()\n\u001b[0;32m   3955\u001b[0m formatter \u001b[38;5;241m=\u001b[39m DataFrameFormatter(\n\u001b[0;32m   3956\u001b[0m     frame\u001b[38;5;241m=\u001b[39mdf,\n\u001b[0;32m   3957\u001b[0m     header\u001b[38;5;241m=\u001b[39mheader,\n\u001b[1;32m   (...)\u001b[0m\n\u001b[0;32m   3961\u001b[0m     decimal\u001b[38;5;241m=\u001b[39mdecimal,\n\u001b[0;32m   3962\u001b[0m )\n\u001b[1;32m-> 3964\u001b[0m \u001b[38;5;28;01mreturn\u001b[39;00m \u001b[43mDataFrameRenderer\u001b[49m\u001b[43m(\u001b[49m\u001b[43mformatter\u001b[49m\u001b[43m)\u001b[49m\u001b[38;5;241;43m.\u001b[39;49m\u001b[43mto_csv\u001b[49m\u001b[43m(\u001b[49m\n\u001b[0;32m   3965\u001b[0m \u001b[43m    \u001b[49m\u001b[43mpath_or_buf\u001b[49m\u001b[43m,\u001b[49m\n\u001b[0;32m   3966\u001b[0m \u001b[43m    \u001b[49m\u001b[43mlineterminator\u001b[49m\u001b[38;5;241;43m=\u001b[39;49m\u001b[43mlineterminator\u001b[49m\u001b[43m,\u001b[49m\n\u001b[0;32m   3967\u001b[0m \u001b[43m    \u001b[49m\u001b[43msep\u001b[49m\u001b[38;5;241;43m=\u001b[39;49m\u001b[43msep\u001b[49m\u001b[43m,\u001b[49m\n\u001b[0;32m   3968\u001b[0m \u001b[43m    \u001b[49m\u001b[43mencoding\u001b[49m\u001b[38;5;241;43m=\u001b[39;49m\u001b[43mencoding\u001b[49m\u001b[43m,\u001b[49m\n\u001b[0;32m   3969\u001b[0m \u001b[43m    \u001b[49m\u001b[43merrors\u001b[49m\u001b[38;5;241;43m=\u001b[39;49m\u001b[43merrors\u001b[49m\u001b[43m,\u001b[49m\n\u001b[0;32m   3970\u001b[0m \u001b[43m    \u001b[49m\u001b[43mcompression\u001b[49m\u001b[38;5;241;43m=\u001b[39;49m\u001b[43mcompression\u001b[49m\u001b[43m,\u001b[49m\n\u001b[0;32m   3971\u001b[0m \u001b[43m    \u001b[49m\u001b[43mquoting\u001b[49m\u001b[38;5;241;43m=\u001b[39;49m\u001b[43mquoting\u001b[49m\u001b[43m,\u001b[49m\n\u001b[0;32m   3972\u001b[0m \u001b[43m    \u001b[49m\u001b[43mcolumns\u001b[49m\u001b[38;5;241;43m=\u001b[39;49m\u001b[43mcolumns\u001b[49m\u001b[43m,\u001b[49m\n\u001b[0;32m   3973\u001b[0m \u001b[43m    \u001b[49m\u001b[43mindex_label\u001b[49m\u001b[38;5;241;43m=\u001b[39;49m\u001b[43mindex_label\u001b[49m\u001b[43m,\u001b[49m\n\u001b[0;32m   3974\u001b[0m \u001b[43m    \u001b[49m\u001b[43mmode\u001b[49m\u001b[38;5;241;43m=\u001b[39;49m\u001b[43mmode\u001b[49m\u001b[43m,\u001b[49m\n\u001b[0;32m   3975\u001b[0m \u001b[43m    \u001b[49m\u001b[43mchunksize\u001b[49m\u001b[38;5;241;43m=\u001b[39;49m\u001b[43mchunksize\u001b[49m\u001b[43m,\u001b[49m\n\u001b[0;32m   3976\u001b[0m \u001b[43m    \u001b[49m\u001b[43mquotechar\u001b[49m\u001b[38;5;241;43m=\u001b[39;49m\u001b[43mquotechar\u001b[49m\u001b[43m,\u001b[49m\n\u001b[0;32m   3977\u001b[0m \u001b[43m    \u001b[49m\u001b[43mdate_format\u001b[49m\u001b[38;5;241;43m=\u001b[39;49m\u001b[43mdate_format\u001b[49m\u001b[43m,\u001b[49m\n\u001b[0;32m   3978\u001b[0m \u001b[43m    \u001b[49m\u001b[43mdoublequote\u001b[49m\u001b[38;5;241;43m=\u001b[39;49m\u001b[43mdoublequote\u001b[49m\u001b[43m,\u001b[49m\n\u001b[0;32m   3979\u001b[0m \u001b[43m    \u001b[49m\u001b[43mescapechar\u001b[49m\u001b[38;5;241;43m=\u001b[39;49m\u001b[43mescapechar\u001b[49m\u001b[43m,\u001b[49m\n\u001b[0;32m   3980\u001b[0m \u001b[43m    \u001b[49m\u001b[43mstorage_options\u001b[49m\u001b[38;5;241;43m=\u001b[39;49m\u001b[43mstorage_options\u001b[49m\u001b[43m,\u001b[49m\n\u001b[0;32m   3981\u001b[0m \u001b[43m\u001b[49m\u001b[43m)\u001b[49m\n",
      "File \u001b[1;32m~\\anaconda3\\envs\\r4-base\\Lib\\site-packages\\pandas\\io\\formats\\format.py:1014\u001b[0m, in \u001b[0;36mDataFrameRenderer.to_csv\u001b[1;34m(self, path_or_buf, encoding, sep, columns, index_label, mode, compression, quoting, quotechar, lineterminator, chunksize, date_format, doublequote, escapechar, errors, storage_options)\u001b[0m\n\u001b[0;32m    993\u001b[0m     created_buffer \u001b[38;5;241m=\u001b[39m \u001b[38;5;28;01mFalse\u001b[39;00m\n\u001b[0;32m    995\u001b[0m csv_formatter \u001b[38;5;241m=\u001b[39m CSVFormatter(\n\u001b[0;32m    996\u001b[0m     path_or_buf\u001b[38;5;241m=\u001b[39mpath_or_buf,\n\u001b[0;32m    997\u001b[0m     lineterminator\u001b[38;5;241m=\u001b[39mlineterminator,\n\u001b[1;32m   (...)\u001b[0m\n\u001b[0;32m   1012\u001b[0m     formatter\u001b[38;5;241m=\u001b[39m\u001b[38;5;28mself\u001b[39m\u001b[38;5;241m.\u001b[39mfmt,\n\u001b[0;32m   1013\u001b[0m )\n\u001b[1;32m-> 1014\u001b[0m \u001b[43mcsv_formatter\u001b[49m\u001b[38;5;241;43m.\u001b[39;49m\u001b[43msave\u001b[49m\u001b[43m(\u001b[49m\u001b[43m)\u001b[49m\n\u001b[0;32m   1016\u001b[0m \u001b[38;5;28;01mif\u001b[39;00m created_buffer:\n\u001b[0;32m   1017\u001b[0m     \u001b[38;5;28;01massert\u001b[39;00m \u001b[38;5;28misinstance\u001b[39m(path_or_buf, StringIO)\n",
      "File \u001b[1;32m~\\anaconda3\\envs\\r4-base\\Lib\\site-packages\\pandas\\io\\formats\\csvs.py:251\u001b[0m, in \u001b[0;36mCSVFormatter.save\u001b[1;34m(self)\u001b[0m\n\u001b[0;32m    247\u001b[0m \u001b[38;5;250m\u001b[39m\u001b[38;5;124;03m\"\"\"\u001b[39;00m\n\u001b[0;32m    248\u001b[0m \u001b[38;5;124;03mCreate the writer & save.\u001b[39;00m\n\u001b[0;32m    249\u001b[0m \u001b[38;5;124;03m\"\"\"\u001b[39;00m\n\u001b[0;32m    250\u001b[0m \u001b[38;5;66;03m# apply compression and byte/text conversion\u001b[39;00m\n\u001b[1;32m--> 251\u001b[0m \u001b[38;5;28;01mwith\u001b[39;00m \u001b[43mget_handle\u001b[49m\u001b[43m(\u001b[49m\n\u001b[0;32m    252\u001b[0m \u001b[43m    \u001b[49m\u001b[38;5;28;43mself\u001b[39;49m\u001b[38;5;241;43m.\u001b[39;49m\u001b[43mfilepath_or_buffer\u001b[49m\u001b[43m,\u001b[49m\n\u001b[0;32m    253\u001b[0m \u001b[43m    \u001b[49m\u001b[38;5;28;43mself\u001b[39;49m\u001b[38;5;241;43m.\u001b[39;49m\u001b[43mmode\u001b[49m\u001b[43m,\u001b[49m\n\u001b[0;32m    254\u001b[0m \u001b[43m    \u001b[49m\u001b[43mencoding\u001b[49m\u001b[38;5;241;43m=\u001b[39;49m\u001b[38;5;28;43mself\u001b[39;49m\u001b[38;5;241;43m.\u001b[39;49m\u001b[43mencoding\u001b[49m\u001b[43m,\u001b[49m\n\u001b[0;32m    255\u001b[0m \u001b[43m    \u001b[49m\u001b[43merrors\u001b[49m\u001b[38;5;241;43m=\u001b[39;49m\u001b[38;5;28;43mself\u001b[39;49m\u001b[38;5;241;43m.\u001b[39;49m\u001b[43merrors\u001b[49m\u001b[43m,\u001b[49m\n\u001b[0;32m    256\u001b[0m \u001b[43m    \u001b[49m\u001b[43mcompression\u001b[49m\u001b[38;5;241;43m=\u001b[39;49m\u001b[38;5;28;43mself\u001b[39;49m\u001b[38;5;241;43m.\u001b[39;49m\u001b[43mcompression\u001b[49m\u001b[43m,\u001b[49m\n\u001b[0;32m    257\u001b[0m \u001b[43m    \u001b[49m\u001b[43mstorage_options\u001b[49m\u001b[38;5;241;43m=\u001b[39;49m\u001b[38;5;28;43mself\u001b[39;49m\u001b[38;5;241;43m.\u001b[39;49m\u001b[43mstorage_options\u001b[49m\u001b[43m,\u001b[49m\n\u001b[0;32m    258\u001b[0m \u001b[43m\u001b[49m\u001b[43m)\u001b[49m \u001b[38;5;28;01mas\u001b[39;00m handles:\n\u001b[0;32m    259\u001b[0m     \u001b[38;5;66;03m# Note: self.encoding is irrelevant here\u001b[39;00m\n\u001b[0;32m    260\u001b[0m     \u001b[38;5;28mself\u001b[39m\u001b[38;5;241m.\u001b[39mwriter \u001b[38;5;241m=\u001b[39m csvlib\u001b[38;5;241m.\u001b[39mwriter(\n\u001b[0;32m    261\u001b[0m         handles\u001b[38;5;241m.\u001b[39mhandle,\n\u001b[0;32m    262\u001b[0m         lineterminator\u001b[38;5;241m=\u001b[39m\u001b[38;5;28mself\u001b[39m\u001b[38;5;241m.\u001b[39mlineterminator,\n\u001b[1;32m   (...)\u001b[0m\n\u001b[0;32m    267\u001b[0m         quotechar\u001b[38;5;241m=\u001b[39m\u001b[38;5;28mself\u001b[39m\u001b[38;5;241m.\u001b[39mquotechar,\n\u001b[0;32m    268\u001b[0m     )\n\u001b[0;32m    270\u001b[0m     \u001b[38;5;28mself\u001b[39m\u001b[38;5;241m.\u001b[39m_save()\n",
      "File \u001b[1;32m~\\anaconda3\\envs\\r4-base\\Lib\\site-packages\\pandas\\io\\common.py:873\u001b[0m, in \u001b[0;36mget_handle\u001b[1;34m(path_or_buf, mode, encoding, compression, memory_map, is_text, errors, storage_options)\u001b[0m\n\u001b[0;32m    868\u001b[0m \u001b[38;5;28;01melif\u001b[39;00m \u001b[38;5;28misinstance\u001b[39m(handle, \u001b[38;5;28mstr\u001b[39m):\n\u001b[0;32m    869\u001b[0m     \u001b[38;5;66;03m# Check whether the filename is to be opened in binary mode.\u001b[39;00m\n\u001b[0;32m    870\u001b[0m     \u001b[38;5;66;03m# Binary mode does not support 'encoding' and 'newline'.\u001b[39;00m\n\u001b[0;32m    871\u001b[0m     \u001b[38;5;28;01mif\u001b[39;00m ioargs\u001b[38;5;241m.\u001b[39mencoding \u001b[38;5;129;01mand\u001b[39;00m \u001b[38;5;124m\"\u001b[39m\u001b[38;5;124mb\u001b[39m\u001b[38;5;124m\"\u001b[39m \u001b[38;5;129;01mnot\u001b[39;00m \u001b[38;5;129;01min\u001b[39;00m ioargs\u001b[38;5;241m.\u001b[39mmode:\n\u001b[0;32m    872\u001b[0m         \u001b[38;5;66;03m# Encoding\u001b[39;00m\n\u001b[1;32m--> 873\u001b[0m         handle \u001b[38;5;241m=\u001b[39m \u001b[38;5;28;43mopen\u001b[39;49m\u001b[43m(\u001b[49m\n\u001b[0;32m    874\u001b[0m \u001b[43m            \u001b[49m\u001b[43mhandle\u001b[49m\u001b[43m,\u001b[49m\n\u001b[0;32m    875\u001b[0m \u001b[43m            \u001b[49m\u001b[43mioargs\u001b[49m\u001b[38;5;241;43m.\u001b[39;49m\u001b[43mmode\u001b[49m\u001b[43m,\u001b[49m\n\u001b[0;32m    876\u001b[0m \u001b[43m            \u001b[49m\u001b[43mencoding\u001b[49m\u001b[38;5;241;43m=\u001b[39;49m\u001b[43mioargs\u001b[49m\u001b[38;5;241;43m.\u001b[39;49m\u001b[43mencoding\u001b[49m\u001b[43m,\u001b[49m\n\u001b[0;32m    877\u001b[0m \u001b[43m            \u001b[49m\u001b[43merrors\u001b[49m\u001b[38;5;241;43m=\u001b[39;49m\u001b[43merrors\u001b[49m\u001b[43m,\u001b[49m\n\u001b[0;32m    878\u001b[0m \u001b[43m            \u001b[49m\u001b[43mnewline\u001b[49m\u001b[38;5;241;43m=\u001b[39;49m\u001b[38;5;124;43m\"\u001b[39;49m\u001b[38;5;124;43m\"\u001b[39;49m\u001b[43m,\u001b[49m\n\u001b[0;32m    879\u001b[0m \u001b[43m        \u001b[49m\u001b[43m)\u001b[49m\n\u001b[0;32m    880\u001b[0m     \u001b[38;5;28;01melse\u001b[39;00m:\n\u001b[0;32m    881\u001b[0m         \u001b[38;5;66;03m# Binary mode\u001b[39;00m\n\u001b[0;32m    882\u001b[0m         handle \u001b[38;5;241m=\u001b[39m \u001b[38;5;28mopen\u001b[39m(handle, ioargs\u001b[38;5;241m.\u001b[39mmode)\n",
      "\u001b[1;31mPermissionError\u001b[0m: [Errno 13] Permission denied: 'cv_result.csv'"
     ]
    }
   ],
   "source": [
    "cv_result.to_csv(\"cv_result.csv\", encoding = \"euc-kr\", index = False)"
   ]
  },
  {
   "cell_type": "code",
   "execution_count": null,
   "id": "f595a8bb-3086-460b-89f9-4ad92d85d7fa",
   "metadata": {},
   "outputs": [],
   "source": [
    "fig = cv_result.plot(backend = \"plotly\", kind = \"bar\",\n",
    "               x = \"model\", y = \"cv_score\", color = \"model\", width = 700, height = 400,\n",
    "            title = \"cv score\")\n",
    "\n",
    "fig.update_yaxes(range = [0.85,1])\n",
    "fig.update_layout(title_x = 0.45,title_y = 0.85,\n",
    "                  title_font_size = 20)"
   ]
  },
  {
   "cell_type": "markdown",
   "id": "500ef488-9824-4ec1-bcb6-3d0a926117ea",
   "metadata": {},
   "source": [
    "`-` 가장 성능이 좋은 `Lightgbm` 모델을 튜닝하자"
   ]
  },
  {
   "cell_type": "markdown",
   "id": "881f8cae-41b8-46d3-8f14-00a5964723b3",
   "metadata": {},
   "source": [
    "***"
   ]
  },
  {
   "cell_type": "markdown",
   "id": "792e8cfb-4090-49e3-a0cc-15148b67fdb3",
   "metadata": {},
   "source": [
    "# 4. 모델 튜닝"
   ]
  },
  {
   "cell_type": "markdown",
   "id": "44a4499c-3532-4e05-9236-2650dfb445c4",
   "metadata": {},
   "source": [
    "## (1) 파라미터 설정"
   ]
  },
  {
   "cell_type": "code",
   "execution_count": null,
   "id": "dc33829f-a023-440d-8c49-a48427bcba33",
   "metadata": {},
   "outputs": [],
   "source": [
    "params = {\"max_depth\" : range(5,10),\n",
    "        \"learning_rate\" : [0.1, 0.2, 0.3, 0.4],\n",
    "        \"n_estimator\" : [100,150,200]}"
   ]
  },
  {
   "cell_type": "markdown",
   "id": "772a858e-507d-44f8-9a1b-2ec7c929c7dc",
   "metadata": {},
   "source": [
    "## (2) 설계"
   ]
  },
  {
   "cell_type": "code",
   "execution_count": null,
   "id": "02104e81-f2c5-49a4-9e38-dbabc6b5244d",
   "metadata": {},
   "outputs": [],
   "source": [
    "from sklearn.model_selection import GridSearchCV\n",
    "\n",
    "model = LGBMRegressor(verbose = -100)\n",
    "\n",
    "model = GridSearchCV(model,\n",
    "                     params,\n",
    "                     cv=5,\n",
    "                     scoring=\"r2\")"
   ]
  },
  {
   "cell_type": "markdown",
   "id": "e3f68ad4-090a-4542-a111-fd2f79b71cd1",
   "metadata": {},
   "source": [
    "## (3) 학습"
   ]
  },
  {
   "cell_type": "code",
   "execution_count": null,
   "id": "663264d2-9594-467c-a50a-38b7c5a71156",
   "metadata": {},
   "outputs": [],
   "source": [
    "model.fit(x_train, y_train)"
   ]
  },
  {
   "cell_type": "code",
   "execution_count": null,
   "id": "f9e19738-6c02-483d-ade2-1542b959bd93",
   "metadata": {},
   "outputs": [],
   "source": [
    "# 예측 결과 확인\n",
    "print(model.best_params_)\n",
    "print(model.best_score_)"
   ]
  },
  {
   "cell_type": "markdown",
   "id": "b7004076-5423-4f22-8a32-120984722e93",
   "metadata": {},
   "source": [
    "## (4) 변수중요도 산출"
   ]
  },
  {
   "cell_type": "code",
   "execution_count": null,
   "id": "91145ee6-25d3-40cc-9118-aeffdd7d58ed",
   "metadata": {},
   "outputs": [],
   "source": [
    "model_result = pd.DataFrame([model.best_estimator_.feature_name_,model.best_estimator_.feature_importances_]).T\n",
    "\n",
    "model_result.columns = [\"변수\", \"변수중요도\"]"
   ]
  },
  {
   "cell_type": "code",
   "execution_count": null,
   "id": "043fca0a-7844-4ad8-8cb1-b108781e3a5b",
   "metadata": {},
   "outputs": [],
   "source": [
    "model_result.sort_values(\"변수중요도\", inplace = True,ascending = False)"
   ]
  },
  {
   "cell_type": "code",
   "execution_count": null,
   "id": "4fa5f498-ffcf-496c-a984-fa423eb2e66e",
   "metadata": {},
   "outputs": [],
   "source": [
    "#model_result"
   ]
  },
  {
   "cell_type": "code",
   "execution_count": null,
   "id": "1d2ff616-dc05-4882-93b6-b35b71d04a3d",
   "metadata": {},
   "outputs": [],
   "source": [
    "fig = model_result.iloc[:10,:].plot(backend = \"plotly\", y = \"변수\", x = \"변수중요도\",\n",
    "                  kind = \"barh\", color = \"변수\",title = \"변수 중요도\",width = 600,height = 400)\n",
    "\n",
    "fig.update_layout(title_x = 0.5,title_y = 0.8,showlegend=False)"
   ]
  },
  {
   "cell_type": "code",
   "execution_count": null,
   "id": "be6c5bca-1291-4f4c-9ef8-fa6974360aae",
   "metadata": {},
   "outputs": [],
   "source": [
    "model_result.iloc[:10,:].to_csv(\"변수중요도.csv\",encoding = \"euc-kr\", index = False)"
   ]
  },
  {
   "cell_type": "markdown",
   "id": "68f9f3f6-91ff-4283-ba68-d5f20eeef1aa",
   "metadata": {},
   "source": [
    "## (5) 예측"
   ]
  },
  {
   "cell_type": "code",
   "execution_count": null,
   "id": "8213afd2-e418-443f-a112-d4fbaa96e8e5",
   "metadata": {},
   "outputs": [],
   "source": [
    "y_pred = model.predict(x_test)"
   ]
  },
  {
   "cell_type": "code",
   "execution_count": null,
   "id": "21f1a6a2-b0ba-43d1-9056-3a3bfb9cca89",
   "metadata": {},
   "outputs": [],
   "source": [
    "from sklearn.metrics import *\n",
    "\n",
    "mae = mean_absolute_error(y_test,y_pred)\n",
    "mse = mean_squared_error(y_test,y_pred)\n",
    "r2 = r2_score(y_test,y_pred)"
   ]
  },
  {
   "cell_type": "code",
   "execution_count": null,
   "id": "8d2c5821-9e0b-477d-9a09-7c04c0d7a37c",
   "metadata": {},
   "outputs": [],
   "source": [
    "measure = [\"MAE\",\"MSE\",\"R2-Square\"]\n",
    "\n",
    "predict_score = pd.DataFrame({\"measure\" : measure, \"score\" : [mae, mse, r2]})\n",
    "\n",
    "predict_score.to_csv(\"testdata예측성능결과지표.csv\",index = False, encoding = \"euc-kr\")"
   ]
  },
  {
   "cell_type": "code",
   "execution_count": null,
   "id": "c54f55bd-77fd-4d9b-a3f9-0e85dd19e567",
   "metadata": {},
   "outputs": [],
   "source": [
    "predict_score"
   ]
  },
  {
   "cell_type": "markdown",
   "id": "2cec8c5b-d724-46cb-ada4-e527c6e2218b",
   "metadata": {},
   "source": [
    "`-` 실제값과 예측값의 차이 시각화"
   ]
  },
  {
   "cell_type": "code",
   "execution_count": null,
   "id": "8c28bd7d-2fad-448b-8a71-cd2bb8724964",
   "metadata": {},
   "outputs": [],
   "source": [
    "#|code-fold : true\n",
    "compare_data = pd.DataFrame({\"y_true\" : y_test.values,\n",
    "                             \"y_pred\" : y_pred,\n",
    "                             \"index\" : range(0,len(y_pred))})\n",
    "\n",
    "compare_data = compare_data.melt(id_vars=[\"index\"],var_name = \"구분\").sort_values(\"index\")\n",
    "\n",
    "compare_data.replace([\"y_pred\",\"y_true\"],[\"예측값\",\"실제값\"], inplace = True)"
   ]
  },
  {
   "cell_type": "code",
   "execution_count": null,
   "id": "6cd54fe5-dbfb-4820-b2a2-6ddeefe419f0",
   "metadata": {},
   "outputs": [],
   "source": [
    "#|code-fold : true\n",
    "fig = compare_data.plot(kind = \"scatter\", backend = \"plotly\",\n",
    "                   x = \"index\", y = \"value\", color = \"구분\", \n",
    "                   opacity = 0.4, title = \"실제값 vs 예측값\",width = 600,height = 400)\n",
    "\n",
    "fig.update_layout(title_x = 0.48, title_y = 0.82,\n",
    "                  title_font_size = 18,\n",
    "                 title_font_family = \"Times\",\n",
    "                 title_font_color = \"blue\",       \n",
    "                  title_xanchor = 'center',\n",
    "                title_yanchor ='middle',)"
   ]
  },
  {
   "cell_type": "markdown",
   "id": "79996362-d9ae-47c6-b17a-83834aabc7db",
   "metadata": {},
   "source": [
    "## (6) 모델저장"
   ]
  },
  {
   "cell_type": "code",
   "execution_count": null,
   "id": "b00d9857-1973-45c6-9f86-2e109b4b4395",
   "metadata": {},
   "outputs": [],
   "source": [
    "import joblib"
   ]
  },
  {
   "cell_type": "code",
   "execution_count": null,
   "id": "e5ce157e-b637-4ab0-9ec1-c2c9ee97f3ad",
   "metadata": {},
   "outputs": [],
   "source": [
    "joblib.dump(model,\"best_model.pkl\")"
   ]
  },
  {
   "cell_type": "markdown",
   "id": "830456e2-5517-4fcb-a24f-3820bf46e6b8",
   "metadata": {},
   "source": [
    "## (7) 모델 불러온 후 확인하기"
   ]
  },
  {
   "cell_type": "code",
   "execution_count": null,
   "id": "dec6f13f-8d04-4ce4-88a5-64fe63e13907",
   "metadata": {},
   "outputs": [],
   "source": [
    "model = joblib.load(\"best_model.pkl\")"
   ]
  },
  {
   "cell_type": "code",
   "execution_count": null,
   "id": "d343a67b-31bf-4b16-b51b-cc81c22b32d2",
   "metadata": {},
   "outputs": [],
   "source": [
    "model.predict(x_test)"
   ]
  },
  {
   "cell_type": "markdown",
   "id": "7d79a811-4d5b-40bb-91aa-4eb87a1de855",
   "metadata": {},
   "source": [
    "***"
   ]
  },
  {
   "cell_type": "markdown",
   "id": "7fbd6f3b-4c46-462c-8de7-23f82e9c5cf0",
   "metadata": {},
   "source": [
    "# 5. summary"
   ]
  },
  {
   "cell_type": "markdown",
   "id": "fd26f219-71a4-4f59-959b-fe40d3c3732a",
   "metadata": {},
   "source": [
    "`1` cross-validation 기법을 이용하여 5개의 모델을 비교\n",
    "\n",
    "* 의사결정나무, 랜덤포레스트, xgboost, lightgbm, svm 비교\n",
    "\n",
    "* lightgbm이 가장 좋은 성능을 보임\n",
    "\n",
    "`2` 최종 예측모델을 lightgbm으로 선정 후, 모델 튜닝\n",
    "\n",
    "* 최대 나무의 깊이, 학습률, 나무의 개수를 다음과 같이 파라미터로 설정 후, 최적의 파라미터를 산출\n",
    "\n",
    "```python\n",
    "params = {\"max_depth\" : range(5,10),\n",
    "        \"learning_rate\" : [0.1, 0.2, 0.3, 0.4],\n",
    "        \"n_estimator\" : [100,150,200]}\n",
    "\n",
    "```\n",
    "\n",
    "* 결정계수값을 기준으로 그리드 서치를 진행한 결과 `'learning_rate': 0.1, 'max_depth': 5, 'n_estimator': 100`인 경우가 가장 최적의 성능을 보임\n",
    "\n",
    "`3` 예측력에 영향을 주는 상위 10개 변수 산출\n"
   ]
  },
  {
   "cell_type": "code",
   "execution_count": null,
   "id": "d740219a-433a-4ea7-992d-cde71688c719",
   "metadata": {},
   "outputs": [],
   "source": [
    "#|code-fold : true\n",
    "model_result[:10]"
   ]
  },
  {
   "cell_type": "markdown",
   "id": "8c749d37-c7f0-48f7-b4ad-8bf922d2b272",
   "metadata": {},
   "source": [
    "`4` test 데이터에 대한 예측 결과\n",
    "\n",
    "* MAE,MSE, R2-square값을 기준으로 예측성능을 측정한 결과"
   ]
  },
  {
   "cell_type": "code",
   "execution_count": null,
   "id": "f383f995-bf83-4e1b-9600-ff2fcb5ef038",
   "metadata": {},
   "outputs": [],
   "source": [
    "#|code-fold : true\n",
    "predict_score"
   ]
  },
  {
   "cell_type": "markdown",
   "id": "64d9d559-b206-4d3a-8924-9890c272ef87",
   "metadata": {},
   "source": [
    "`5` 예측값과 실제값이 차이가 얼마나 나는지 비교 시각화"
   ]
  },
  {
   "cell_type": "markdown",
   "id": "d5365993-aaef-4257-a3b1-8d4ae12b1c7e",
   "metadata": {},
   "source": [
    "* 모델을 정말 잘 설계한 것 같다..!!!"
   ]
  },
  {
   "cell_type": "code",
   "execution_count": null,
   "id": "90833337-b37b-40da-a14d-5313890bbb0b",
   "metadata": {},
   "outputs": [],
   "source": [
    "#|code-fold : true\n",
    "\n",
    "fig = compare_data.plot(kind = \"scatter\", backend = \"plotly\",\n",
    "                   x = \"index\", y = \"value\", color = \"구분\", \n",
    "                   opacity = 0.4, title = \"실제값 vs 예측값\",width = 600,height = 400)\n",
    "\n",
    "fig.update_layout(title_x = 0.48, title_y = 0.82,\n",
    "                  title_font_size = 18,\n",
    "                 title_font_family = \"Times\",\n",
    "                 title_font_color = \"blue\",       \n",
    "                  title_xanchor = 'center',\n",
    "                title_yanchor ='middle',)"
   ]
  }
 ],
 "metadata": {
  "kernelspec": {
   "display_name": "Python 3 (ipykernel)",
   "language": "python",
   "name": "python3"
  },
  "language_info": {
   "codemirror_mode": {
    "name": "ipython",
    "version": 3
   },
   "file_extension": ".py",
   "mimetype": "text/x-python",
   "name": "python",
   "nbconvert_exporter": "python",
   "pygments_lexer": "ipython3",
   "version": "3.12.2"
  }
 },
 "nbformat": 4,
 "nbformat_minor": 5
}
