{
 "cells": [
  {
   "cell_type": "raw",
   "id": "8939e38d-c7d5-44d0-9ce2-0901a46bb340",
   "metadata": {},
   "source": [
    "---\n",
    "title : \"04. 데이터 전처리 (1)\"\n",
    "author : \"gc\"\n",
    "date : \"06/25/24\"\n",
    "---"
   ]
  },
  {
   "cell_type": "markdown",
   "id": "b55a6bea-f5a9-409e-826a-a70232ea6855",
   "metadata": {},
   "source": [
    "# import"
   ]
  },
  {
   "cell_type": "code",
   "execution_count": 113,
   "id": "c581f4c9-6f92-4078-91ae-75bda1dad529",
   "metadata": {},
   "outputs": [],
   "source": [
    "# | code-fold : true\n",
    "\n",
    "import pandas as pd\n",
    "import os\n",
    "import numpy as np\n",
    "import warnings\n",
    "\n",
    "warnings.filterwarnings(action = \"ignore\")"
   ]
  },
  {
   "cell_type": "markdown",
   "id": "c1abb1aa-f210-4b27-88e8-66eba7d3417a",
   "metadata": {},
   "source": [
    "# 1. 데이터 로드"
   ]
  },
  {
   "cell_type": "code",
   "execution_count": 114,
   "id": "7889ae9b-26f1-4c0c-85e2-7c67a15d5715",
   "metadata": {},
   "outputs": [],
   "source": [
    "df = pd.read_csv(\"통합2.csv\", encoding = \"euc-kr\")"
   ]
  },
  {
   "cell_type": "code",
   "execution_count": 115,
   "id": "d8afdf50-ab63-4212-9378-98b1db5f8f96",
   "metadata": {},
   "outputs": [
    {
     "name": "stdout",
     "output_type": "stream",
     "text": [
      "<class 'pandas.core.frame.DataFrame'>\n",
      "RangeIndex: 5475 entries, 0 to 5474\n",
      "Data columns (total 52 columns):\n",
      " #   Column                                     Non-Null Count  Dtype  \n",
      "---  ------                                     --------------  -----  \n",
      " 0   key                                        5475 non-null   object \n",
      " 1   지역                                         5475 non-null   object \n",
      " 2   정보공시 학교코드                                  5475 non-null   object \n",
      " 3   학교명                                        5475 non-null   object \n",
      " 4   교과교실제(지정?운영)                               5475 non-null   int64  \n",
      " 5   자율학교(지정?운영)                                5475 non-null   int64  \n",
      " 6   수준별 수업(운영)                                 5475 non-null   int64  \n",
      " 7   전체학생수                                      5475 non-null   float64\n",
      " 8   연간1인당 보건실이용건수                              5475 non-null   float64\n",
      " 9   수업교원 1인당 학생수                               5475 non-null   float64\n",
      " 10  체육장 개방여부                                   5475 non-null   object \n",
      " 11  체육관 개방여부                                   5475 non-null   object \n",
      " 12  강당 개방여부                                    5475 non-null   object \n",
      " 13  일반교과교실 개방여부                                5475 non-null   object \n",
      " 14  특별교실 개방여부                                  5475 non-null   object \n",
      " 15  시청각실 개방여부                                  5475 non-null   object \n",
      " 16  보호자비율                                      5475 non-null   float64\n",
      " 17  지도교사수-동아리?학생자치활동                           5475 non-null   int64  \n",
      " 18  지도교사수-또래활동                                 5475 non-null   int64  \n",
      " 19  지도교사수-교육주간 활동                              5475 non-null   int64  \n",
      " 20  지도교사수-기타 학교폭력 예방활동                         5475 non-null   int64  \n",
      " 21  참여학생수-동아리?학생자치활동                           5475 non-null   int64  \n",
      " 22  참여학생수-또래활동                                 5475 non-null   int64  \n",
      " 23  참여학생수-교육주간 활동                              5475 non-null   int64  \n",
      " 24  참여학생수-기타 학교폭력 예방활동                         5475 non-null   int64  \n",
      " 25  전체학생수_안전교육 계획 및 실시현황                       5475 non-null   int64  \n",
      " 26  생활안전교육 시간(단위활동차시)-합계                       5475 non-null   float64\n",
      " 27  교통안전교육 시간(단위활동차시)-합계                       5475 non-null   float64\n",
      " 28  폭력예방및신변보호교육 시간(단위활동차시)-합계                  5475 non-null   float64\n",
      " 29  약물중독예방교육 시간(단위활동차시) - 합계 (2020년 이후)        5475 non-null   float64\n",
      " 30  지능정보서비스과의존관련교육 시간(단위활동차시) - 합계 (2023년 이후)  5475 non-null   float64\n",
      " 31  직업안전교육 시간(단위활동차시)-합계                       5475 non-null   float64\n",
      " 32  응급처치교육 시간(단위활동차시)-합계                       5475 non-null   float64\n",
      " 33  주 출입구 접근로 설치여부                             5475 non-null   object \n",
      " 34  장애인 전용 주차구역 지정여부                           5475 non-null   object \n",
      " 35  주 출입구 높이차이 제거여부                            5475 non-null   object \n",
      " 36  출입구(문) 설치유무                                5475 non-null   object \n",
      " 37  복도                                         5475 non-null   object \n",
      " 38  계단/승강기/경사로/휠체어리프트 유무                       5475 non-null   object \n",
      " 39  장애인용 대변기 설치여부                              5475 non-null   object \n",
      " 40  장애인용 소변기 설치여부                              5475 non-null   object \n",
      " 41  점자블록 설치여부                                  5475 non-null   object \n",
      " 42  유도 및 안내설비 설치여부                             5475 non-null   object \n",
      " 43  경보 및 피난설비 설치여부                             5475 non-null   object \n",
      " 44  상담실적(내부상담전문가)                              5475 non-null   float64\n",
      " 45  상담실적(외부상담전문가)                              5475 non-null   float64\n",
      " 46  교수학습공간 일반교실                                5475 non-null   float64\n",
      " 47  교수학습공간 교과교실                                5475 non-null   float64\n",
      " 48  교수학습공간 수준별교실                               5475 non-null   float64\n",
      " 49  교수학습공간 특별교실                                5475 non-null   float64\n",
      " 50  학생자율동아리 동아리수                               5475 non-null   float64\n",
      " 51  창의적체험활동동아리 동아리수                            5475 non-null   float64\n",
      "dtypes: float64(19), int64(12), object(21)\n",
      "memory usage: 2.2+ MB\n"
     ]
    }
   ],
   "source": [
    "df.info()"
   ]
  },
  {
   "cell_type": "markdown",
   "id": "e60d4cfc-c442-4e09-922c-4d774c1695c8",
   "metadata": {},
   "source": [
    "전체 학생 수가 0인 학교 지우기"
   ]
  },
  {
   "cell_type": "code",
   "execution_count": 116,
   "id": "4776f111-8860-400c-b1f1-7ddc61c45ac3",
   "metadata": {},
   "outputs": [],
   "source": [
    "df = df.loc[df[\"전체학생수\"]!= 0, :]"
   ]
  },
  {
   "cell_type": "markdown",
   "id": "3a6aa316-257d-4e68-9e3b-432e8f98c886",
   "metadata": {},
   "source": [
    "# 2. 카테고리 정하기"
   ]
  },
  {
   "cell_type": "markdown",
   "id": "38ff104f-1c75-433c-ae2c-ab79bcc77020",
   "metadata": {},
   "source": [
    "2024 학교평가 지표를 살펴보면 다음과 같이 크게 총 3개의 영역으로 나뉨"
   ]
  },
  {
   "cell_type": "markdown",
   "id": "7ee405ee-7a59-41df-b271-2bf84163f552",
   "metadata": {},
   "source": [
    "<center><img src = \"1.png\" width = 350></center>"
   ]
  },
  {
   "cell_type": "markdown",
   "id": "b63609fd-8811-40b6-8523-ffcdb08cc049",
   "metadata": {},
   "source": [
    "이를 바탕으로 우리가 수집한 데이터에서 다음과 같은 영역을 평가하는 지표를 세우고 각 지표당 10점 씩 총 30점을 산출해보자"
   ]
  },
  {
   "cell_type": "markdown",
   "id": "fb1120c6-fd9a-4522-8d48-25520670921c",
   "metadata": {},
   "source": [
    "## (1) 학교자치문화"
   ]
  },
  {
   "cell_type": "markdown",
   "id": "ebb62c20-60a4-4eca-a000-8df5c5dbf1d0",
   "metadata": {},
   "source": [
    "`-` 학교자치문화 영역을 평가할 수 있는 변수를 산출해보자"
   ]
  },
  {
   "cell_type": "markdown",
   "id": "3c606147-0c5d-423d-9759-47d1c9fba4ae",
   "metadata": {},
   "source": [
    "<center><img src = \"2.png\" width = 350></center>"
   ]
  },
  {
   "cell_type": "markdown",
   "id": "252bf57c-9503-4b31-8258-03f3e579df96",
   "metadata": {},
   "source": [
    "* 학교자치문화라는 것은 결국, 교육환경, 적절한 예산활용성을 보는 것 같다.\n",
    "\n",
    "* 이를 평가하기 위한 적절한 변수들을 걸러내보자"
   ]
  },
  {
   "cell_type": "code",
   "execution_count": 117,
   "id": "b0181d73-ea86-4ae5-a012-ec582457137a",
   "metadata": {},
   "outputs": [
    {
     "name": "stdout",
     "output_type": "stream",
     "text": [
      "['key', '지역', '정보공시 학교코드', '학교명', '교과교실제(지정?운영)', '자율학교(지정?운영)', '수준별 수업(운영)', '전체학생수', '연간1인당 보건실이용건수', '수업교원 1인당 학생수', '체육장 개방여부', '체육관 개방여부', '강당 개방여부', '일반교과교실 개방여부', '특별교실 개방여부', '시청각실 개방여부', '보호자비율', '지도교사수-동아리?학생자치활동', '지도교사수-또래활동', '지도교사수-교육주간 활동', '지도교사수-기타 학교폭력 예방활동', '참여학생수-동아리?학생자치활동', '참여학생수-또래활동', '참여학생수-교육주간 활동', '참여학생수-기타 학교폭력 예방활동', '전체학생수_안전교육 계획 및 실시현황', '생활안전교육 시간(단위활동차시)-합계', '교통안전교육 시간(단위활동차시)-합계', '폭력예방및신변보호교육 시간(단위활동차시)-합계', '약물중독예방교육 시간(단위활동차시) - 합계 (2020년 이후)', '지능정보서비스과의존관련교육 시간(단위활동차시) - 합계 (2023년 이후)', '직업안전교육 시간(단위활동차시)-합계', '응급처치교육 시간(단위활동차시)-합계', '주 출입구 접근로 설치여부', '장애인 전용 주차구역 지정여부', '주 출입구 높이차이 제거여부', '출입구(문) 설치유무', '복도', '계단/승강기/경사로/휠체어리프트 유무', '장애인용 대변기 설치여부', '장애인용 소변기 설치여부', '점자블록 설치여부', '유도 및 안내설비 설치여부', '경보 및 피난설비 설치여부', '상담실적(내부상담전문가)', '상담실적(외부상담전문가)', '교수학습공간 일반교실', '교수학습공간 교과교실', '교수학습공간 수준별교실', '교수학습공간 특별교실', '학생자율동아리 동아리수', '창의적체험활동동아리 동아리수']\n"
     ]
    }
   ],
   "source": [
    "print(df.columns.tolist())"
   ]
  },
  {
   "cell_type": "code",
   "execution_count": 118,
   "id": "3caac1ae-8fc2-434e-a52a-dd73763981c1",
   "metadata": {},
   "outputs": [],
   "source": [
    "var1 = ['key', '지역', '정보공시 학교코드', '학교명','수업교원 1인당 학생수', '일반교과교실 개방여부', '특별교실 개방여부', \n",
    "        '시청각실 개방여부','학생자율동아리 동아리수', '창의적체험활동동아리 동아리수']"
   ]
  },
  {
   "cell_type": "code",
   "execution_count": 119,
   "id": "ae6fcb77-6425-4a2d-bbe4-28976eed1ee0",
   "metadata": {},
   "outputs": [],
   "source": [
    "c1 = df[var1]\n",
    "\n",
    "df.drop(var1, axis = 1, inplace = True)"
   ]
  },
  {
   "cell_type": "code",
   "execution_count": 120,
   "id": "6f81f1c3-4097-472d-b04b-fdcf8db01549",
   "metadata": {},
   "outputs": [
    {
     "name": "stdout",
     "output_type": "stream",
     "text": [
      "<class 'pandas.core.frame.DataFrame'>\n",
      "Index: 5456 entries, 0 to 5474\n",
      "Data columns (total 10 columns):\n",
      " #   Column           Non-Null Count  Dtype  \n",
      "---  ------           --------------  -----  \n",
      " 0   key              5456 non-null   object \n",
      " 1   지역               5456 non-null   object \n",
      " 2   정보공시 학교코드        5456 non-null   object \n",
      " 3   학교명              5456 non-null   object \n",
      " 4   수업교원 1인당 학생수     5456 non-null   float64\n",
      " 5   일반교과교실 개방여부      5456 non-null   object \n",
      " 6   특별교실 개방여부        5456 non-null   object \n",
      " 7   시청각실 개방여부        5456 non-null   object \n",
      " 8   학생자율동아리 동아리수     5456 non-null   float64\n",
      " 9   창의적체험활동동아리 동아리수  5456 non-null   float64\n",
      "dtypes: float64(3), object(7)\n",
      "memory usage: 468.9+ KB\n"
     ]
    }
   ],
   "source": [
    "c1.info()"
   ]
  },
  {
   "cell_type": "markdown",
   "id": "0f4bed0e-1c37-4e5d-bccb-e60c8aafa314",
   "metadata": {},
   "source": [
    "학교자치문화 평가를 위해 총 6개의 변수를 채택하였다.\n",
    "\n",
    "### a. 시설 개방여부 컬럼"
   ]
  },
  {
   "cell_type": "markdown",
   "id": "801c8953-1d7e-4247-a270-5f0d4ab4e3a2",
   "metadata": {},
   "source": [
    "일반교과교실, 특별교실, 시청각실은 교원이 교육활동에 전념할 수 있는 정도를 평가할 수 있는 평가지표이다."
   ]
  },
  {
   "cell_type": "code",
   "execution_count": 121,
   "id": "16be874a-80ed-403e-a277-adb7757c8328",
   "metadata": {},
   "outputs": [
    {
     "name": "stdout",
     "output_type": "stream",
     "text": [
      "['무' '시설없음' '유']\n",
      "['무' '시설없음' '유']\n",
      "['무' '시설없음' '유']\n"
     ]
    }
   ],
   "source": [
    "print(c1['일반교과교실 개방여부'].unique())\n",
    "print(c1['특별교실 개방여부'].unique())\n",
    "print(c1['시청각실 개방여부'].unique())"
   ]
  },
  {
   "cell_type": "markdown",
   "id": "0e861c8b-80cf-4fff-a285-59775ca3baaa",
   "metadata": {},
   "source": [
    "* 개방여부가 `유`이면 2점 아니면 0점 이라고 표기하자"
   ]
  },
  {
   "cell_type": "code",
   "execution_count": 122,
   "id": "3873378c-c634-4e15-8240-a4d26a86e6a9",
   "metadata": {},
   "outputs": [],
   "source": [
    "c1[\"x1\"] = c1['일반교과교실 개방여부']\n",
    "c1[\"x2\"] = c1['특별교실 개방여부']\n",
    "c1[\"x3\"] = c1['시청각실 개방여부']"
   ]
  },
  {
   "cell_type": "markdown",
   "id": "f14d7e8c-ed5c-40d3-b90b-4b22b75b2eae",
   "metadata": {},
   "source": [
    "### b. 수업교원 1인당 학생수 "
   ]
  },
  {
   "cell_type": "markdown",
   "id": "e85ac560-b12b-4d20-afb9-daf3bbfc0024",
   "metadata": {},
   "source": [
    "수업교원 1인당 학생수는 교원의 업무 강도와 연관된다고 볼 수 있다."
   ]
  },
  {
   "cell_type": "code",
   "execution_count": 123,
   "id": "fada866e-5c92-495f-9cfe-d3d70b2ff9e4",
   "metadata": {},
   "outputs": [],
   "source": [
    "c1[\"x4\"] = c1[\"수업교원 1인당 학생수\"]"
   ]
  },
  {
   "cell_type": "markdown",
   "id": "94da9076-84ca-45a6-9167-ca3fd73e0e23",
   "metadata": {},
   "source": [
    "### c. 학생자율동아리 동아리수, 창의적체험활동동아리 동아리수"
   ]
  },
  {
   "cell_type": "markdown",
   "id": "54df6ed7-a0a3-4336-ac98-090490e531e9",
   "metadata": {},
   "source": [
    "동아리 활동은 학생들이 소통과 공감 자율과 책임을 기반으로 해당 학교가 얼마나 민주적 학교문화 분위기를 조성하는지 판단할 수 있는 지표이다."
   ]
  },
  {
   "cell_type": "markdown",
   "id": "20e9efe1-d286-4f8c-957f-2aa9abe55fc7",
   "metadata": {},
   "source": [
    "- 학생 100명당 동아리수"
   ]
  },
  {
   "cell_type": "code",
   "execution_count": 124,
   "id": "5ec08edb-d02b-471c-9420-b778b4f72a8b",
   "metadata": {},
   "outputs": [],
   "source": [
    "c1[\"x5\"] = (c1['학생자율동아리 동아리수'] +  c1['창의적체험활동동아리 동아리수'])/df[\"전체학생수\"]*100"
   ]
  },
  {
   "cell_type": "markdown",
   "id": "13ae3225-c688-4ca5-9253-8fe26585e110",
   "metadata": {},
   "source": [
    "### d. 컬럼 select"
   ]
  },
  {
   "cell_type": "code",
   "execution_count": 125,
   "id": "2a4e6ba1-468f-49f5-b623-4ee8dcb68e00",
   "metadata": {},
   "outputs": [],
   "source": [
    "select_col = [\"key\", \"지역\", \"정보공시 학교코드\", \"학교명\", \"x1\",\"x2\",\"x3\",\"x4\",\"x5\"]\n",
    "\n",
    "c1 = c1[select_col]"
   ]
  },
  {
   "cell_type": "markdown",
   "id": "00316cc4-2168-4da2-8177-4cbaa255c74d",
   "metadata": {},
   "source": [
    "***"
   ]
  },
  {
   "cell_type": "markdown",
   "id": "c18c8980-58d6-4b03-8a69-bce5d39709ad",
   "metadata": {},
   "source": [
    "## (2) 교육과정 편성운영"
   ]
  },
  {
   "cell_type": "markdown",
   "id": "7fb00e35-b7ac-4cc2-ae1e-90aa56bbc2e5",
   "metadata": {},
   "source": [
    "<center><img src = \"3.png\" width = 350></center>"
   ]
  },
  {
   "cell_type": "code",
   "execution_count": 126,
   "id": "99d511d3-1242-459d-a041-3683b0e604e9",
   "metadata": {},
   "outputs": [
    {
     "name": "stdout",
     "output_type": "stream",
     "text": [
      "['교과교실제(지정?운영)', '자율학교(지정?운영)', '수준별 수업(운영)', '전체학생수', '연간1인당 보건실이용건수', '체육장 개방여부', '체육관 개방여부', '강당 개방여부', '보호자비율', '지도교사수-동아리?학생자치활동', '지도교사수-또래활동', '지도교사수-교육주간 활동', '지도교사수-기타 학교폭력 예방활동', '참여학생수-동아리?학생자치활동', '참여학생수-또래활동', '참여학생수-교육주간 활동', '참여학생수-기타 학교폭력 예방활동', '전체학생수_안전교육 계획 및 실시현황', '생활안전교육 시간(단위활동차시)-합계', '교통안전교육 시간(단위활동차시)-합계', '폭력예방및신변보호교육 시간(단위활동차시)-합계', '약물중독예방교육 시간(단위활동차시) - 합계 (2020년 이후)', '지능정보서비스과의존관련교육 시간(단위활동차시) - 합계 (2023년 이후)', '직업안전교육 시간(단위활동차시)-합계', '응급처치교육 시간(단위활동차시)-합계', '주 출입구 접근로 설치여부', '장애인 전용 주차구역 지정여부', '주 출입구 높이차이 제거여부', '출입구(문) 설치유무', '복도', '계단/승강기/경사로/휠체어리프트 유무', '장애인용 대변기 설치여부', '장애인용 소변기 설치여부', '점자블록 설치여부', '유도 및 안내설비 설치여부', '경보 및 피난설비 설치여부', '상담실적(내부상담전문가)', '상담실적(외부상담전문가)', '교수학습공간 일반교실', '교수학습공간 교과교실', '교수학습공간 수준별교실', '교수학습공간 특별교실']\n"
     ]
    }
   ],
   "source": [
    "print(df.columns.tolist())"
   ]
  },
  {
   "cell_type": "markdown",
   "id": "180c228e-f272-4761-83d2-2970c49d3ea0",
   "metadata": {},
   "source": [
    "`1` 컬럼 선택"
   ]
  },
  {
   "cell_type": "code",
   "execution_count": 127,
   "id": "7f65cd59-5ed2-4d9c-a51a-8ff5e6f57c92",
   "metadata": {},
   "outputs": [],
   "source": [
    "var2 = ['교과교실제(지정?운영)', '자율학교(지정?운영)', '수준별 수업(운영)', '교수학습공간 일반교실', '교수학습공간 교과교실', '교수학습공간 수준별교실', '교수학습공간 특별교실']\n",
    "\n",
    "c2 = df[var2]\n",
    "\n",
    "df.drop(var2, axis = 1, inplace = True)"
   ]
  },
  {
   "cell_type": "code",
   "execution_count": 128,
   "id": "f6f0eda9-6d6d-4ea7-946b-2b42abfd046e",
   "metadata": {},
   "outputs": [
    {
     "name": "stdout",
     "output_type": "stream",
     "text": [
      "<class 'pandas.core.frame.DataFrame'>\n",
      "Index: 5456 entries, 0 to 5474\n",
      "Data columns (total 7 columns):\n",
      " #   Column        Non-Null Count  Dtype  \n",
      "---  ------        --------------  -----  \n",
      " 0   교과교실제(지정?운영)  5456 non-null   int64  \n",
      " 1   자율학교(지정?운영)   5456 non-null   int64  \n",
      " 2   수준별 수업(운영)    5456 non-null   int64  \n",
      " 3   교수학습공간 일반교실   5456 non-null   float64\n",
      " 4   교수학습공간 교과교실   5456 non-null   float64\n",
      " 5   교수학습공간 수준별교실  5456 non-null   float64\n",
      " 6   교수학습공간 특별교실   5456 non-null   float64\n",
      "dtypes: float64(4), int64(3)\n",
      "memory usage: 341.0 KB\n"
     ]
    }
   ],
   "source": [
    "c2.info()"
   ]
  },
  {
   "cell_type": "markdown",
   "id": "a245939a-976f-4e5b-bf1c-466d3fec1e10",
   "metadata": {},
   "source": [
    "### a. 교육운영방식평가"
   ]
  },
  {
   "cell_type": "markdown",
   "id": "fa32531e-3976-4721-859a-8a5a7bfa59af",
   "metadata": {},
   "source": [
    "`-` 교과교실제, 자율학교, 수준별 수업 운영에 대한 특색사업 계획 현황은 교육과정 편성이 얼마나 잘 되어있는지 판단할 수 있는 지표이다.\n",
    "\n",
    "* 해당 지표는 운영 중이면 1, 아니면 0으로 표기되어 있다. 이 모두를 더해서 점수 산출"
   ]
  },
  {
   "cell_type": "code",
   "execution_count": 129,
   "id": "d181cc4d-ebfe-414a-89f4-41e383956426",
   "metadata": {},
   "outputs": [],
   "source": [
    "c2[\"x6\"] = c2[\"교과교실제(지정?운영)\"] \n",
    "\n",
    "c2[\"x7\"] = c2[\"자율학교(지정?운영)\"]\n",
    "\n",
    "c2[\"x8\"] = c2[\"수준별 수업(운영)\"]"
   ]
  },
  {
   "cell_type": "markdown",
   "id": "a90c1097-f7d2-4f00-8cf6-dfd86eb056d9",
   "metadata": {},
   "source": [
    "### b. 교육운영시설평가"
   ]
  },
  {
   "cell_type": "markdown",
   "id": "6cbc5c9c-ddda-4a17-bbb5-480cbc55cb28",
   "metadata": {},
   "source": [
    "`-` 교수학습공간은 학생들에게 맞춤형 교육을 하기위한 시설점수 지표로 사용될 수 있다.\n",
    "\n",
    "`-` 교육과정 편성 운영방식시설평가지표 (1점 ~ 7점)\n",
    "\n",
    "- 학생 100명당 교육운영시설 수에 대한 정규화 과정을 거침"
   ]
  },
  {
   "cell_type": "code",
   "execution_count": 130,
   "id": "71e52120-443a-431d-8073-e3e3ebb8f64a",
   "metadata": {},
   "outputs": [],
   "source": [
    "c2[\"x9\"] = (c2[\"교수학습공간 교과교실\"] + c2[\"교수학습공간 수준별교실\"] + c2[\"교수학습공간 특별교실\"])/df[\"전체학생수\"]*100\n",
    "\n",
    "c2 = c2.loc[:,\"x6\":\"x9\"]"
   ]
  },
  {
   "cell_type": "code",
   "execution_count": 131,
   "id": "27af6844-4331-46a1-a80a-b9d5991636b8",
   "metadata": {},
   "outputs": [],
   "source": [
    "c1 = pd.concat([c1,c2],axis=1)"
   ]
  },
  {
   "cell_type": "code",
   "execution_count": 132,
   "id": "75dabb16-7420-42e7-b097-82d547fc355c",
   "metadata": {},
   "outputs": [
    {
     "data": {
      "text/html": [
       "<div>\n",
       "<style scoped>\n",
       "    .dataframe tbody tr th:only-of-type {\n",
       "        vertical-align: middle;\n",
       "    }\n",
       "\n",
       "    .dataframe tbody tr th {\n",
       "        vertical-align: top;\n",
       "    }\n",
       "\n",
       "    .dataframe thead th {\n",
       "        text-align: right;\n",
       "    }\n",
       "</style>\n",
       "<table border=\"1\" class=\"dataframe\">\n",
       "  <thead>\n",
       "    <tr style=\"text-align: right;\">\n",
       "      <th></th>\n",
       "      <th>key</th>\n",
       "      <th>지역</th>\n",
       "      <th>정보공시 학교코드</th>\n",
       "      <th>학교명</th>\n",
       "      <th>x1</th>\n",
       "      <th>x2</th>\n",
       "      <th>x3</th>\n",
       "      <th>x4</th>\n",
       "      <th>x5</th>\n",
       "      <th>x6</th>\n",
       "      <th>x7</th>\n",
       "      <th>x8</th>\n",
       "      <th>x9</th>\n",
       "    </tr>\n",
       "  </thead>\n",
       "  <tbody>\n",
       "    <tr>\n",
       "      <th>0</th>\n",
       "      <td>S000003511-2021</td>\n",
       "      <td>서울특별시 서초구</td>\n",
       "      <td>S000003511</td>\n",
       "      <td>서울교육대학교부설초등학교</td>\n",
       "      <td>무</td>\n",
       "      <td>무</td>\n",
       "      <td>무</td>\n",
       "      <td>19.7</td>\n",
       "      <td>2.605863</td>\n",
       "      <td>0</td>\n",
       "      <td>1</td>\n",
       "      <td>0</td>\n",
       "      <td>2.117264</td>\n",
       "    </tr>\n",
       "    <tr>\n",
       "      <th>1</th>\n",
       "      <td>S000003511-2022</td>\n",
       "      <td>서울특별시 서초구</td>\n",
       "      <td>S000003511</td>\n",
       "      <td>서울교육대학교부설초등학교</td>\n",
       "      <td>무</td>\n",
       "      <td>무</td>\n",
       "      <td>무</td>\n",
       "      <td>19.7</td>\n",
       "      <td>4.418985</td>\n",
       "      <td>0</td>\n",
       "      <td>1</td>\n",
       "      <td>0</td>\n",
       "      <td>2.127660</td>\n",
       "    </tr>\n",
       "    <tr>\n",
       "      <th>2</th>\n",
       "      <td>S000003511-2023</td>\n",
       "      <td>서울특별시 서초구</td>\n",
       "      <td>S000003511</td>\n",
       "      <td>서울교육대학교부설초등학교</td>\n",
       "      <td>무</td>\n",
       "      <td>무</td>\n",
       "      <td>무</td>\n",
       "      <td>19.1</td>\n",
       "      <td>4.901961</td>\n",
       "      <td>0</td>\n",
       "      <td>1</td>\n",
       "      <td>0</td>\n",
       "      <td>2.124183</td>\n",
       "    </tr>\n",
       "    <tr>\n",
       "      <th>3</th>\n",
       "      <td>S000003511-2024</td>\n",
       "      <td>서울특별시 서초구</td>\n",
       "      <td>S000003511</td>\n",
       "      <td>서울교육대학교부설초등학교</td>\n",
       "      <td>무</td>\n",
       "      <td>무</td>\n",
       "      <td>무</td>\n",
       "      <td>19.1</td>\n",
       "      <td>4.754098</td>\n",
       "      <td>0</td>\n",
       "      <td>1</td>\n",
       "      <td>0</td>\n",
       "      <td>2.131148</td>\n",
       "    </tr>\n",
       "    <tr>\n",
       "      <th>4</th>\n",
       "      <td>S000003514-2021</td>\n",
       "      <td>서울특별시 성북구</td>\n",
       "      <td>S000003514</td>\n",
       "      <td>서울대학교사범대학부설중학교</td>\n",
       "      <td>무</td>\n",
       "      <td>무</td>\n",
       "      <td>무</td>\n",
       "      <td>11.2</td>\n",
       "      <td>2.560000</td>\n",
       "      <td>1</td>\n",
       "      <td>0</td>\n",
       "      <td>1</td>\n",
       "      <td>4.160000</td>\n",
       "    </tr>\n",
       "  </tbody>\n",
       "</table>\n",
       "</div>"
      ],
      "text/plain": [
       "               key         지역   정보공시 학교코드             학교명 x1 x2 x3    x4  \\\n",
       "0  S000003511-2021  서울특별시 서초구  S000003511   서울교육대학교부설초등학교  무  무  무  19.7   \n",
       "1  S000003511-2022  서울특별시 서초구  S000003511   서울교육대학교부설초등학교  무  무  무  19.7   \n",
       "2  S000003511-2023  서울특별시 서초구  S000003511   서울교육대학교부설초등학교  무  무  무  19.1   \n",
       "3  S000003511-2024  서울특별시 서초구  S000003511   서울교육대학교부설초등학교  무  무  무  19.1   \n",
       "4  S000003514-2021  서울특별시 성북구  S000003514  서울대학교사범대학부설중학교  무  무  무  11.2   \n",
       "\n",
       "         x5  x6  x7  x8        x9  \n",
       "0  2.605863   0   1   0  2.117264  \n",
       "1  4.418985   0   1   0  2.127660  \n",
       "2  4.901961   0   1   0  2.124183  \n",
       "3  4.754098   0   1   0  2.131148  \n",
       "4  2.560000   1   0   1  4.160000  "
      ]
     },
     "execution_count": 132,
     "metadata": {},
     "output_type": "execute_result"
    }
   ],
   "source": [
    "c1.head()"
   ]
  },
  {
   "cell_type": "markdown",
   "id": "bbb4730c-2dd0-429e-a076-f7e4aa7045da",
   "metadata": {},
   "source": [
    "***"
   ]
  },
  {
   "cell_type": "markdown",
   "id": "9b87246c-516e-4152-be4a-20b720c19c7f",
   "metadata": {},
   "source": [
    "## (3) 안전성 및 편의성"
   ]
  },
  {
   "cell_type": "code",
   "execution_count": 133,
   "id": "a41f4a39-87c1-43c9-85df-b0bd4ddc6062",
   "metadata": {},
   "outputs": [
    {
     "name": "stdout",
     "output_type": "stream",
     "text": [
      "['전체학생수', '연간1인당 보건실이용건수', '체육장 개방여부', '체육관 개방여부', '강당 개방여부', '보호자비율', '지도교사수-동아리?학생자치활동', '지도교사수-또래활동', '지도교사수-교육주간 활동', '지도교사수-기타 학교폭력 예방활동', '참여학생수-동아리?학생자치활동', '참여학생수-또래활동', '참여학생수-교육주간 활동', '참여학생수-기타 학교폭력 예방활동', '전체학생수_안전교육 계획 및 실시현황', '생활안전교육 시간(단위활동차시)-합계', '교통안전교육 시간(단위활동차시)-합계', '폭력예방및신변보호교육 시간(단위활동차시)-합계', '약물중독예방교육 시간(단위활동차시) - 합계 (2020년 이후)', '지능정보서비스과의존관련교육 시간(단위활동차시) - 합계 (2023년 이후)', '직업안전교육 시간(단위활동차시)-합계', '응급처치교육 시간(단위활동차시)-합계', '주 출입구 접근로 설치여부', '장애인 전용 주차구역 지정여부', '주 출입구 높이차이 제거여부', '출입구(문) 설치유무', '복도', '계단/승강기/경사로/휠체어리프트 유무', '장애인용 대변기 설치여부', '장애인용 소변기 설치여부', '점자블록 설치여부', '유도 및 안내설비 설치여부', '경보 및 피난설비 설치여부', '상담실적(내부상담전문가)', '상담실적(외부상담전문가)']\n"
     ]
    }
   ],
   "source": [
    "print(df.columns.tolist())"
   ]
  },
  {
   "cell_type": "markdown",
   "id": "77fd007b-73d6-4280-8628-8f816880c535",
   "metadata": {},
   "source": [
    "`-` 컬럼선정"
   ]
  },
  {
   "cell_type": "markdown",
   "id": "612c6844-efbb-4594-86ff-d8120f183401",
   "metadata": {},
   "source": [
    "* 서울시 학교별 안전교육 계획 및 실시현황 데이터\n",
    "\n",
    "* 서울시 학교별 장애인 편의시설 현황 데이터\n",
    "\n",
    "* 서울시 학교별 시설개방 여부 데이터"
   ]
  },
  {
   "cell_type": "code",
   "execution_count": 134,
   "id": "81561821-49d1-4bf5-8158-92011e8ab334",
   "metadata": {},
   "outputs": [],
   "source": [
    "var3 = ['체육장 개방여부', '체육관 개방여부', '강당 개방여부', \n",
    " '생활안전교육 시간(단위활동차시)-합계', '교통안전교육 시간(단위활동차시)-합계', \n",
    " '폭력예방및신변보호교육 시간(단위활동차시)-합계', '약물중독예방교육 시간(단위활동차시) - 합계 (2020년 이후)', \n",
    " '지능정보서비스과의존관련교육 시간(단위활동차시) - 합계 (2023년 이후)', '직업안전교육 시간(단위활동차시)-합계', \n",
    " '응급처치교육 시간(단위활동차시)-합계',\n",
    "  '주 출입구 접근로 설치여부', '장애인 전용 주차구역 지정여부', '주 출입구 높이차이 제거여부', '출입구(문) 설치유무', '복도', '계단/승강기/경사로/휠체어리프트 유무', '장애인용 대변기 설치여부', \n",
    " '장애인용 소변기 설치여부', '점자블록 설치여부', '유도 및 안내설비 설치여부', '경보 및 피난설비 설치여부']"
   ]
  },
  {
   "cell_type": "code",
   "execution_count": 135,
   "id": "a3910e6e-494a-4dea-b98b-860a60672134",
   "metadata": {},
   "outputs": [],
   "source": [
    "c3 = df[var3]"
   ]
  },
  {
   "cell_type": "markdown",
   "id": "7c5c4eae-6df1-42b6-9161-9d92d1df866e",
   "metadata": {},
   "source": [
    "### a. 안전교육시간"
   ]
  },
  {
   "cell_type": "code",
   "execution_count": 136,
   "id": "cda2c39a-277c-42e6-8806-36fcc19712b4",
   "metadata": {},
   "outputs": [],
   "source": [
    "c3[\"x10\"] = c3[['생활안전교육 시간(단위활동차시)-합계']]\n",
    "c3[\"x11\"] = c3[['교통안전교육 시간(단위활동차시)-합계']]\n",
    "c3[\"x12\"] = c3[['폭력예방및신변보호교육 시간(단위활동차시)-합계']]\n",
    "c3[\"x13\"] = c3[['약물중독예방교육 시간(단위활동차시) - 합계 (2020년 이후)']]\n",
    "c3[\"x14\"] = c3[['지능정보서비스과의존관련교육 시간(단위활동차시) - 합계 (2023년 이후)']]\n",
    "c3[\"x15\"] = c3[['직업안전교육 시간(단위활동차시)-합계']]\n",
    "c3[\"x16\"] = c3[['응급처치교육 시간(단위활동차시)-합계']]"
   ]
  },
  {
   "cell_type": "code",
   "execution_count": 137,
   "id": "b07c3e4f-328e-4603-b68b-aeee5c3459f1",
   "metadata": {},
   "outputs": [],
   "source": [
    "del_col = ['생활안전교육 시간(단위활동차시)-합계', '교통안전교육 시간(단위활동차시)-합계', \n",
    " '폭력예방및신변보호교육 시간(단위활동차시)-합계', '약물중독예방교육 시간(단위활동차시) - 합계 (2020년 이후)', \n",
    " '지능정보서비스과의존관련교육 시간(단위활동차시) - 합계 (2023년 이후)', '직업안전교육 시간(단위활동차시)-합계', \n",
    " '응급처치교육 시간(단위활동차시)-합계']\n",
    "\n",
    "c3.drop(del_col, axis = 1, inplace = True)"
   ]
  },
  {
   "cell_type": "markdown",
   "id": "f9eb14ae-8156-4079-85f8-1c4aa38dc257",
   "metadata": {},
   "source": [
    "### b. 장애인 시설편의성"
   ]
  },
  {
   "cell_type": "code",
   "execution_count": 138,
   "id": "c075c49c-b177-4dfb-bb1e-3bf3d5b8b920",
   "metadata": {},
   "outputs": [],
   "source": [
    "c3[\"x17\"] = c3['주 출입구 접근로 설치여부']\n",
    "c3[\"x18\"] = c3['장애인 전용 주차구역 지정여부']\n",
    "c3[\"x19\"] = c3['주 출입구 높이차이 제거여부']\n",
    "c3[\"x20\"] = c3['출입구(문) 설치유무']\n",
    "c3[\"x21\"] = c3['복도']\n",
    "c3[\"x22\"] = c3['계단/승강기/경사로/휠체어리프트 유무']\n",
    "c3[\"x23\"] = c3['장애인용 대변기 설치여부']\n",
    "c3[\"x24\"] = c3['장애인용 소변기 설치여부']\n",
    "c3[\"x25\"] = c3['점자블록 설치여부']\n",
    "c3[\"x26\"] = c3['유도 및 안내설비 설치여부']\n",
    "c3[\"x27\"] = c3['경보 및 피난설비 설치여부']"
   ]
  },
  {
   "cell_type": "code",
   "execution_count": 139,
   "id": "2ea54e6f-c14b-42c4-a3b2-c36fe8cac445",
   "metadata": {},
   "outputs": [],
   "source": [
    "c3.drop([ '주 출입구 접근로 설치여부', '장애인 전용 주차구역 지정여부', '주 출입구 높이차이 제거여부', '출입구(문) 설치유무', '복도', '계단/승강기/경사로/휠체어리프트 유무', '장애인용 대변기 설치여부', \n",
    " '장애인용 소변기 설치여부', '점자블록 설치여부', '유도 및 안내설비 설치여부', '경보 및 피난설비 설치여부'], axis = 1, inplace =  True)"
   ]
  },
  {
   "cell_type": "markdown",
   "id": "316a3b14-db02-46c7-be9b-a529711d7307",
   "metadata": {},
   "source": [
    "### c. 예체능 교육 활동을 위한 시설편의성"
   ]
  },
  {
   "cell_type": "code",
   "execution_count": 140,
   "id": "1dd35c7a-1b56-495b-8f83-f2fa25b2d0dc",
   "metadata": {},
   "outputs": [],
   "source": [
    "c3[\"x28\"] = c3['체육장 개방여부']\n",
    "c3[\"x29\"] = c3['체육관 개방여부']\n",
    "c3[\"x30\"] = c3['강당 개방여부']\n",
    "\n",
    "c3.drop(['체육장 개방여부', '체육관 개방여부', '강당 개방여부'], axis = 1, inplace = True)"
   ]
  },
  {
   "cell_type": "code",
   "execution_count": 141,
   "id": "1dd629fa-7e11-42a4-a29d-c4486f5e7dbe",
   "metadata": {},
   "outputs": [],
   "source": [
    "c1 = pd.concat([c1,c3],axis=1)"
   ]
  },
  {
   "cell_type": "markdown",
   "id": "8e9c0716-2424-4d2d-94e1-de8067011748",
   "metadata": {},
   "source": [
    "# 3. 점수 산출하기"
   ]
  },
  {
   "cell_type": "markdown",
   "id": "d19e675e-3ab6-4ddd-a983-115450283b7b",
   "metadata": {},
   "source": [
    "`-` total_score를 산출하기 위한 데이터 프레임 생성"
   ]
  },
  {
   "cell_type": "code",
   "execution_count": 142,
   "id": "7ec436a7-9d8c-4354-baf4-142496b8e85e",
   "metadata": {},
   "outputs": [
    {
     "data": {
      "text/html": [
       "<div>\n",
       "<style scoped>\n",
       "    .dataframe tbody tr th:only-of-type {\n",
       "        vertical-align: middle;\n",
       "    }\n",
       "\n",
       "    .dataframe tbody tr th {\n",
       "        vertical-align: top;\n",
       "    }\n",
       "\n",
       "    .dataframe thead th {\n",
       "        text-align: right;\n",
       "    }\n",
       "</style>\n",
       "<table border=\"1\" class=\"dataframe\">\n",
       "  <thead>\n",
       "    <tr style=\"text-align: right;\">\n",
       "      <th></th>\n",
       "      <th>x1</th>\n",
       "      <th>x2</th>\n",
       "      <th>x3</th>\n",
       "      <th>x4</th>\n",
       "      <th>x5</th>\n",
       "      <th>x6</th>\n",
       "      <th>x7</th>\n",
       "      <th>x8</th>\n",
       "      <th>x9</th>\n",
       "      <th>x10</th>\n",
       "      <th>...</th>\n",
       "      <th>x21</th>\n",
       "      <th>x22</th>\n",
       "      <th>x23</th>\n",
       "      <th>x24</th>\n",
       "      <th>x25</th>\n",
       "      <th>x26</th>\n",
       "      <th>x27</th>\n",
       "      <th>x28</th>\n",
       "      <th>x29</th>\n",
       "      <th>x30</th>\n",
       "    </tr>\n",
       "  </thead>\n",
       "  <tbody>\n",
       "    <tr>\n",
       "      <th>0</th>\n",
       "      <td>무</td>\n",
       "      <td>무</td>\n",
       "      <td>무</td>\n",
       "      <td>19.7</td>\n",
       "      <td>2.605863</td>\n",
       "      <td>0</td>\n",
       "      <td>1</td>\n",
       "      <td>0</td>\n",
       "      <td>2.117264</td>\n",
       "      <td>4.6</td>\n",
       "      <td>...</td>\n",
       "      <td>적정설치</td>\n",
       "      <td>적정설치</td>\n",
       "      <td>적정설치</td>\n",
       "      <td>적정설치</td>\n",
       "      <td>적정설치</td>\n",
       "      <td>적정설치</td>\n",
       "      <td>단순설치</td>\n",
       "      <td>무</td>\n",
       "      <td>무</td>\n",
       "      <td>무</td>\n",
       "    </tr>\n",
       "    <tr>\n",
       "      <th>1</th>\n",
       "      <td>무</td>\n",
       "      <td>무</td>\n",
       "      <td>무</td>\n",
       "      <td>19.7</td>\n",
       "      <td>4.418985</td>\n",
       "      <td>0</td>\n",
       "      <td>1</td>\n",
       "      <td>0</td>\n",
       "      <td>2.127660</td>\n",
       "      <td>12.0</td>\n",
       "      <td>...</td>\n",
       "      <td>적정설치</td>\n",
       "      <td>적정설치</td>\n",
       "      <td>적정설치</td>\n",
       "      <td>적정설치</td>\n",
       "      <td>적정설치</td>\n",
       "      <td>적정설치</td>\n",
       "      <td>단순설치</td>\n",
       "      <td>무</td>\n",
       "      <td>무</td>\n",
       "      <td>무</td>\n",
       "    </tr>\n",
       "    <tr>\n",
       "      <th>2</th>\n",
       "      <td>무</td>\n",
       "      <td>무</td>\n",
       "      <td>무</td>\n",
       "      <td>19.1</td>\n",
       "      <td>4.901961</td>\n",
       "      <td>0</td>\n",
       "      <td>1</td>\n",
       "      <td>0</td>\n",
       "      <td>2.124183</td>\n",
       "      <td>10.0</td>\n",
       "      <td>...</td>\n",
       "      <td>적정설치</td>\n",
       "      <td>적정설치</td>\n",
       "      <td>적정설치</td>\n",
       "      <td>적정설치</td>\n",
       "      <td>적정설치</td>\n",
       "      <td>적정설치</td>\n",
       "      <td>단순설치</td>\n",
       "      <td>무</td>\n",
       "      <td>무</td>\n",
       "      <td>무</td>\n",
       "    </tr>\n",
       "    <tr>\n",
       "      <th>3</th>\n",
       "      <td>무</td>\n",
       "      <td>무</td>\n",
       "      <td>무</td>\n",
       "      <td>19.1</td>\n",
       "      <td>4.754098</td>\n",
       "      <td>0</td>\n",
       "      <td>1</td>\n",
       "      <td>0</td>\n",
       "      <td>2.131148</td>\n",
       "      <td>10.0</td>\n",
       "      <td>...</td>\n",
       "      <td>적정설치</td>\n",
       "      <td>적정설치</td>\n",
       "      <td>적정설치</td>\n",
       "      <td>적정설치</td>\n",
       "      <td>적정설치</td>\n",
       "      <td>적정설치</td>\n",
       "      <td>단순설치</td>\n",
       "      <td>무</td>\n",
       "      <td>무</td>\n",
       "      <td>무</td>\n",
       "    </tr>\n",
       "    <tr>\n",
       "      <th>4</th>\n",
       "      <td>무</td>\n",
       "      <td>무</td>\n",
       "      <td>무</td>\n",
       "      <td>11.2</td>\n",
       "      <td>2.560000</td>\n",
       "      <td>1</td>\n",
       "      <td>0</td>\n",
       "      <td>1</td>\n",
       "      <td>4.160000</td>\n",
       "      <td>14.0</td>\n",
       "      <td>...</td>\n",
       "      <td>적정설치</td>\n",
       "      <td>적정설치</td>\n",
       "      <td>적정설치</td>\n",
       "      <td>적정설치</td>\n",
       "      <td>적정설치</td>\n",
       "      <td>적정설치</td>\n",
       "      <td>적정설치</td>\n",
       "      <td>무</td>\n",
       "      <td>무</td>\n",
       "      <td>시설없음</td>\n",
       "    </tr>\n",
       "  </tbody>\n",
       "</table>\n",
       "<p>5 rows × 30 columns</p>\n",
       "</div>"
      ],
      "text/plain": [
       "  x1 x2 x3    x4        x5  x6  x7  x8        x9   x10  ...   x21   x22   x23  \\\n",
       "0  무  무  무  19.7  2.605863   0   1   0  2.117264   4.6  ...  적정설치  적정설치  적정설치   \n",
       "1  무  무  무  19.7  4.418985   0   1   0  2.127660  12.0  ...  적정설치  적정설치  적정설치   \n",
       "2  무  무  무  19.1  4.901961   0   1   0  2.124183  10.0  ...  적정설치  적정설치  적정설치   \n",
       "3  무  무  무  19.1  4.754098   0   1   0  2.131148  10.0  ...  적정설치  적정설치  적정설치   \n",
       "4  무  무  무  11.2  2.560000   1   0   1  4.160000  14.0  ...  적정설치  적정설치  적정설치   \n",
       "\n",
       "    x24   x25   x26   x27 x28 x29   x30  \n",
       "0  적정설치  적정설치  적정설치  단순설치   무   무     무  \n",
       "1  적정설치  적정설치  적정설치  단순설치   무   무     무  \n",
       "2  적정설치  적정설치  적정설치  단순설치   무   무     무  \n",
       "3  적정설치  적정설치  적정설치  단순설치   무   무     무  \n",
       "4  적정설치  적정설치  적정설치  적정설치   무   무  시설없음  \n",
       "\n",
       "[5 rows x 30 columns]"
      ]
     },
     "execution_count": 142,
     "metadata": {},
     "output_type": "execute_result"
    }
   ],
   "source": [
    "score_data = c1.loc[:,\"x1\": \"x30\"].copy()\n",
    "score_data.head()"
   ]
  },
  {
   "cell_type": "markdown",
   "id": "cb50afbf-d3dc-478a-b5d3-20e555c3ebbf",
   "metadata": {},
   "source": [
    "`1` 다음과 같이 시설 설치 유무에 대한 응답을 점수화 하자"
   ]
  },
  {
   "cell_type": "code",
   "execution_count": 143,
   "id": "2713d133-fbf2-47a3-b870-cafd46f6bb14",
   "metadata": {},
   "outputs": [],
   "source": [
    "score_data.replace([\"유\",\"무\",\"시설없음\"],[1,0,0],inplace = True)\n",
    "score_data.replace([\"적정설치\",\"단순설치\",\"미설치\"],[1,0.5,0],inplace = True)"
   ]
  },
  {
   "cell_type": "markdown",
   "id": "ee431c7a-9dd0-41b5-8479-7fddfa51eee6",
   "metadata": {},
   "source": [
    "`2` `min-max scaler`를 이용해서 각 컬럼이 0~1 사이의 값을 갖도록 하자\n",
    "\n",
    "\n",
    "`3` 그 후, 그냥 모든 값을 다 더 해버리기"
   ]
  },
  {
   "cell_type": "code",
   "execution_count": 144,
   "id": "28e34c56-149b-403e-9cf9-ae0df6e6f256",
   "metadata": {},
   "outputs": [],
   "source": [
    "from sklearn.preprocessing import MinMaxScaler"
   ]
  },
  {
   "cell_type": "code",
   "execution_count": 145,
   "id": "15eb34b8-a0b8-4f84-a11c-a53788fc6e69",
   "metadata": {},
   "outputs": [],
   "source": [
    "scaler = MinMaxScaler()\n",
    "\n",
    "score_data[\"y\"] = scaler.fit_transform(score_data).sum(axis = 1).tolist()"
   ]
  },
  {
   "cell_type": "markdown",
   "id": "6d38b87b-5d7f-4a08-a4f8-157d96acf4f2",
   "metadata": {},
   "source": [
    "`-` 그래도 나름 괜찮은 분포가 나온 것 같다."
   ]
  },
  {
   "cell_type": "code",
   "execution_count": 146,
   "id": "dfccd663-39e8-4fef-bdcf-1455ae56f5a3",
   "metadata": {},
   "outputs": [
    {
     "data": {
      "text/plain": [
       "<Axes: >"
      ]
     },
     "execution_count": 146,
     "metadata": {},
     "output_type": "execute_result"
    },
    {
     "data": {
      "image/png": "[encoded data removed]",
      "text/plain": [
       "<Figure size 640x480 with 1 Axes>"
      ]
     },
     "metadata": {},
     "output_type": "display_data"
    }
   ],
   "source": [
    "score_data[\"y\"].hist()"
   ]
  },
  {
   "cell_type": "code",
   "execution_count": 147,
   "id": "a65aee6a-b057-404a-9c46-f6db86e74a26",
   "metadata": {},
   "outputs": [
    {
     "data": {
      "text/plain": [
       "count    5456.000000\n",
       "mean       12.807570\n",
       "std         2.948554\n",
       "min         0.202970\n",
       "25%        11.127468\n",
       "50%        13.007158\n",
       "75%        14.900768\n",
       "max        20.706597\n",
       "Name: y, dtype: float64"
      ]
     },
     "execution_count": 147,
     "metadata": {},
     "output_type": "execute_result"
    }
   ],
   "source": [
    "score_data[\"y\"].describe()"
   ]
  },
  {
   "cell_type": "markdown",
   "id": "068d5931-9784-4b7d-ad30-79fa1a20653d",
   "metadata": {},
   "source": [
    "# 4. 간단한 모델링(RF)"
   ]
  },
  {
   "cell_type": "markdown",
   "id": "f7a946a3-25e8-4fad-82fb-7b24116befc3",
   "metadata": {},
   "source": [
    "## (1) 모델 데이터 준비"
   ]
  },
  {
   "cell_type": "code",
   "execution_count": 148,
   "id": "48131150-e301-404f-bf4d-06ceaec71552",
   "metadata": {},
   "outputs": [],
   "source": [
    "c1[\"y\"] = score_data[\"y\"]\n",
    "data = c1.loc[:,\"x1\" : \"y\"]"
   ]
  },
  {
   "cell_type": "markdown",
   "id": "45f8f644-91da-401c-9c1a-5d8834dd3991",
   "metadata": {},
   "source": [
    "## (2) 더미변수 변환"
   ]
  },
  {
   "cell_type": "code",
   "execution_count": 149,
   "id": "d0630d3f-66be-47c1-87e6-da320a282034",
   "metadata": {},
   "outputs": [],
   "source": [
    "#data.info()"
   ]
  },
  {
   "cell_type": "markdown",
   "id": "e0de4317-381e-4b5d-9988-746b9872b1aa",
   "metadata": {},
   "source": [
    "`1` 더미변수 리스트 확인"
   ]
  },
  {
   "cell_type": "code",
   "execution_count": 150,
   "id": "e85a002e-14e3-4623-aa71-0598646a8877",
   "metadata": {},
   "outputs": [
    {
     "data": {
      "text/plain": [
       "array(['x1', 'x2', 'x3', 'x17', 'x18', 'x19', 'x20', 'x21', 'x22', 'x23',\n",
       "       'x24', 'x25', 'x26', 'x27', 'x28', 'x29', 'x30'], dtype=object)"
      ]
     },
     "execution_count": 150,
     "metadata": {},
     "output_type": "execute_result"
    }
   ],
   "source": [
    "d_col = data.select_dtypes(\"O\").columns.values\n",
    "d_col"
   ]
  },
  {
   "cell_type": "markdown",
   "id": "4002f54d-7e85-4d1d-970a-805c8a06d98b",
   "metadata": {},
   "source": [
    "`2` 변환"
   ]
  },
  {
   "cell_type": "code",
   "execution_count": 151,
   "id": "3638376c-7d9f-4e49-80cc-20f8f504011d",
   "metadata": {},
   "outputs": [],
   "source": [
    "data1 = pd.get_dummies(data = data, columns = d_col, drop_first = True)"
   ]
  },
  {
   "cell_type": "markdown",
   "id": "8f356230-b297-4c09-9b0a-f9c662d3353b",
   "metadata": {},
   "source": [
    "## (3) 훈련, 평가 데이터 분리"
   ]
  },
  {
   "cell_type": "code",
   "execution_count": 152,
   "id": "4b7c5a82-3932-441e-ad0a-30eafd85e2a2",
   "metadata": {},
   "outputs": [],
   "source": [
    "target = \"y\"\n",
    "\n",
    "X = data1.drop(target, axis = 1)\n",
    "y = data1[target]"
   ]
  },
  {
   "cell_type": "code",
   "execution_count": 153,
   "id": "82b9845a-5811-40d4-aa25-0fe770221a90",
   "metadata": {},
   "outputs": [],
   "source": [
    "# 모듈 불러오기\n",
    "from sklearn.model_selection import train_test_split\n",
    "\n",
    "# 8:2으로 분리\n",
    "x_train, x_test, y_train, y_test = train_test_split(X, y, test_size=0.3, random_state=1)"
   ]
  },
  {
   "cell_type": "markdown",
   "id": "4acee55b-857b-46b1-84ff-21f5a5d1ee8a",
   "metadata": {},
   "source": [
    "## (4) 모델링 수행"
   ]
  },
  {
   "cell_type": "code",
   "execution_count": 154,
   "id": "bbdac752-f8a1-44df-9b66-9355d34db602",
   "metadata": {},
   "outputs": [],
   "source": [
    "from sklearn.ensemble import RandomForestRegressor\n",
    "\n",
    "model = RandomForestRegressor(max_depth = 5, random_state = 1) ## default tree = 100\n",
    "\n",
    "model.fit(x_train, y_train)\n",
    "\n",
    "y_pred = model.predict(x_test)"
   ]
  },
  {
   "cell_type": "markdown",
   "id": "8cfc5591-1e09-481c-b98b-7acf82db1883",
   "metadata": {},
   "source": [
    "## (5) 모델 평가"
   ]
  },
  {
   "cell_type": "code",
   "execution_count": 155,
   "id": "83ddada4-39cf-46d6-b729-9fa945c7f7ed",
   "metadata": {},
   "outputs": [],
   "source": [
    "from sklearn.metrics import *"
   ]
  },
  {
   "cell_type": "code",
   "execution_count": 156,
   "id": "5064b09e-b521-4876-b31a-1e0981814560",
   "metadata": {},
   "outputs": [
    {
     "data": {
      "text/plain": [
       "(0.9062934086666544, 1.338673582696962)"
      ]
     },
     "execution_count": 156,
     "metadata": {},
     "output_type": "execute_result"
    }
   ],
   "source": [
    "mean_absolute_error(y_test, y_pred), mean_squared_error(y_test, y_pred)"
   ]
  },
  {
   "cell_type": "markdown",
   "id": "be3e3a25-03d9-4ec8-a8a1-2e654d4bf2ed",
   "metadata": {},
   "source": [
    "* 어...??? 나름 결과가 괜찮다..?? 아니 너무나도 좋음"
   ]
  },
  {
   "cell_type": "code",
   "execution_count": 197,
   "id": "e50295e7-c1ce-4c19-8104-bfbfaf91ac5b",
   "metadata": {},
   "outputs": [
    {
     "data": {
      "image/png": "[encoded data removed]",
      "text/plain": [
       "<Figure size 800x400 with 1 Axes>"
      ]
     },
     "metadata": {},
     "output_type": "display_data"
    }
   ],
   "source": [
    "plt.figure(figsize = (8,4))\n",
    "plt.plot(y_test.values,\".\", label = r\"$y_{test}$\")\n",
    "plt.plot(y_pred,\".\",label = r\"$y_{pred}$\")\n",
    "plt.title(r\"$(y_{pred},y_{test})$ result comparison\")\n",
    "plt.legend()\n",
    "plt.show()"
   ]
  }
 ],
 "metadata": {
  "kernelspec": {
   "display_name": "Python 3 (ipykernel)",
   "language": "python",
   "name": "python3"
  },
  "language_info": {
   "codemirror_mode": {
    "name": "ipython",
    "version": 3
   },
   "file_extension": ".py",
   "mimetype": "text/x-python",
   "name": "python",
   "nbconvert_exporter": "python",
   "pygments_lexer": "ipython3",
   "version": "3.12.2"
  }
 },
 "nbformat": 4,
 "nbformat_minor": 5
}
