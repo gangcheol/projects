{
 "cells": [
  {
   "cell_type": "raw",
   "metadata": {},
   "source": [
    "---\n",
    "title : \"02. model fit & save\"\n",
    "author : \"GC\"\n",
    "date : \"12/28/23\"\n",
    "---"
   ]
  },
  {
   "cell_type": "markdown",
   "metadata": {
    "id": "0_dnF_uk8Mum"
   },
   "source": [
    "# 드라이브 마운트"
   ]
  },
  {
   "cell_type": "code",
   "execution_count": 1,
   "metadata": {
    "colab": {
     "base_uri": "https://localhost:8080/"
    },
    "executionInfo": {
     "elapsed": 401,
     "status": "ok",
     "timestamp": 1703742178044,
     "user": {
      "displayName": "ccc flkwerkdai",
      "userId": "13507850890638580947"
     },
     "user_tz": -540
    },
    "id": "wTOA1H2P8g9H",
    "outputId": "f06f6b01-0442-4c1a-e5ec-51ef09fbe65d"
   },
   "outputs": [
    {
     "name": "stdout",
     "output_type": "stream",
     "text": [
      "Drive already mounted at /content/drive; to attempt to forcibly remount, call drive.mount(\"/content/drive\", force_remount=True).\n"
     ]
    }
   ],
   "source": [
    "from google.colab import drive\n",
    "drive._mount('/content/drive')"
   ]
  },
  {
   "cell_type": "markdown",
   "metadata": {
    "id": "QJZYZRgv7on9"
   },
   "source": [
    "# import"
   ]
  },
  {
   "cell_type": "code",
   "execution_count": 7,
   "metadata": {
    "executionInfo": {
     "elapsed": 382,
     "status": "ok",
     "timestamp": 1703742715089,
     "user": {
      "displayName": "ccc flkwerkdai",
      "userId": "13507850890638580947"
     },
     "user_tz": -540
    },
    "id": "W_o5__0B-lqm"
   },
   "outputs": [],
   "source": [
    "#!pip install pafy youtube-dl moviepy\n",
    "#!pip install pytube"
   ]
  },
  {
   "cell_type": "code",
   "execution_count": 8,
   "metadata": {
    "executionInfo": {
     "elapsed": 253,
     "status": "ok",
     "timestamp": 1703742717944,
     "user": {
      "displayName": "ccc flkwerkdai",
      "userId": "13507850890638580947"
     },
     "user_tz": -540
    },
    "id": "rYFsKtPD8KPP"
   },
   "outputs": [],
   "source": [
    "import random\n",
    "import time\n",
    "import math\n",
    "import numpy as np\n",
    "import torch\n",
    "import os\n",
    "import cv2\n",
    "import torchvision\n",
    "from moviepy.editor import *\n",
    "from collections import deque"
   ]
  },
  {
   "cell_type": "markdown",
   "metadata": {
    "id": "Dz35I8h1-u0W"
   },
   "source": [
    "`-` gpu 사용여부 확인"
   ]
  },
  {
   "cell_type": "code",
   "execution_count": 9,
   "metadata": {
    "colab": {
     "base_uri": "https://localhost:8080/"
    },
    "executionInfo": {
     "elapsed": 253,
     "status": "ok",
     "timestamp": 1703742719568,
     "user": {
      "displayName": "ccc flkwerkdai",
      "userId": "13507850890638580947"
     },
     "user_tz": -540
    },
    "id": "-qdkUFNA8wXX",
    "outputId": "e7909858-c5ff-4731-9b00-e1e4ecc3e403"
   },
   "outputs": [
    {
     "data": {
      "text/plain": [
       "device(type='cuda', index=0)"
      ]
     },
     "execution_count": 9,
     "metadata": {},
     "output_type": "execute_result"
    }
   ],
   "source": [
    "device = torch.device(\"cuda:0\" if torch.cuda.is_available() else \"cpu\")\n",
    "device"
   ]
  },
  {
   "cell_type": "code",
   "execution_count": 10,
   "metadata": {
    "executionInfo": {
     "elapsed": 2230,
     "status": "ok",
     "timestamp": 1703742723234,
     "user": {
      "displayName": "ccc flkwerkdai",
      "userId": "13507850890638580947"
     },
     "user_tz": -540
    },
    "id": "paoaKSad-bDF"
   },
   "outputs": [],
   "source": [
    "import sys\n",
    "\n",
    "## 시스템 경로 추가\n",
    "sys.path.append(\"/content/drive/MyDrive/Colab Notebooks/big project/Fight_Detection_From_Surveillance_Cameras-PyTorch_Project/UtilsFiles\")\n",
    "\n",
    "import Fight_utils\n",
    "from Fight_utils import *"
   ]
  },
  {
   "cell_type": "markdown",
   "metadata": {
    "id": "bSXaRQWW-thG"
   },
   "source": [
    "# 모델 학습 준비"
   ]
  },
  {
   "cell_type": "markdown",
   "metadata": {
    "id": "xMpMzhhk-12O"
   },
   "source": [
    "## 사전 학습 모델 로드"
   ]
  },
  {
   "cell_type": "code",
   "execution_count": 12,
   "metadata": {
    "executionInfo": {
     "elapsed": 387,
     "status": "ok",
     "timestamp": 1703742776581,
     "user": {
      "displayName": "ccc flkwerkdai",
      "userId": "13507850890638580947"
     },
     "user_tz": -540
    },
    "id": "ulBu7Dau-5xV"
   },
   "outputs": [],
   "source": [
    "seed_constant = 70\n",
    "np.random.seed(seed_constant)\n",
    "random.seed(seed_constant)\n",
    "torch.manual_seed(seed_constant)\n",
    "torch.cuda.manual_seed_all(seed_constant)"
   ]
  },
  {
   "cell_type": "code",
   "execution_count": 13,
   "metadata": {
    "colab": {
     "base_uri": "https://localhost:8080/"
    },
    "executionInfo": {
     "elapsed": 1779,
     "status": "ok",
     "timestamp": 1703742784469,
     "user": {
      "displayName": "ccc flkwerkdai",
      "userId": "13507850890638580947"
     },
     "user_tz": -540
    },
    "id": "uqpbG_Qh-6Q1",
    "outputId": "fc8afbd6-061a-484a-c108-741342b2ae47"
   },
   "outputs": [
    {
     "name": "stderr",
     "output_type": "stream",
     "text": [
      "WARNING:py.warnings:/usr/local/lib/python3.10/dist-packages/torchvision/models/_utils.py:208: UserWarning: The parameter 'pretrained' is deprecated since 0.13 and may be removed in the future, please use 'weights' instead.\n",
      "  warnings.warn(\n",
      "\n",
      "WARNING:py.warnings:/usr/local/lib/python3.10/dist-packages/torchvision/models/_utils.py:223: UserWarning: Arguments other than a weight enum or `None` for 'weights' are deprecated since 0.13 and may be removed in the future. The current behavior is equivalent to passing `weights=MC3_18_Weights.KINETICS400_V1`. You can also use `weights=MC3_18_Weights.DEFAULT` to get the most up-to-date weights.\n",
      "  warnings.warn(msg)\n",
      "\n",
      "Downloading: \"https://download.pytorch.org/models/mc3_18-a90a0ba3.pth\" to /root/.cache/torch/hub/checkpoints/mc3_18-a90a0ba3.pth\n",
      "100%|██████████| 44.7M/44.7M [00:00<00:00, 70.0MB/s]\n"
     ]
    }
   ],
   "source": [
    "model_ft = torchvision.models.video.mc3_18(pretrained=True, progress=True)"
   ]
  },
  {
   "cell_type": "code",
   "execution_count": 14,
   "metadata": {
    "executionInfo": {
     "elapsed": 2,
     "status": "ok",
     "timestamp": 1703742790059,
     "user": {
      "displayName": "ccc flkwerkdai",
      "userId": "13507850890638580947"
     },
     "user_tz": -540
    },
    "id": "ludFgrQ3-7wN"
   },
   "outputs": [],
   "source": [
    "num_ftrs = model_ft.fc.in_features   #\n",
    "model_ft.fc = torch.nn.Linear(num_ftrs, 2) #nn.Linear(in_features, out_features)"
   ]
  },
  {
   "cell_type": "markdown",
   "metadata": {
    "id": "fmgRiIg3-99N"
   },
   "source": [
    "## 데이터셋 로드"
   ]
  },
  {
   "cell_type": "code",
   "execution_count": 15,
   "metadata": {
    "executionInfo": {
     "elapsed": 2,
     "status": "ok",
     "timestamp": 1703742861378,
     "user": {
      "displayName": "ccc flkwerkdai",
      "userId": "13507850890638580947"
     },
     "user_tz": -540
    },
    "id": "iPYhsgx6-_4N"
   },
   "outputs": [],
   "source": [
    "DATASET_DIR = '/content/drive/MyDrive/Colab Notebooks/big project/Fight_Detection_From_Surveillance_Cameras-PyTorch_Project/dataset(bp)' ## 데이터셋 경로 설정\n",
    "CLASSES_LIST = ['fall','fight']\n",
    "SEQUENCE_LENGTH = 16\n",
    "batch_size= 4"
   ]
  },
  {
   "cell_type": "code",
   "execution_count": 16,
   "metadata": {
    "colab": {
     "base_uri": "https://localhost:8080/"
    },
    "executionInfo": {
     "elapsed": 46778,
     "status": "ok",
     "timestamp": 1703742916597,
     "user": {
      "displayName": "ccc flkwerkdai",
      "userId": "13507850890638580947"
     },
     "user_tz": -540
    },
    "id": "jZpOPkUf_PQe",
    "outputId": "9c8bec50-dba2-4437-b329-8bd3423db7ef"
   },
   "outputs": [
    {
     "name": "stdout",
     "output_type": "stream",
     "text": [
      "Extracting Data of Class: fall\n",
      "Extracting Data of Class: fight\n"
     ]
    }
   ],
   "source": [
    "x_tensor, y_tensor=Fight_utils.create_dataset(DATASET_DIR,CLASSES_LIST,SEQUENCE_LENGTH)"
   ]
  },
  {
   "cell_type": "code",
   "execution_count": 17,
   "metadata": {
    "colab": {
     "base_uri": "https://localhost:8080/"
    },
    "executionInfo": {
     "elapsed": 242,
     "status": "ok",
     "timestamp": 1703742952870,
     "user": {
      "displayName": "ccc flkwerkdai",
      "userId": "13507850890638580947"
     },
     "user_tz": -540
    },
    "id": "--8yTKaF_RhN",
    "outputId": "285f86b4-8297-473e-8211-12bca9ab9afb"
   },
   "outputs": [
    {
     "data": {
      "text/plain": [
       "(torch.Size([655, 3, 16, 112, 112]), torch.Size([655]))"
      ]
     },
     "execution_count": 17,
     "metadata": {},
     "output_type": "execute_result"
    }
   ],
   "source": [
    "x_tensor.shape, y_tensor.shape"
   ]
  },
  {
   "cell_type": "code",
   "execution_count": 18,
   "metadata": {
    "colab": {
     "base_uri": "https://localhost:8080/"
    },
    "executionInfo": {
     "elapsed": 263,
     "status": "ok",
     "timestamp": 1703742955808,
     "user": {
      "displayName": "ccc flkwerkdai",
      "userId": "13507850890638580947"
     },
     "user_tz": -540
    },
    "id": "gGhJRQKV_Si1",
    "outputId": "66dc070b-d739-411b-b002-f2cf92b907db"
   },
   "outputs": [
    {
     "data": {
      "text/plain": [
       "(array([0, 1]), array([331, 324]))"
      ]
     },
     "execution_count": 18,
     "metadata": {},
     "output_type": "execute_result"
    }
   ],
   "source": [
    "np.unique(y_tensor, return_counts = True)"
   ]
  },
  {
   "cell_type": "markdown",
   "metadata": {
    "id": "CaTcuXMr_mZd"
   },
   "source": [
    "`-`  gpu로 데이터 올리기"
   ]
  },
  {
   "cell_type": "code",
   "execution_count": 19,
   "metadata": {
    "executionInfo": {
     "elapsed": 673,
     "status": "ok",
     "timestamp": 1703742983862,
     "user": {
      "displayName": "ccc flkwerkdai",
      "userId": "13507850890638580947"
     },
     "user_tz": -540
    },
    "id": "ZQHAEciw_rs9"
   },
   "outputs": [],
   "source": [
    "x_tensor, y_tensor = x_tensor.to(device), y_tensor.to(device)"
   ]
  },
  {
   "cell_type": "code",
   "execution_count": 20,
   "metadata": {
    "executionInfo": {
     "elapsed": 2,
     "status": "ok",
     "timestamp": 1703742989272,
     "user": {
      "displayName": "ccc flkwerkdai",
      "userId": "13507850890638580947"
     },
     "user_tz": -540
    },
    "id": "bRtYsmhp_tJO"
   },
   "outputs": [],
   "source": [
    "dataset = torch.utils.data.TensorDataset(x_tensor, y_tensor) # 입력 데이터와 해당하는 레이블을 함께 저장"
   ]
  },
  {
   "cell_type": "markdown",
   "metadata": {
    "id": "ovuvf1YZ_uZO"
   },
   "source": [
    "### 데이터셋 분할"
   ]
  },
  {
   "cell_type": "code",
   "execution_count": 21,
   "metadata": {
    "executionInfo": {
     "elapsed": 256,
     "status": "ok",
     "timestamp": 1703743015500,
     "user": {
      "displayName": "ccc flkwerkdai",
      "userId": "13507850890638580947"
     },
     "user_tz": -540
    },
    "id": "-fJGY78z_w3-"
   },
   "outputs": [],
   "source": [
    "val_size = int(len(dataset)*0.3) ##\n",
    "\n",
    "train_size = len(dataset)- int(len(dataset)*0.3)\n",
    "train_dataset, test_val_dataset = torch.utils.data.random_split(dataset, [train_size, val_size])"
   ]
  },
  {
   "cell_type": "code",
   "execution_count": 45,
   "metadata": {
    "executionInfo": {
     "elapsed": 254,
     "status": "ok",
     "timestamp": 1703743289995,
     "user": {
      "displayName": "ccc flkwerkdai",
      "userId": "13507850890638580947"
     },
     "user_tz": -540
    },
    "id": "6TuuCTZ9A2tO"
   },
   "outputs": [],
   "source": [
    "val_size = int(len(test_val_dataset)*0.5)\n",
    "test_size = len(test_val_dataset)- int(len(test_val_dataset)*0.5)\n",
    "val_dataset, test_dataset = torch.utils.data.random_split(test_val_dataset, [val_size, test_size])"
   ]
  },
  {
   "cell_type": "code",
   "execution_count": 46,
   "metadata": {
    "executionInfo": {
     "elapsed": 2,
     "status": "ok",
     "timestamp": 1703743327097,
     "user": {
      "displayName": "ccc flkwerkdai",
      "userId": "13507850890638580947"
     },
     "user_tz": -540
    },
    "id": "C6G2vuSG_0x-"
   },
   "outputs": [],
   "source": [
    "train_lael_lst = np.array([int(train_dataset[i][1]) for i in range(len(train_dataset))])\n",
    "val_lael_lst = np.array([int(val_dataset[i][1]) for i in range(len(val_dataset))])\n",
    "test_lael_lst = np.array([int(test_dataset[i][1]) for i in range(len(test_dataset))])"
   ]
  },
  {
   "cell_type": "markdown",
   "metadata": {
    "id": "saA0M4TtAs28"
   },
   "source": [
    "`-` 데이터 셋은 잘 분리된 것 같음"
   ]
  },
  {
   "cell_type": "code",
   "execution_count": 47,
   "metadata": {
    "colab": {
     "base_uri": "https://localhost:8080/"
    },
    "executionInfo": {
     "elapsed": 244,
     "status": "ok",
     "timestamp": 1703743349616,
     "user": {
      "displayName": "ccc flkwerkdai",
      "userId": "13507850890638580947"
     },
     "user_tz": -540
    },
    "id": "bZTXy8ZmAjPt",
    "outputId": "cf057b50-136d-4406-fe4f-210c4688e192"
   },
   "outputs": [
    {
     "name": "stdout",
     "output_type": "stream",
     "text": [
      "(array([0, 1]), array([225, 234]))\n",
      "(array([0, 1]), array([53, 45]))\n",
      "(array([0, 1]), array([53, 45]))\n"
     ]
    }
   ],
   "source": [
    "print(np.unique(train_lael_lst, return_counts=True))\n",
    "print(np.unique(val_lael_lst, return_counts=True))\n",
    "print(np.unique(test_lael_lst, return_counts=True))"
   ]
  },
  {
   "cell_type": "markdown",
   "metadata": {
    "id": "tciAL6JmALt9"
   },
   "source": [
    "`-` 각 데이터셋을 미니매치 형태로 load"
   ]
  },
  {
   "cell_type": "code",
   "execution_count": 48,
   "metadata": {
    "executionInfo": {
     "elapsed": 3,
     "status": "ok",
     "timestamp": 1703743390521,
     "user": {
      "displayName": "ccc flkwerkdai",
      "userId": "13507850890638580947"
     },
     "user_tz": -540
    },
    "id": "Fi7raUF-BPUm"
   },
   "outputs": [],
   "source": [
    "train_loader = torch.utils.data.DataLoader(dataset=train_dataset, batch_size=batch_size, shuffle=True)\n",
    "val_loader = torch.utils.data.DataLoader(dataset=val_dataset, batch_size=batch_size, shuffle=True)"
   ]
  },
  {
   "cell_type": "code",
   "execution_count": 49,
   "metadata": {
    "executionInfo": {
     "elapsed": 1,
     "status": "ok",
     "timestamp": 1703743395579,
     "user": {
      "displayName": "ccc flkwerkdai",
      "userId": "13507850890638580947"
     },
     "user_tz": -540
    },
    "id": "m1H9P2HKBQPt"
   },
   "outputs": [],
   "source": [
    "dataloaders_dict = {'train':train_loader,'val':val_loader }"
   ]
  },
  {
   "cell_type": "code",
   "execution_count": 50,
   "metadata": {
    "executionInfo": {
     "elapsed": 283,
     "status": "ok",
     "timestamp": 1703743399278,
     "user": {
      "displayName": "ccc flkwerkdai",
      "userId": "13507850890638580947"
     },
     "user_tz": -540
    },
    "id": "j-cetosKBRVu"
   },
   "outputs": [],
   "source": [
    "# To empty the Memory\n",
    "torch.cuda.empty_cache()"
   ]
  },
  {
   "cell_type": "markdown",
   "metadata": {
    "id": "3TIO0tB-BSZe"
   },
   "source": [
    "# 모델 학습"
   ]
  },
  {
   "cell_type": "code",
   "execution_count": 52,
   "metadata": {
    "executionInfo": {
     "elapsed": 268,
     "status": "ok",
     "timestamp": 1703743440896,
     "user": {
      "displayName": "ccc flkwerkdai",
      "userId": "13507850890638580947"
     },
     "user_tz": -540
    },
    "id": "dA0GSMroBU6V"
   },
   "outputs": [],
   "source": [
    "# 모델 GPU에 올리기\n",
    "model_ft = model_ft.to(device)\n",
    "\n",
    "# 에포크 설정\n",
    "epochs = 10\n",
    "\n",
    "# Loss Function 설정\n",
    "criterion = torch.nn.CrossEntropyLoss()\n",
    "\n",
    "# Optimization Function (SGD-----> Stocastic Gradient Descent)\n",
    "optimizer_ft = torch.optim.SGD(model_ft.parameters(), lr=0.001, momentum=0.9)"
   ]
  },
  {
   "cell_type": "code",
   "execution_count": 53,
   "metadata": {
    "colab": {
     "base_uri": "https://localhost:8080/"
    },
    "executionInfo": {
     "elapsed": 410270,
     "status": "ok",
     "timestamp": 1703743852159,
     "user": {
      "displayName": "ccc flkwerkdai",
      "userId": "13507850890638580947"
     },
     "user_tz": -540
    },
    "id": "G_LtaBCzBWwt",
    "outputId": "ed568e89-9a61-4095-b285-ca8af98d6876"
   },
   "outputs": [
    {
     "name": "stdout",
     "output_type": "stream",
     "text": [
      "Epoch 0/9\n",
      "----------\n",
      "train Loss: 0.4285 Acc: 0.7908\n",
      "val Loss: 0.0385 Acc: 0.9796\n",
      "\n",
      "Epoch 1/9\n",
      "----------\n",
      "train Loss: 0.1296 Acc: 0.9521\n",
      "val Loss: 0.0042 Acc: 1.0000\n",
      "\n",
      "Epoch 2/9\n",
      "----------\n",
      "train Loss: 0.1428 Acc: 0.9325\n",
      "val Loss: 0.0062 Acc: 1.0000\n",
      "\n",
      "Epoch 3/9\n",
      "----------\n",
      "train Loss: 0.0468 Acc: 0.9826\n",
      "val Loss: 0.0034 Acc: 1.0000\n",
      "\n",
      "Epoch 4/9\n",
      "----------\n",
      "train Loss: 0.0498 Acc: 0.9826\n",
      "val Loss: 0.0046 Acc: 1.0000\n",
      "\n",
      "Epoch 5/9\n",
      "----------\n",
      "train Loss: 0.0499 Acc: 0.9826\n",
      "val Loss: 0.0028 Acc: 1.0000\n",
      "\n",
      "Epoch 6/9\n",
      "----------\n",
      "train Loss: 0.0397 Acc: 0.9956\n",
      "val Loss: 0.0032 Acc: 1.0000\n",
      "\n",
      "Epoch 7/9\n",
      "----------\n",
      "train Loss: 0.0151 Acc: 1.0000\n",
      "val Loss: 0.0013 Acc: 1.0000\n",
      "\n",
      "Epoch 8/9\n",
      "----------\n",
      "train Loss: 0.0122 Acc: 1.0000\n",
      "val Loss: 0.0013 Acc: 1.0000\n",
      "\n",
      "Epoch 9/9\n",
      "----------\n",
      "train Loss: 0.0102 Acc: 0.9978\n",
      "val Loss: 0.0019 Acc: 1.0000\n",
      "\n",
      "Training complete in 6m 50s\n",
      "Best val Acc: 1.000000\n"
     ]
    }
   ],
   "source": [
    "model_ft, hist = Fight_utils.train_model(device,model_ft, dataloaders_dict, criterion, optimizer_ft, num_epochs=epochs)"
   ]
  },
  {
   "cell_type": "markdown",
   "metadata": {
    "id": "jx0n-p5uBnwM"
   },
   "source": [
    "# test data 예측"
   ]
  },
  {
   "cell_type": "code",
   "execution_count": 54,
   "metadata": {
    "colab": {
     "base_uri": "https://localhost:8080/"
    },
    "executionInfo": {
     "elapsed": 2543,
     "status": "ok",
     "timestamp": 1703743858381,
     "user": {
      "displayName": "ccc flkwerkdai",
      "userId": "13507850890638580947"
     },
     "user_tz": -540
    },
    "id": "V9ARmrb0BtFE",
    "outputId": "d6ebf914-f181-4e3e-f368-73d01f23e0fb"
   },
   "outputs": [
    {
     "name": "stdout",
     "output_type": "stream",
     "text": [
      "완료 시간 : 0m 2s\n",
      "Loss: 0.0037 Acc: 1.0000\n"
     ]
    }
   ],
   "source": [
    "since = time.time()\n",
    "test_loader = torch.utils.data.DataLoader(dataset=test_dataset, batch_size=batch_size, shuffle=True) ## test 데이터를 배치단위로 쪼갬\n",
    "\n",
    "model_ft.eval() ##  평가모드로 전환\n",
    "\n",
    "running_loss = 0.0 ## loss값 초기\n",
    "running_corrects = 0\n",
    "y_test = []\n",
    "y_pred = []\n",
    "for inputs, labels in test_loader:\n",
    "  inputs = inputs.to(device)\n",
    "  labels = labels.to(device)\n",
    "  optimizer_ft.zero_grad()\n",
    "  with torch.set_grad_enabled(False):\n",
    "    outputs = model_ft(inputs)\n",
    "    loss = criterion(outputs, labels)\n",
    "    _, preds = torch.max(outputs, 1)\n",
    "  running_loss += loss.item() * inputs.size(0)\n",
    "  running_corrects += torch.sum(preds == labels.data)\n",
    "  y_test += labels.data.tolist()\n",
    "  y_pred += preds.data.tolist()\n",
    "\n",
    "epoch_loss = running_loss / len(test_loader.dataset)\n",
    "epoch_acc = running_corrects.double() / len(test_loader.dataset)\n",
    "time_elapsed = time.time() - since\n",
    "print('완료 시간 : {:.0f}m {:.0f}s'.format(time_elapsed // 60, time_elapsed % 60))\n",
    "print('Loss: {:.4f} Acc: {:.4f}'.format(epoch_loss, epoch_acc))"
   ]
  },
  {
   "cell_type": "code",
   "execution_count": 55,
   "metadata": {
    "executionInfo": {
     "elapsed": 1,
     "status": "ok",
     "timestamp": 1703743874377,
     "user": {
      "displayName": "ccc flkwerkdai",
      "userId": "13507850890638580947"
     },
     "user_tz": -540
    },
    "id": "7iDslG1xDDYE"
   },
   "outputs": [],
   "source": [
    "from sklearn.metrics import *"
   ]
  },
  {
   "cell_type": "code",
   "execution_count": 56,
   "metadata": {
    "colab": {
     "base_uri": "https://localhost:8080/"
    },
    "executionInfo": {
     "elapsed": 255,
     "status": "ok",
     "timestamp": 1703743878134,
     "user": {
      "displayName": "ccc flkwerkdai",
      "userId": "13507850890638580947"
     },
     "user_tz": -540
    },
    "id": "2RAH6Y5BDGNF",
    "outputId": "a391af2c-e23c-4d37-cea2-6be9ee4d7d8c"
   },
   "outputs": [
    {
     "name": "stdout",
     "output_type": "stream",
     "text": [
      "[[53  0]\n",
      " [ 0 45]]\n"
     ]
    }
   ],
   "source": [
    "cf_matrix = confusion_matrix(y_test, y_pred)\n",
    "print(cf_matrix)"
   ]
  },
  {
   "cell_type": "code",
   "execution_count": 57,
   "metadata": {
    "colab": {
     "base_uri": "https://localhost:8080/"
    },
    "executionInfo": {
     "elapsed": 1,
     "status": "ok",
     "timestamp": 1703743883375,
     "user": {
      "displayName": "ccc flkwerkdai",
      "userId": "13507850890638580947"
     },
     "user_tz": -540
    },
    "id": "rSFa7THwDHYl",
    "outputId": "a1905073-6d5f-45e6-d5de-2d8950d40893"
   },
   "outputs": [
    {
     "name": "stdout",
     "output_type": "stream",
     "text": [
      "              precision    recall  f1-score   support\n",
      "\n",
      "           0       1.00      1.00      1.00        53\n",
      "           1       1.00      1.00      1.00        45\n",
      "\n",
      "    accuracy                           1.00        98\n",
      "   macro avg       1.00      1.00      1.00        98\n",
      "weighted avg       1.00      1.00      1.00        98\n",
      "\n"
     ]
    }
   ],
   "source": [
    "print(classification_report(y_test, y_pred))"
   ]
  },
  {
   "cell_type": "code",
   "execution_count": 59,
   "metadata": {
    "colab": {
     "base_uri": "https://localhost:8080/",
     "height": 530
    },
    "executionInfo": {
     "elapsed": 693,
     "status": "ok",
     "timestamp": 1703743973466,
     "user": {
      "displayName": "ccc flkwerkdai",
      "userId": "13507850890638580947"
     },
     "user_tz": -540
    },
    "id": "PCGJGCmZDQ_0",
    "outputId": "46c3f08f-97c7-4841-abb4-d74576737254"
   },
   "outputs": [
    {
     "data": {
      "image/png": "[encoded data removed]",
      "text/plain": [
       "<Figure size 640x480 with 2 Axes>"
      ]
     },
     "metadata": {},
     "output_type": "display_data"
    }
   ],
   "source": [
    "import matplotlib.pyplot as plt\n",
    "import seaborn as sns\n",
    "ax = sns.heatmap(cf_matrix, annot=True, cmap='Blues')\n",
    "ax.set_title('Confusion Matrix\\n\\n')\n",
    "\n",
    "ax.set_xlabel('\\nPredicted Values')\n",
    "ax.set_ylabel('Actual Values ')\n",
    "\n",
    "ax.xaxis.set_ticklabels(['fall','fight'])\n",
    "ax.yaxis.set_ticklabels(['fall','fight'])\n",
    "\n",
    "plt.show()"
   ]
  },
  {
   "cell_type": "markdown",
   "metadata": {
    "id": "E5uv3hhmEW59"
   },
   "source": [
    "# 모델 save"
   ]
  },
  {
   "cell_type": "code",
   "execution_count": 60,
   "metadata": {
    "executionInfo": {
     "elapsed": 247,
     "status": "ok",
     "timestamp": 1703744198565,
     "user": {
      "displayName": "ccc flkwerkdai",
      "userId": "13507850890638580947"
     },
     "user_tz": -540
    },
    "id": "ReGsLux_EH0F"
   },
   "outputs": [],
   "source": [
    "PATH = \"/content/drive/MyDrive/Colab Notebooks/big project/model_save/first_model.pth\" ## 경로 설정"
   ]
  },
  {
   "cell_type": "code",
   "execution_count": 61,
   "metadata": {
    "executionInfo": {
     "elapsed": 249,
     "status": "ok",
     "timestamp": 1703744218419,
     "user": {
      "displayName": "ccc flkwerkdai",
      "userId": "13507850890638580947"
     },
     "user_tz": -540
    },
    "id": "RktQvdmXEYP1"
   },
   "outputs": [],
   "source": [
    "torch.save(model_ft.state_dict(), PATH)"
   ]
  },
  {
   "cell_type": "markdown",
   "metadata": {
    "id": "R6dZ_5X_EdZt"
   },
   "source": [
    "#  모델 load"
   ]
  },
  {
   "cell_type": "code",
   "execution_count": 62,
   "metadata": {
    "colab": {
     "base_uri": "https://localhost:8080/"
    },
    "executionInfo": {
     "elapsed": 1228,
     "status": "ok",
     "timestamp": 1703744252824,
     "user": {
      "displayName": "ccc flkwerkdai",
      "userId": "13507850890638580947"
     },
     "user_tz": -540
    },
    "id": "AivkBeGeEfI0",
    "outputId": "36ac07c0-4870-4145-c081-b87e3c430842"
   },
   "outputs": [
    {
     "name": "stderr",
     "output_type": "stream",
     "text": [
      "WARNING:py.warnings:/usr/local/lib/python3.10/dist-packages/torchvision/models/_utils.py:208: UserWarning: The parameter 'pretrained' is deprecated since 0.13 and may be removed in the future, please use 'weights' instead.\n",
      "  warnings.warn(\n",
      "\n",
      "WARNING:py.warnings:/usr/local/lib/python3.10/dist-packages/torchvision/models/_utils.py:223: UserWarning: Arguments other than a weight enum or `None` for 'weights' are deprecated since 0.13 and may be removed in the future. The current behavior is equivalent to passing `weights=MC3_18_Weights.KINETICS400_V1`. You can also use `weights=MC3_18_Weights.DEFAULT` to get the most up-to-date weights.\n",
      "  warnings.warn(msg)\n",
      "\n"
     ]
    }
   ],
   "source": [
    "model_ft = torchvision.models.video.mc3_18(pretrained=True, progress=True)\n",
    "\n",
    "num_ftrs = model_ft.fc.in_features\n",
    "model_ft.fc = torch.nn.Linear(num_ftrs, 2)\n",
    "model_ft.load_state_dict(torch.load(PATH))\n",
    "model_ft = model_ft.to(device)\n",
    "#model_ft.eval()"
   ]
  },
  {
   "cell_type": "markdown",
   "metadata": {
    "id": "R6URIOw0EnC1"
   },
   "source": [
    "## 원본비디오 재생"
   ]
  },
  {
   "cell_type": "code",
   "execution_count": 63,
   "metadata": {
    "colab": {
     "base_uri": "https://localhost:8080/",
     "height": 561,
     "output_embedded_package_id": "1WyjFZCs2EgTxv3PO0hVelz7DiW7wUGP8"
    },
    "executionInfo": {
     "elapsed": 1995,
     "status": "ok",
     "timestamp": 1703744271724,
     "user": {
      "displayName": "ccc flkwerkdai",
      "userId": "13507850890638580947"
     },
     "user_tz": -540
    },
    "id": "HQrgKBhDEi5t",
    "outputId": "5c559923-c44e-4895-94c7-b8b58e811a4a"
   },
   "outputs": [
    {
     "data": {
      "text/plain": [
       "Output hidden; open in https://colab.research.google.com to view."
      ]
     },
     "metadata": {},
     "output_type": "display_data"
    }
   ],
   "source": [
    "path_output = \"/content/drive/MyDrive/Colab Notebooks/big project/test video/폭행/폭행0.mp4\"\n",
    "Fight_utils.show_video(path_output, width=960)"
   ]
  },
  {
   "cell_type": "markdown",
   "metadata": {
    "id": "l7o7eGnGEqxE"
   },
   "source": [
    "## 비디오 클래스 추론"
   ]
  },
  {
   "cell_type": "code",
   "execution_count": 66,
   "metadata": {
    "executionInfo": {
     "elapsed": 274,
     "status": "ok",
     "timestamp": 1703744532646,
     "user": {
      "displayName": "ccc flkwerkdai",
      "userId": "13507850890638580947"
     },
     "user_tz": -540
    },
    "id": "fxfqQEhjEvB8"
   },
   "outputs": [],
   "source": [
    "path_1 = \"/content/drive/MyDrive/Colab Notebooks/big project/test video/실신/실신1.mp4\"\n",
    "path_2 = \"/content/drive/MyDrive/Colab Notebooks/big project/test video/실신/실신2.mp4\"\n",
    "SEQUENCE_LENGTH=16"
   ]
  },
  {
   "cell_type": "code",
   "execution_count": 67,
   "metadata": {
    "colab": {
     "base_uri": "https://localhost:8080/"
    },
    "executionInfo": {
     "elapsed": 15390,
     "status": "ok",
     "timestamp": 1703744550278,
     "user": {
      "displayName": "ccc flkwerkdai",
      "userId": "13507850890638580947"
     },
     "user_tz": -540
    },
    "id": "jL0rXREGEyYk",
    "outputId": "3e834514-58f1-463d-9ff2-60a2cf585923"
   },
   "outputs": [
    {
     "name": "stdout",
     "output_type": "stream",
     "text": [
      "fall\n",
      "[('fall', 0.56476), ('fight', 0.43524)]\n",
      "***********\n",
      "time is: 6.825927972793579\n",
      "fall\n"
     ]
    }
   ],
   "source": [
    "print(Fight_utils.FightInference(path_1,model_ft,SEQUENCE_LENGTH))\n",
    "print(Fight_utils.FightInference_Time(path_1, model_ft, SEQUENCE_LENGTH)) ## 추론하는데 걸린시간"
   ]
  },
  {
   "cell_type": "code",
   "execution_count": 68,
   "metadata": {
    "colab": {
     "base_uri": "https://localhost:8080/"
    },
    "executionInfo": {
     "elapsed": 12161,
     "status": "ok",
     "timestamp": 1703744564385,
     "user": {
      "displayName": "ccc flkwerkdai",
      "userId": "13507850890638580947"
     },
     "user_tz": -540
    },
    "id": "Swrg72wVFoIs",
    "outputId": "5b8ae8be-2ae4-47b1-8eea-1ba302c3a3fe"
   },
   "outputs": [
    {
     "name": "stdout",
     "output_type": "stream",
     "text": [
      "fall\n",
      "[('fall', 0.69014), ('fight', 0.30986)]\n",
      "***********\n",
      "time is: 6.5522260665893555\n",
      "fall\n"
     ]
    }
   ],
   "source": [
    "print(Fight_utils.FightInference(path_2,model_ft,SEQUENCE_LENGTH))\n",
    "print(Fight_utils.FightInference_Time(path_2, model_ft, SEQUENCE_LENGTH)) ## 추론하는데 걸린시간"
   ]
  }
 ],
 "metadata": {
  "accelerator": "GPU",
  "colab": {
   "authorship_tag": "ABX9TyOZryTwUMgL6Pq/Md9RxHi9",
   "gpuType": "T4",
   "mount_file_id": "1D-wLg5sKUe3wG9mGZrpuB-7WTeTMPXh4",
   "provenance": [],
   "toc_visible": true
  },
  "kernelspec": {
   "display_name": "Python 3 (ipykernel)",
   "language": "python",
   "name": "python3"
  },
  "language_info": {
   "codemirror_mode": {
    "name": "ipython",
    "version": 3
   },
   "file_extension": ".py",
   "mimetype": "text/x-python",
   "name": "python",
   "nbconvert_exporter": "python",
   "pygments_lexer": "ipython3",
   "version": "3.11.4"
  }
 },
 "nbformat": 4,
 "nbformat_minor": 4
}
