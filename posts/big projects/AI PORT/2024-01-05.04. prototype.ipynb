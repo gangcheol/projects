{
 "cells": [
  {
   "cell_type": "raw",
   "id": "e65b7fde-496b-421d-8779-dee9877d86d1",
   "metadata": {},
   "source": [
    "---\n",
    "title : \"04. prototype\"\n",
    "author : \"GC\"\n",
    "date : \"01/05/24\"\n",
    "---"
   ]
  },
  {
   "cell_type": "markdown",
   "id": "1c670392-6c17-4ab2-b4aa-f6ab5898c534",
   "metadata": {},
   "source": [
    "# 프로토타입"
   ]
  },
  {
   "cell_type": "markdown",
   "id": "e7e9b731-fa37-49f6-a4b7-6f3429d29f2e",
   "metadata": {},
   "source": [
    "{{< video prototype.mp4 background-video-loop=\"true\">}}"
   ]
  }
 ],
 "metadata": {
  "kernelspec": {
   "display_name": "Python 3 (ipykernel)",
   "language": "python",
   "name": "python3"
  },
  "language_info": {
   "codemirror_mode": {
    "name": "ipython",
    "version": 3
   },
   "file_extension": ".py",
   "mimetype": "text/x-python",
   "name": "python",
   "nbconvert_exporter": "python",
   "pygments_lexer": "ipython3",
   "version": "3.11.4"
  }
 },
 "nbformat": 4,
 "nbformat_minor": 5
}
