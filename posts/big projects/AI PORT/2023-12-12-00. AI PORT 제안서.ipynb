{
 "cells": [
  {
   "cell_type": "raw",
   "id": "18ea5b57-fc2a-4b98-8114-60342653b6dc",
   "metadata": {},
   "source": [
    "---\n",
    "title : \"00. AI PORT 제안서\"\n",
    "author : \"GC\"\n",
    "date : \"12/12/23\"\n",
    "---"
   ]
  },
  {
   "cell_type": "markdown",
   "id": "29917dfc-dc91-40ab-a15f-c79027b25620",
   "metadata": {},
   "source": [
    "## 제안서\n",
    "\n",
    "<iframe src=\"test.pdf\" width = 1000 height = 1000></iframe>"
   ]
  }
 ],
 "metadata": {
  "kernelspec": {
   "display_name": "Python 3 (ipykernel)",
   "language": "python",
   "name": "python3"
  },
  "language_info": {
   "codemirror_mode": {
    "name": "ipython",
    "version": 3
   },
   "file_extension": ".py",
   "mimetype": "text/x-python",
   "name": "python",
   "nbconvert_exporter": "python",
   "pygments_lexer": "ipython3",
   "version": "3.11.4"
  }
 },
 "nbformat": 4,
 "nbformat_minor": 5
}
