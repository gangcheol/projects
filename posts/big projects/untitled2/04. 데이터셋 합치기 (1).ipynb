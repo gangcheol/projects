{
 "cells": [
  {
   "cell_type": "raw",
   "id": "9ab2a70e-1dde-4c8a-9a58-eee4a00f4274",
   "metadata": {},
   "source": [
    "---\n",
    "title : \"04. 데이터셋 합치기 (1)\"\n",
    "author : \"GC\"\n",
    "date : \"06/19/24\"\n",
    "---"
   ]
  },
  {
   "cell_type": "markdown",
   "id": "92c926e5-dbec-496b-8f05-2dba56046cd8",
   "metadata": {},
   "source": [
    "# 1. 파일 목록 확인"
   ]
  },
  {
   "cell_type": "code",
   "execution_count": 259,
   "id": "b56cc8c3-eda9-47a7-bded-4a8ede152398",
   "metadata": {},
   "outputs": [],
   "source": [
    "import pandas as pd\n",
    "import os"
   ]
  },
  {
   "cell_type": "code",
   "execution_count": 260,
   "id": "00d25449-228b-4b80-8f86-682ba43c9a5f",
   "metadata": {},
   "outputs": [],
   "source": [
    "file_list = os.listdir(\"data2\")"
   ]
  },
  {
   "cell_type": "markdown",
   "id": "9b159aeb-88f6-4164-8efe-b4d22091400e",
   "metadata": {},
   "source": [
    "# 2. 데이터 셋 병합"
   ]
  },
  {
   "cell_type": "markdown",
   "id": "6e7cd88f-0082-41da-a8da-68591dabd3cd",
   "metadata": {},
   "source": [
    "`1` 데이터 로드"
   ]
  },
  {
   "cell_type": "code",
   "execution_count": 261,
   "id": "9c509d18-02a4-4469-bfe5-e06118075614",
   "metadata": {},
   "outputs": [],
   "source": [
    "df1 = pd.read_csv(\"data2/\" + file_list[0], encoding = \"euc-kr\")\n",
    "df2 = pd.read_csv(\"data2/\" + file_list[1]).set_index(\"key\").reset_index()\n",
    "df3 = pd.read_csv(\"data2/\" + file_list[2]).set_index(\"key\").reset_index()\n",
    "df4 = pd.read_csv(\"data2/\" + file_list[3]).set_index(\"key\").reset_index()"
   ]
  },
  {
   "cell_type": "markdown",
   "id": "9606680c-e0df-41ad-8872-f11fd565805e",
   "metadata": {},
   "source": [
    "`2` 데이터 병합"
   ]
  },
  {
   "cell_type": "markdown",
   "id": "ff6f2aaa-9e1e-4044-bfc7-7db0888df935",
   "metadata": {},
   "source": [
    "* 잘못된 key값 수정"
   ]
  },
  {
   "cell_type": "code",
   "execution_count": 262,
   "id": "49fe037c-44a5-43b1-aec5-6c5f84a8fceb",
   "metadata": {},
   "outputs": [],
   "source": [
    "df2[\"key\"] = [i[:-2] for i in df2[\"key\"]]\n",
    "df3[\"key\"] = [i[:-2] for i in df3[\"key\"]]"
   ]
  },
  {
   "cell_type": "code",
   "execution_count": 263,
   "id": "b4506a6e-a1a9-4e91-a751-68ca3f814f3d",
   "metadata": {},
   "outputs": [],
   "source": [
    "df2[\"key\"] = [i.replace(\"_\", \"-\")for i in df2[\"key\"]]\n",
    "df3[\"key\"]= [i.replace(\"_\", \"-\")for i in df3[\"key\"]]"
   ]
  },
  {
   "cell_type": "code",
   "execution_count": 264,
   "id": "3143d15c-b1f0-4b4f-88b4-33bd1e1e5213",
   "metadata": {},
   "outputs": [],
   "source": [
    "total = pd.merge(df1,df2, on = \"key\", how = \"left\")\n",
    "\n",
    "for i in range(3,5) :\n",
    "    exec(f\"temp = df{i}\")\n",
    "    total = pd.merge(total,temp, on = \"key\", how = \"left\")"
   ]
  },
  {
   "cell_type": "markdown",
   "id": "6b3495f5-5389-47a7-b8b3-104b49ea9411",
   "metadata": {},
   "source": [
    "# 3. 불필요한 컬럼삭제"
   ]
  },
  {
   "cell_type": "markdown",
   "id": "3fe32a34-ba74-4fbd-b90d-84f1d7359c07",
   "metadata": {},
   "source": [
    "`1` `_x`, `_y` 가 포함된 컬럼은 삭제하자"
   ]
  },
  {
   "cell_type": "code",
   "execution_count": 265,
   "id": "37707220-d820-4f35-870d-f0bf70e8fa75",
   "metadata": {},
   "outputs": [],
   "source": [
    "total = total.loc[:, map(lambda x : (\"_x\" not in x) & (\"_y\" not in x) ,total.columns)]"
   ]
  },
  {
   "cell_type": "markdown",
   "id": "fb146173-1a95-4a1d-8d5e-a49bd2e475ca",
   "metadata": {},
   "source": [
    "`2` `Unnamed: 0` 컬러 삭제"
   ]
  },
  {
   "cell_type": "code",
   "execution_count": 266,
   "id": "2cdacae3-2930-4c12-8644-406a2f780899",
   "metadata": {},
   "outputs": [],
   "source": [
    "total.drop(\"Unnamed: 0\", axis = 1, inplace = True)"
   ]
  },
  {
   "cell_type": "code",
   "execution_count": 267,
   "id": "d4c9a969-999b-4c26-92df-c8d00ae49184",
   "metadata": {},
   "outputs": [
    {
     "name": "stdout",
     "output_type": "stream",
     "text": [
      "<class 'pandas.core.frame.DataFrame'>\n",
      "RangeIndex: 68543 entries, 0 to 68542\n",
      "Data columns (total 29 columns):\n",
      " #   Column                                    Non-Null Count  Dtype  \n",
      "---  ------                                    --------------  -----  \n",
      " 0   key                                       68543 non-null  object \n",
      " 1   WORKDAY_DAY_AVRG_LSR_TIME_VALUE           68543 non-null  int64  \n",
      " 2   WKEND_DAY_AVRG_LSR_TIME_VALUE             68543 non-null  int64  \n",
      " 3   ONE_WEEK_TOT_LSR_TIME_VALUE               68543 non-null  int64  \n",
      " 4   LSR_TIME_REST_RCRT_USE_RATE               68543 non-null  float64\n",
      " 5   LSR_TIME_HOBBY_USE_RATE                   68543 non-null  float64\n",
      " 6   LSR_TIME_SELF_IMPT_USE_RATE               68543 non-null  float64\n",
      " 7   LSR_TIME_TWDPSN_RLTN_FLWSP_USE_RATE       68543 non-null  float64\n",
      " 8   LSR_TIME_ETC_USE_RATE                     68543 non-null  float64\n",
      " 9   CLTUR_ART_VIEWNG_INTRST_DGREE_VALUE       66462 non-null  object \n",
      " 10  CLTUR_ART_ACT_INTRST_DGREE_VALUE          66462 non-null  object \n",
      " 11  SPORTS_VIEWNG_INTRST_DGREE_VALUE          66462 non-null  object \n",
      " 12  SPORTS_ACT_INTRST_DGREE_VALUE             66462 non-null  object \n",
      " 13  TURSM_TOUR_INTRST_DGREE_VALUE             66462 non-null  object \n",
      " 14  RCRT_REST_INTRST_DGREE_VALUE              66462 non-null  object \n",
      " 15  SELF_IMPT_SELF_MANAGE_INTRST_DGREE_VALUE  66462 non-null  object \n",
      " 16  SCT_EXCHG_INTRST_DGREE_VALUE              66462 non-null  object \n",
      " 17  SEXDSTN_FLAG_CD                           67490 non-null  object \n",
      " 18  AGRDE_FLAG_NM                             67490 non-null  object \n",
      " 19  ANSWRR_OC_AREA_NM                         67490 non-null  object \n",
      " 20  HSHLD_INCOME_DGREE_NM                     67490 non-null  object \n",
      " 21  LSR_TIME_USE_PURPS_RN1_VALUE              67490 non-null  object \n",
      " 22  LSR_TIME_USE_PURPS_RN2_VALUE              67490 non-null  object \n",
      " 23  성별구분코드                                    68543 non-null  object \n",
      " 24  연령대구분명                                    68543 non-null  object \n",
      " 25  답변자거주지역명                                  68543 non-null  object \n",
      " 26  가구소득정도명                                   68543 non-null  object \n",
      " 27  3개월이내경험레저문화값                              68543 non-null  object \n",
      " 28  1년도이내경험레저문화값                              68543 non-null  object \n",
      "dtypes: float64(5), int64(3), object(21)\n",
      "memory usage: 15.2+ MB\n"
     ]
    }
   ],
   "source": [
    "total.info()"
   ]
  },
  {
   "cell_type": "markdown",
   "id": "f1f03ee9-a402-449e-a622-fdab88430eaa",
   "metadata": {},
   "source": [
    "`3` 컬럼 순서 변경"
   ]
  },
  {
   "cell_type": "code",
   "execution_count": 268,
   "id": "4487639b-06eb-4254-93ec-7c92e3c3e174",
   "metadata": {},
   "outputs": [],
   "source": [
    "temp1 = total.iloc[:,[0,23,24,25,26]]\n",
    "f_col = temp1.columns.tolist()\n",
    "\n",
    "temp2 = total.loc[:, map(lambda x : x not in f_col, total.columns)]\n",
    "total = pd.concat([temp1,temp2],axis = 1)"
   ]
  },
  {
   "cell_type": "markdown",
   "id": "5a44e91c-8072-4c74-8898-7228b96d3ebd",
   "metadata": {},
   "source": [
    "# 5. 중복값 삭제"
   ]
  },
  {
   "cell_type": "code",
   "execution_count": 269,
   "id": "8c9bb8ae-fdf4-4578-a7dd-779b149fedb2",
   "metadata": {},
   "outputs": [],
   "source": [
    "total = total.drop_duplicates(subset = [\"key\"])"
   ]
  },
  {
   "cell_type": "code",
   "execution_count": 270,
   "id": "1662afad-ab76-4e3e-ab04-de0819833ecc",
   "metadata": {},
   "outputs": [
    {
     "data": {
      "text/plain": [
       "(68517, 29)"
      ]
     },
     "execution_count": 270,
     "metadata": {},
     "output_type": "execute_result"
    }
   ],
   "source": [
    "total.shape"
   ]
  },
  {
   "cell_type": "code",
   "execution_count": 271,
   "id": "a13011f1-4274-44f4-a213-b3504962163d",
   "metadata": {},
   "outputs": [
    {
     "data": {
      "text/plain": [
       "68517"
      ]
     },
     "execution_count": 271,
     "metadata": {},
     "output_type": "execute_result"
    }
   ],
   "source": [
    "len(total[\"key\"].unique())"
   ]
  },
  {
   "cell_type": "markdown",
   "id": "c39a87f9-1af9-473f-927f-b831dbf4f383",
   "metadata": {},
   "source": [
    "# 6. 컬럼명 변경"
   ]
  },
  {
   "cell_type": "markdown",
   "id": "8f2e0dc4-0831-41fa-ab33-67a8de448ec3",
   "metadata": {},
   "source": [
    "`1` 컬럼명이 너무 지저분하므로 바꿀 필요가 있음"
   ]
  },
  {
   "cell_type": "code",
   "execution_count": 272,
   "id": "bb1ec030-f253-4d63-8b7d-8fbd43efa475",
   "metadata": {},
   "outputs": [
    {
     "name": "stdout",
     "output_type": "stream",
     "text": [
      "<class 'pandas.core.frame.DataFrame'>\n",
      "Index: 68517 entries, 0 to 68542\n",
      "Data columns (total 29 columns):\n",
      " #   Column                                    Non-Null Count  Dtype  \n",
      "---  ------                                    --------------  -----  \n",
      " 0   key                                       68517 non-null  object \n",
      " 1   성별구분코드                                    68517 non-null  object \n",
      " 2   연령대구분명                                    68517 non-null  object \n",
      " 3   답변자거주지역명                                  68517 non-null  object \n",
      " 4   가구소득정도명                                   68517 non-null  object \n",
      " 5   WORKDAY_DAY_AVRG_LSR_TIME_VALUE           68517 non-null  int64  \n",
      " 6   WKEND_DAY_AVRG_LSR_TIME_VALUE             68517 non-null  int64  \n",
      " 7   ONE_WEEK_TOT_LSR_TIME_VALUE               68517 non-null  int64  \n",
      " 8   LSR_TIME_REST_RCRT_USE_RATE               68517 non-null  float64\n",
      " 9   LSR_TIME_HOBBY_USE_RATE                   68517 non-null  float64\n",
      " 10  LSR_TIME_SELF_IMPT_USE_RATE               68517 non-null  float64\n",
      " 11  LSR_TIME_TWDPSN_RLTN_FLWSP_USE_RATE       68517 non-null  float64\n",
      " 12  LSR_TIME_ETC_USE_RATE                     68517 non-null  float64\n",
      " 13  CLTUR_ART_VIEWNG_INTRST_DGREE_VALUE       66436 non-null  object \n",
      " 14  CLTUR_ART_ACT_INTRST_DGREE_VALUE          66436 non-null  object \n",
      " 15  SPORTS_VIEWNG_INTRST_DGREE_VALUE          66436 non-null  object \n",
      " 16  SPORTS_ACT_INTRST_DGREE_VALUE             66436 non-null  object \n",
      " 17  TURSM_TOUR_INTRST_DGREE_VALUE             66436 non-null  object \n",
      " 18  RCRT_REST_INTRST_DGREE_VALUE              66436 non-null  object \n",
      " 19  SELF_IMPT_SELF_MANAGE_INTRST_DGREE_VALUE  66436 non-null  object \n",
      " 20  SCT_EXCHG_INTRST_DGREE_VALUE              66436 non-null  object \n",
      " 21  SEXDSTN_FLAG_CD                           67464 non-null  object \n",
      " 22  AGRDE_FLAG_NM                             67464 non-null  object \n",
      " 23  ANSWRR_OC_AREA_NM                         67464 non-null  object \n",
      " 24  HSHLD_INCOME_DGREE_NM                     67464 non-null  object \n",
      " 25  LSR_TIME_USE_PURPS_RN1_VALUE              67464 non-null  object \n",
      " 26  LSR_TIME_USE_PURPS_RN2_VALUE              67464 non-null  object \n",
      " 27  3개월이내경험레저문화값                              68517 non-null  object \n",
      " 28  1년도이내경험레저문화값                              68517 non-null  object \n",
      "dtypes: float64(5), int64(3), object(21)\n",
      "memory usage: 15.7+ MB\n"
     ]
    }
   ],
   "source": [
    "total.info()"
   ]
  },
  {
   "cell_type": "code",
   "execution_count": 273,
   "id": "1676cba7-68d5-4fe2-9522-147ab8701e3c",
   "metadata": {},
   "outputs": [],
   "source": [
    "total.rename(columns ={\"WORKDAY_DAY_AVRG_LSR_TIME_VALUE\" : \"평일일평균레저시간\",\n",
    "                       \"WKEND_DAY_AVRG_LSR_TIME_VALUE\" : \"주말일평균레저시간\",\n",
    "                       \"ONE_WEEK_TOT_LSR_TIME_VALUE\" : \"1주총레저시간\", \n",
    "                        \"LSR_TIME_REST_RCRT_USE_RATE\" :\"레저시간휴식오락사용비율\",\n",
    "                        \"LSR_TIME_HOBBY_USE_RATE\": \"레저시간취미사용비율\",\n",
    "                        \"LSR_TIME_SELF_IMPT_USE_RATE\": \"레저시간본인계발사용비율\",\n",
    "                      \"LSR_TIME_TWDPSN_RLTN_FLWSP_USE_RATE\" : \"레저시간대인관계교제사용비율\",\n",
    "                      \"LSR_TIME_ETC_USE_RATE\" : \"레저시간기타사용비율\",\n",
    "                       \"CLTUR_ART_VIEWNG_INTRST_DGREE_VALUE\" : \"문화예술관람관심정도\",\n",
    "                        \"CLTUR_ART_ACT_INTRST_DGREE_VALUE\" :\"문화예술활동관심정도\",\n",
    "                        \"SPORTS_VIEWNG_INTRST_DGREE_VALUE\" : \"스포츠관람관심정도\",\n",
    "                        \"SPORTS_ACT_INTRST_DGREE_VALUE\" :  \"스포츠활동관심정도\",\n",
    "                        \"TURSM_TOUR_INTRST_DGREE_VALUE\" : \"관광여행관심정도\",\n",
    "                         \"RCRT_REST_INTRST_DGREE_VALUE\" : \"오락휴식관심정도\",\n",
    "                         \"SELF_IMPT_SELF_MANAGE_INTRST_DGREE_VALUE\" : \"본인계발본인관리관심정도\",\n",
    "                         \"SCT_EXCHG_INTRST_DGREE_VALUE\" : \"사회교류관심정도\", \n",
    "                        \"LSR_TIME_USE_PURPS_RN1_VALUE\" : \"레저시간사용목적1순위값\",\n",
    "                        \"LSR_TIME_USE_PURPS_RN2_VALUE\" : \"레저시간사용목적2순위값\"},inplace = True)"
   ]
  },
  {
   "cell_type": "code",
   "execution_count": 274,
   "id": "b006b250-6e87-43c7-b3ad-84b3b39ccd14",
   "metadata": {},
   "outputs": [
    {
     "name": "stdout",
     "output_type": "stream",
     "text": [
      "<class 'pandas.core.frame.DataFrame'>\n",
      "Index: 68517 entries, 0 to 68542\n",
      "Data columns (total 29 columns):\n",
      " #   Column                 Non-Null Count  Dtype  \n",
      "---  ------                 --------------  -----  \n",
      " 0   key                    68517 non-null  object \n",
      " 1   성별구분코드                 68517 non-null  object \n",
      " 2   연령대구분명                 68517 non-null  object \n",
      " 3   답변자거주지역명               68517 non-null  object \n",
      " 4   가구소득정도명                68517 non-null  object \n",
      " 5   평일일평균레저시간              68517 non-null  int64  \n",
      " 6   주말일평균레저시간              68517 non-null  int64  \n",
      " 7   1주총레저시간                68517 non-null  int64  \n",
      " 8   레저시간휴식오락사용비율           68517 non-null  float64\n",
      " 9   레저시간취미사용비율             68517 non-null  float64\n",
      " 10  레저시간본인계발사용비율           68517 non-null  float64\n",
      " 11  레저시간대인관계교제사용비율         68517 non-null  float64\n",
      " 12  레저시간기타사용비율             68517 non-null  float64\n",
      " 13  문화예술관람관심정도             66436 non-null  object \n",
      " 14  문화예술활동관심정도             66436 non-null  object \n",
      " 15  스포츠관람관심정도              66436 non-null  object \n",
      " 16  스포츠활동관심정도              66436 non-null  object \n",
      " 17  관광여행관심정도               66436 non-null  object \n",
      " 18  오락휴식관심정도               66436 non-null  object \n",
      " 19  본인계발본인관리관심정도           66436 non-null  object \n",
      " 20  사회교류관심정도               66436 non-null  object \n",
      " 21  SEXDSTN_FLAG_CD        67464 non-null  object \n",
      " 22  AGRDE_FLAG_NM          67464 non-null  object \n",
      " 23  ANSWRR_OC_AREA_NM      67464 non-null  object \n",
      " 24  HSHLD_INCOME_DGREE_NM  67464 non-null  object \n",
      " 25  레저시간사용목적1순위값           67464 non-null  object \n",
      " 26  레저시간사용목적2순위값           67464 non-null  object \n",
      " 27  3개월이내경험레저문화값           68517 non-null  object \n",
      " 28  1년도이내경험레저문화값           68517 non-null  object \n",
      "dtypes: float64(5), int64(3), object(21)\n",
      "memory usage: 15.7+ MB\n"
     ]
    }
   ],
   "source": [
    "total.info()"
   ]
  },
  {
   "cell_type": "code",
   "execution_count": 275,
   "id": "b5d74b51-df80-4ef8-947a-2cc6d5b89772",
   "metadata": {},
   "outputs": [],
   "source": [
    "d_col = [\"SEXDSTN_FLAG_CD\", \"AGRDE_FLAG_NM\", \"ANSWRR_OC_AREA_NM\", \"HSHLD_INCOME_DGREE_NM\"]\n",
    "\n",
    "total.drop(d_col, axis = 1,inplace = True)\n",
    "total.dropna(inplace = True)"
   ]
  },
  {
   "cell_type": "code",
   "execution_count": 276,
   "id": "647b69c4-305c-4d70-8979-ddafd078edb8",
   "metadata": {},
   "outputs": [],
   "source": [
    "total.to_csv(\"1차 데이터합본.csv\", encoding = \"euc-kr\", index = False)"
   ]
  },
  {
   "cell_type": "code",
   "execution_count": 279,
   "id": "a38f31de-9985-44e5-a0de-61529ff72ae9",
   "metadata": {},
   "outputs": [],
   "source": [
    "total.reset_index(inplace = True, drop = True)"
   ]
  },
  {
   "cell_type": "code",
   "execution_count": 280,
   "id": "70097b44-67ed-4c41-bbde-8fad02f3102b",
   "metadata": {},
   "outputs": [
    {
     "name": "stdout",
     "output_type": "stream",
     "text": [
      "<class 'pandas.core.frame.DataFrame'>\n",
      "RangeIndex: 65383 entries, 0 to 65382\n",
      "Data columns (total 25 columns):\n",
      " #   Column          Non-Null Count  Dtype  \n",
      "---  ------          --------------  -----  \n",
      " 0   key             65383 non-null  object \n",
      " 1   성별구분코드          65383 non-null  object \n",
      " 2   연령대구분명          65383 non-null  object \n",
      " 3   답변자거주지역명        65383 non-null  object \n",
      " 4   가구소득정도명         65383 non-null  object \n",
      " 5   평일일평균레저시간       65383 non-null  int64  \n",
      " 6   주말일평균레저시간       65383 non-null  int64  \n",
      " 7   1주총레저시간         65383 non-null  int64  \n",
      " 8   레저시간휴식오락사용비율    65383 non-null  float64\n",
      " 9   레저시간취미사용비율      65383 non-null  float64\n",
      " 10  레저시간본인계발사용비율    65383 non-null  float64\n",
      " 11  레저시간대인관계교제사용비율  65383 non-null  float64\n",
      " 12  레저시간기타사용비율      65383 non-null  float64\n",
      " 13  문화예술관람관심정도      65383 non-null  object \n",
      " 14  문화예술활동관심정도      65383 non-null  object \n",
      " 15  스포츠관람관심정도       65383 non-null  object \n",
      " 16  스포츠활동관심정도       65383 non-null  object \n",
      " 17  관광여행관심정도        65383 non-null  object \n",
      " 18  오락휴식관심정도        65383 non-null  object \n",
      " 19  본인계발본인관리관심정도    65383 non-null  object \n",
      " 20  사회교류관심정도        65383 non-null  object \n",
      " 21  레저시간사용목적1순위값    65383 non-null  object \n",
      " 22  레저시간사용목적2순위값    65383 non-null  object \n",
      " 23  3개월이내경험레저문화값    65383 non-null  object \n",
      " 24  1년도이내경험레저문화값    65383 non-null  object \n",
      "dtypes: float64(5), int64(3), object(17)\n",
      "memory usage: 12.5+ MB\n"
     ]
    }
   ],
   "source": [
    "total.info()"
   ]
  }
 ],
 "metadata": {
  "kernelspec": {
   "display_name": "Python 3 (ipykernel)",
   "language": "python",
   "name": "python3"
  },
  "language_info": {
   "codemirror_mode": {
    "name": "ipython",
    "version": 3
   },
   "file_extension": ".py",
   "mimetype": "text/x-python",
   "name": "python",
   "nbconvert_exporter": "python",
   "pygments_lexer": "ipython3",
   "version": "3.12.2"
  }
 },
 "nbformat": 4,
 "nbformat_minor": 5
}
