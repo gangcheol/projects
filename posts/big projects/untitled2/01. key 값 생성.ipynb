{
 "cells": [
  {
   "cell_type": "raw",
   "id": "4853c1b5-098a-4452-bfdf-211620b23e36",
   "metadata": {},
   "source": [
    "---\n",
    "title : \"01. key 값 생성 (1)\"\n",
    "author : \"GC\"\n",
    "date : \"06/18/24\"\n",
    "---"
   ]
  },
  {
   "cell_type": "markdown",
   "id": "4a03deb7-bf04-485c-977a-c6763cb53b2c",
   "metadata": {},
   "source": [
    "# 1. 데이터 로드"
   ]
  },
  {
   "cell_type": "code",
   "execution_count": 56,
   "id": "93dcb291-78ac-4005-8ce5-89056e78714a",
   "metadata": {},
   "outputs": [],
   "source": [
    "import pandas as pd\n",
    "import os\n",
    "import plotly.express as px\n",
    "import plotly.io as pio\n",
    "pio.renderers.default = \"plotly_mimetype+notebook_connected\"\n",
    "import warnings\n",
    "\n",
    "warnings.filterwarnings(action = \"ignore\")"
   ]
  },
  {
   "cell_type": "code",
   "execution_count": 57,
   "id": "28785ae9-8fca-48a4-ba23-967b238422ac",
   "metadata": {},
   "outputs": [],
   "source": [
    "file_list = os.listdir(\"D:/projects/projects/posts/big projects/untitled2/data1\")\n",
    "#file_list\n",
    "\n",
    "data = pd.DataFrame()\n",
    "for i in range(len(file_list)) :\n",
    "    temp = pd.read_csv(\"data1/\"+file_list[i])\n",
    "    data = pd.concat([data,temp])\n",
    "\n",
    "data.reset_index(inplace=True,drop = True)"
   ]
  },
  {
   "cell_type": "markdown",
   "id": "85ae8d9b-f63e-4cbf-b66d-a661004e56b5",
   "metadata": {},
   "source": [
    "# 2. key 값 생성"
   ]
  },
  {
   "cell_type": "markdown",
   "id": "f3a92a7b-b1a2-4c45-bd75-87f64f6e794e",
   "metadata": {},
   "source": [
    "`-` RESPOND_ID + `-` + 조사년월"
   ]
  },
  {
   "cell_type": "code",
   "execution_count": 58,
   "id": "a7ba55eb-d358-4d2c-a61a-b1e622297850",
   "metadata": {},
   "outputs": [],
   "source": [
    "data[\"key\"] = [str(i) + \"-\"+ str(j)[:6] for i,j in zip(data[\"RESPOND_ID\"],data[\"EXAMIN_BEGIN_DE\"]) ]"
   ]
  },
  {
   "cell_type": "markdown",
   "id": "9e24bd64-a9be-44c0-8920-b631818878cf",
   "metadata": {},
   "source": [
    "`-` 중복값 drop"
   ]
  },
  {
   "cell_type": "code",
   "execution_count": 59,
   "id": "68b08e60-e8a4-4b38-9764-e045ed824a39",
   "metadata": {},
   "outputs": [
    {
     "data": {
      "text/plain": [
       "(68527, 15)"
      ]
     },
     "execution_count": 59,
     "metadata": {},
     "output_type": "execute_result"
    }
   ],
   "source": [
    "data.shape"
   ]
  },
  {
   "cell_type": "code",
   "execution_count": 60,
   "id": "9ede0965-396e-4c68-9ae0-14db64f3e404",
   "metadata": {},
   "outputs": [],
   "source": [
    "d_cols = [\"RESPOND_ID\",\"EXAMIN_BEGIN_DE\"]\n",
    "\n",
    "\n",
    "data = data.drop(d_cols,axis = 1).set_index(\"key\").reset_index().drop_duplicates()"
   ]
  },
  {
   "cell_type": "code",
   "execution_count": 61,
   "id": "6c977e31-c4ca-457f-812c-333e932944bf",
   "metadata": {},
   "outputs": [],
   "source": [
    "data = data.sort_values(\"key\",ascending = False)\n",
    "data.drop_duplicates(subset = [\"key\"],inplace=True)"
   ]
  },
  {
   "cell_type": "code",
   "execution_count": 62,
   "id": "24e82f0e-b7f1-4afb-98c1-2ee10aefc454",
   "metadata": {},
   "outputs": [],
   "source": [
    "data.to_csv(\"dataset1(key값 추가).csv\",index = False, encoding = \"euc-kr\")"
   ]
  }
 ],
 "metadata": {
  "kernelspec": {
   "display_name": "Python 3 (ipykernel)",
   "language": "python",
   "name": "python3"
  },
  "language_info": {
   "codemirror_mode": {
    "name": "ipython",
    "version": 3
   },
   "file_extension": ".py",
   "mimetype": "text/x-python",
   "name": "python",
   "nbconvert_exporter": "python",
   "pygments_lexer": "ipython3",
   "version": "3.12.2"
  }
 },
 "nbformat": 4,
 "nbformat_minor": 5
}
