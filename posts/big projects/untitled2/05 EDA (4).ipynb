{
 "cells": [
  {
   "cell_type": "raw",
   "id": "19012443-b8ee-441a-b666-c664d03b61cb",
   "metadata": {},
   "source": [
    "---\n",
    "title : \"05. EDA (4)\"\n",
    "author : \"GC\"\n",
    "date : \"06/19/24\"\n",
    "---"
   ]
  },
  {
   "cell_type": "markdown",
   "id": "8d4d19ce-e627-4cc3-a3f3-de35c982c926",
   "metadata": {},
   "source": [
    "# 1. 데이터 로드"
   ]
  },
  {
   "cell_type": "code",
   "execution_count": 1,
   "id": "e0288b9f-979e-4875-bb88-9bc090f30f7b",
   "metadata": {},
   "outputs": [],
   "source": [
    "import pandas as pd"
   ]
  },
  {
   "cell_type": "code",
   "execution_count": 2,
   "id": "62b25e34-1181-4e9b-b1e0-0d5b393d9230",
   "metadata": {},
   "outputs": [],
   "source": [
    "df = pd.read_csv(\"1차 데이터합본.csv\", encoding = \"euc-kr\")"
   ]
  },
  {
   "cell_type": "code",
   "execution_count": 3,
   "id": "d43b1b91-efd0-4f5c-aee3-31b1f807a632",
   "metadata": {},
   "outputs": [
    {
     "name": "stdout",
     "output_type": "stream",
     "text": [
      "<class 'pandas.core.frame.DataFrame'>\n",
      "RangeIndex: 65383 entries, 0 to 65382\n",
      "Data columns (total 25 columns):\n",
      " #   Column          Non-Null Count  Dtype \n",
      "---  ------          --------------  ----- \n",
      " 0   key             65383 non-null  object\n",
      " 1   성별구분코드          65383 non-null  object\n",
      " 2   연령대구분명          65383 non-null  object\n",
      " 3   답변자거주지역명        65383 non-null  object\n",
      " 4   가구소득정도명         65383 non-null  object\n",
      " 5   평일일평균레저시간       65383 non-null  int64 \n",
      " 6   주말일평균레저시간       65383 non-null  int64 \n",
      " 7   1주총레저시간         65383 non-null  int64 \n",
      " 8   레저시간휴식오락사용비율    65383 non-null  int64 \n",
      " 9   레저시간취미사용비율      65383 non-null  int64 \n",
      " 10  레저시간본인계발사용비율    65383 non-null  int64 \n",
      " 11  레저시간대인관계교제사용비율  65383 non-null  int64 \n",
      " 12  레저시간기타사용비율      65383 non-null  int64 \n",
      " 13  문화예술관람관심정도      65383 non-null  object\n",
      " 14  문화예술활동관심정도      65383 non-null  object\n",
      " 15  스포츠관람관심정도       65383 non-null  object\n",
      " 16  스포츠활동관심정도       65383 non-null  object\n",
      " 17  관광여행관심정도        65383 non-null  object\n",
      " 18  오락휴식관심정도        65383 non-null  object\n",
      " 19  본인계발본인관리관심정도    65383 non-null  object\n",
      " 20  사회교류관심정도        65383 non-null  object\n",
      " 21  레저시간사용목적1순위값    65383 non-null  object\n",
      " 22  레저시간사용목적2순위값    65383 non-null  object\n",
      " 23  3개월이내경험레저문화값    65383 non-null  object\n",
      " 24  1년도이내경험레저문화값    65383 non-null  object\n",
      "dtypes: int64(8), object(17)\n",
      "memory usage: 12.5+ MB\n"
     ]
    }
   ],
   "source": [
    "df.info()"
   ]
  },
  {
   "cell_type": "markdown",
   "id": "38d98066-0cd3-41d2-9f1a-6610957b504c",
   "metadata": {},
   "source": [
    "# 2. 연령별 여가시간 평균 확인"
   ]
  },
  {
   "cell_type": "code",
   "execution_count": 4,
   "id": "a093a49c-611e-4c07-b69d-f5fb9ad438b5",
   "metadata": {},
   "outputs": [
    {
     "data": {
      "text/html": [
       "<div>\n",
       "<style scoped>\n",
       "    .dataframe tbody tr th:only-of-type {\n",
       "        vertical-align: middle;\n",
       "    }\n",
       "\n",
       "    .dataframe tbody tr th {\n",
       "        vertical-align: top;\n",
       "    }\n",
       "\n",
       "    .dataframe thead th {\n",
       "        text-align: right;\n",
       "    }\n",
       "</style>\n",
       "<table border=\"1\" class=\"dataframe\">\n",
       "  <thead>\n",
       "    <tr style=\"text-align: right;\">\n",
       "      <th></th>\n",
       "      <th>가구소득정도명</th>\n",
       "      <th>평일일평균레저시간</th>\n",
       "    </tr>\n",
       "  </thead>\n",
       "  <tbody>\n",
       "    <tr>\n",
       "      <th>0</th>\n",
       "      <td>300만원 미만</td>\n",
       "      <td>3.226175</td>\n",
       "    </tr>\n",
       "    <tr>\n",
       "      <th>1</th>\n",
       "      <td>300이상500만원 미만</td>\n",
       "      <td>2.977953</td>\n",
       "    </tr>\n",
       "    <tr>\n",
       "      <th>2</th>\n",
       "      <td>500이상700만원 미만</td>\n",
       "      <td>2.854599</td>\n",
       "    </tr>\n",
       "    <tr>\n",
       "      <th>3</th>\n",
       "      <td>700만원 이상</td>\n",
       "      <td>3.011757</td>\n",
       "    </tr>\n",
       "    <tr>\n",
       "      <th>4</th>\n",
       "      <td>무응답</td>\n",
       "      <td>3.923512</td>\n",
       "    </tr>\n",
       "  </tbody>\n",
       "</table>\n",
       "</div>"
      ],
      "text/plain": [
       "         가구소득정도명  평일일평균레저시간\n",
       "0       300만원 미만   3.226175\n",
       "1  300이상500만원 미만   2.977953\n",
       "2  500이상700만원 미만   2.854599\n",
       "3       700만원 이상   3.011757\n",
       "4            무응답   3.923512"
      ]
     },
     "execution_count": 4,
     "metadata": {},
     "output_type": "execute_result"
    }
   ],
   "source": [
    "df.groupby(\"가구소득정도명\", as_index = False)[\"평일일평균레저시간\"].mean()"
   ]
  },
  {
   "cell_type": "code",
   "execution_count": 5,
   "id": "a257baba-be2e-48af-b18c-7ffd3487cf79",
   "metadata": {},
   "outputs": [
    {
     "data": {
      "text/html": [
       "<div>\n",
       "<style scoped>\n",
       "    .dataframe tbody tr th:only-of-type {\n",
       "        vertical-align: middle;\n",
       "    }\n",
       "\n",
       "    .dataframe tbody tr th {\n",
       "        vertical-align: top;\n",
       "    }\n",
       "\n",
       "    .dataframe thead th {\n",
       "        text-align: right;\n",
       "    }\n",
       "</style>\n",
       "<table border=\"1\" class=\"dataframe\">\n",
       "  <thead>\n",
       "    <tr style=\"text-align: right;\">\n",
       "      <th></th>\n",
       "      <th>가구소득정도명</th>\n",
       "      <th>주말일평균레저시간</th>\n",
       "    </tr>\n",
       "  </thead>\n",
       "  <tbody>\n",
       "    <tr>\n",
       "      <th>0</th>\n",
       "      <td>300만원 미만</td>\n",
       "      <td>5.764301</td>\n",
       "    </tr>\n",
       "    <tr>\n",
       "      <th>1</th>\n",
       "      <td>300이상500만원 미만</td>\n",
       "      <td>5.601390</td>\n",
       "    </tr>\n",
       "    <tr>\n",
       "      <th>2</th>\n",
       "      <td>500이상700만원 미만</td>\n",
       "      <td>5.683106</td>\n",
       "    </tr>\n",
       "    <tr>\n",
       "      <th>3</th>\n",
       "      <td>700만원 이상</td>\n",
       "      <td>6.044992</td>\n",
       "    </tr>\n",
       "    <tr>\n",
       "      <th>4</th>\n",
       "      <td>무응답</td>\n",
       "      <td>6.722332</td>\n",
       "    </tr>\n",
       "  </tbody>\n",
       "</table>\n",
       "</div>"
      ],
      "text/plain": [
       "         가구소득정도명  주말일평균레저시간\n",
       "0       300만원 미만   5.764301\n",
       "1  300이상500만원 미만   5.601390\n",
       "2  500이상700만원 미만   5.683106\n",
       "3       700만원 이상   6.044992\n",
       "4            무응답   6.722332"
      ]
     },
     "execution_count": 5,
     "metadata": {},
     "output_type": "execute_result"
    }
   ],
   "source": [
    "df.groupby(\"가구소득정도명\", as_index = False)[\"주말일평균레저시간\"].mean()"
   ]
  },
  {
   "cell_type": "markdown",
   "id": "7e3e298a-3db5-4e60-bd4c-63d20aee9160",
   "metadata": {},
   "source": [
    "# 3. 시니어 계층 레저시간 사용비율 확인"
   ]
  },
  {
   "cell_type": "code",
   "execution_count": 6,
   "id": "07785212-6403-451c-9c4a-3aabbdf28e22",
   "metadata": {},
   "outputs": [],
   "source": [
    "f = [\"50대\", \"60대\"]\n",
    "\n",
    "s_df = df.loc[map(lambda x : x in f, df.연령대구분명),:]"
   ]
  },
  {
   "cell_type": "code",
   "execution_count": 7,
   "id": "d7f2bab3-d3f6-4416-87ad-aba9e9683427",
   "metadata": {},
   "outputs": [
    {
     "data": {
      "text/plain": [
       "(36.268034125975674,\n",
       " 22.5228535124342,\n",
       " 14.268324559811218,\n",
       " 23.18446178979851,\n",
       " 3.756326011980396)"
      ]
     },
     "execution_count": 7,
     "metadata": {},
     "output_type": "execute_result"
    }
   ],
   "source": [
    "m1 = s_df[\"레저시간휴식오락사용비율\"].mean()\n",
    "m2 = s_df[\"레저시간취미사용비율\"].mean()\n",
    "m3 = s_df[\"레저시간본인계발사용비율\"].mean()\n",
    "m4 = s_df[\"레저시간대인관계교제사용비율\"].mean()\n",
    "m5 = s_df[\"레저시간기타사용비율\"].mean()\n",
    "\n",
    "m1,m2,m3,m4,m5"
   ]
  },
  {
   "cell_type": "markdown",
   "id": "c909f1d2-f254-4bbd-a403-450959f8ca56",
   "metadata": {},
   "source": [
    "# 4. 시니어계층 오락휴식 관심정도확인"
   ]
  },
  {
   "cell_type": "code",
   "execution_count": 8,
   "id": "67903f1d-50c3-4452-8c61-86142e33dc37",
   "metadata": {},
   "outputs": [
    {
     "data": {
      "text/plain": [
       "오락휴식관심정도\n",
       "비슷하다       14588\n",
       "조금 커졌다      8648\n",
       "조금 작아졌다     2920\n",
       "매우 커졌다       712\n",
       "매우 작아졌다      677\n",
       "Name: count, dtype: int64"
      ]
     },
     "execution_count": 8,
     "metadata": {},
     "output_type": "execute_result"
    }
   ],
   "source": [
    "s_df.오락휴식관심정도.value_counts()"
   ]
  },
  {
   "cell_type": "markdown",
   "id": "448fb337-3551-4550-9e40-0c34709e2e4d",
   "metadata": {},
   "source": [
    "# 5. 시니어 계측 레저시간 사용목적"
   ]
  },
  {
   "cell_type": "code",
   "execution_count": 9,
   "id": "3e5cf268-aa53-4289-9f6a-2c86e75e0695",
   "metadata": {},
   "outputs": [
    {
     "data": {
      "text/plain": [
       "레저시간사용목적1순위값\n",
       "건강 관리를 위해              7467\n",
       "자기만족-즐거움을 위해           4942\n",
       "마음의 안정-휴식을 위해          4630\n",
       "가족-지인 등과 시간을 보내기 위해    4485\n",
       "자기 계발을 위해              2016\n",
       "스트레스 해소를 위해            1884\n",
       "대인 관계-교제를 위해           1363\n",
       "남는 시간을 보내기 위해           671\n",
       "기타                       87\n",
       "Name: count, dtype: int64"
      ]
     },
     "execution_count": 9,
     "metadata": {},
     "output_type": "execute_result"
    }
   ],
   "source": [
    "s_df.레저시간사용목적1순위값.value_counts()"
   ]
  },
  {
   "cell_type": "code",
   "execution_count": 12,
   "id": "baebe049-6049-431b-abb6-88b9c980099a",
   "metadata": {},
   "outputs": [
    {
     "data": {
      "text/plain": [
       "연령대구분명\n",
       "50대    15024\n",
       "40대    14372\n",
       "60대    12521\n",
       "30대    12009\n",
       "20대    11457\n",
       "Name: count, dtype: int64"
      ]
     },
     "execution_count": 12,
     "metadata": {},
     "output_type": "execute_result"
    }
   ],
   "source": [
    "df[\"연령대구분명\"].value_counts()"
   ]
  },
  {
   "cell_type": "code",
   "execution_count": 13,
   "id": "af9dbc73-7a90-48e0-bd57-5b5add61d068",
   "metadata": {},
   "outputs": [
    {
     "name": "stdout",
     "output_type": "stream",
     "text": [
      "Index(['key', '성별구분코드', '연령대구분명', '답변자거주지역명', '가구소득정도명', '평일일평균레저시간',\n",
      "       '주말일평균레저시간', '1주총레저시간', '레저시간휴식오락사용비율', '레저시간취미사용비율', '레저시간본인계발사용비율',\n",
      "       '레저시간대인관계교제사용비율', '레저시간기타사용비율', '문화예술관람관심정도', '문화예술활동관심정도', '스포츠관람관심정도',\n",
      "       '스포츠활동관심정도', '관광여행관심정도', '오락휴식관심정도', '본인계발본인관리관심정도', '사회교류관심정도',\n",
      "       '레저시간사용목적1순위값', '레저시간사용목적2순위값', '3개월이내경험레저문화값', '1년도이내경험레저문화값'],\n",
      "      dtype='object')\n"
     ]
    }
   ],
   "source": [
    "print(df.columns)"
   ]
  }
 ],
 "metadata": {
  "kernelspec": {
   "display_name": "Python 3 (ipykernel)",
   "language": "python",
   "name": "python3"
  },
  "language_info": {
   "codemirror_mode": {
    "name": "ipython",
    "version": 3
   },
   "file_extension": ".py",
   "mimetype": "text/x-python",
   "name": "python",
   "nbconvert_exporter": "python",
   "pygments_lexer": "ipython3",
   "version": "3.12.2"
  }
 },
 "nbformat": 4,
 "nbformat_minor": 5
}
