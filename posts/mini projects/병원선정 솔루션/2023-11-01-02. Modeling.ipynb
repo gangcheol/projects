{
 "cells": [
  {
   "cell_type": "raw",
   "id": "4762a57c-3e6c-46f4-8ae9-d273be4e41db",
   "metadata": {},
   "source": [
    "---\n",
    "title : \"02. Modeling\"\n",
    "author : \"GC\"\n",
    "date : \"11/01/23\"\n",
    "---"
   ]
  },
  {
   "cell_type": "markdown",
   "id": "e16f333c-33b3-4082-8b6c-f29dcea6af20",
   "metadata": {},
   "source": [
    "# Intro"
   ]
  },
  {
   "cell_type": "markdown",
   "id": "3b56fcdb-49c4-4b06-b3da-a72fcd7eb6bb",
   "metadata": {},
   "source": [
    " * Target : 중증질환 (뇌경색, 뇌출혈, 복부손상, 심근경색)\n",
    " * 데이터 분석 결과를 바탕으로 Target에 영향을 주는 Feature 전처리 (함수 정의)\n",
    " * 머신러닝/딥러닝 모델링 후 성능 비교\n",
    " * 최적AI 모델 선정 및 저장\n",
    " * 새로운 출동 이력에 제시된 환자의 증상을 바탕으로 중증 질환 예측 함수 정의"
   ]
  },
  {
   "cell_type": "markdown",
   "id": "3ce513a4-dd17-48e5-8997-da2f9bc2925f",
   "metadata": {},
   "source": [
    "# 0. import"
   ]
  },
  {
   "cell_type": "code",
   "execution_count": 1,
   "id": "0b581f9f-faaa-4266-9525-0a3c753a4a9e",
   "metadata": {
    "tags": []
   },
   "outputs": [],
   "source": [
    "import pandas as pd    # pandas 데이터프레임을 생성/편집하기 위해 사용 합니다.\n",
    "import matplotlib.pyplot as plt   \n",
    "from wordcloud import WordCloud    \n",
    "from collections import Counter   \n",
    "import re    \n",
    "from PIL import Image \n",
    "import plotly.express as px\n",
    "import plotly.io as pio\n",
    "pio.renderers.default = \"plotly_mimetype+notebook_connected\"\n",
    "plt.rcParams['font.family'] = 'Malgun Gothic'\n",
    "plt.rcParams['axes.unicode_minus'] = False"
   ]
  },
  {
   "cell_type": "markdown",
   "id": "333c846f-75df-4653-83fc-f90ec852fa32",
   "metadata": {},
   "source": [
    "# 1. 데이터 로드"
   ]
  },
  {
   "cell_type": "code",
   "execution_count": 2,
   "id": "a4ef568d-152c-4fbb-bcec-3aa9a789b390",
   "metadata": {
    "tags": []
   },
   "outputs": [],
   "source": [
    "data = pd.read_csv(\"./119_emergency_dispatch.csv\", encoding=\"cp949\" )\n",
    "desease = data[data['중증질환'].isin(['심근경색', '복부손상', '뇌경색', '뇌출혈'])].copy()\n",
    "\n",
    "# 데이터 랜덤으로 섞기\n",
    "\n",
    "desease = desease.sample(frac=1).reset_index(drop=True)\n",
    "\n",
    "total_result = pd.read_csv(\"변수선택.csv\")"
   ]
  },
  {
   "cell_type": "markdown",
   "id": "ebd01211-3384-4cef-92ca-4286ed96a241",
   "metadata": {},
   "source": [
    "# 2. 학습용, 평가용 데이터 준비"
   ]
  },
  {
   "cell_type": "code",
   "execution_count": 3,
   "id": "c4a57f5a-01de-4243-ac69-ee7323efa635",
   "metadata": {
    "tags": []
   },
   "outputs": [],
   "source": [
    "def preprocessing(desease) :\n",
    "\n",
    "    desease = desease.copy()\n",
    "    desease[\"발열\"] = [1 if i >= 37 else 0 for i in desease[\"체온\"]]\n",
    "    desease[\"고혈압\"] = [1 if i >= 140 else 0 for i in desease[\"수축기 혈압\"]]\n",
    "    desease[\"저혈압\"] = [1 if i <= 90 else 0 for i in desease[\"수축기 혈압\"]]\n",
    "\n",
    "    X = desease[total_result[\"var\"]]\n",
    "\n",
    "    return X"
   ]
  },
  {
   "cell_type": "code",
   "execution_count": 4,
   "id": "daa2f984-f5af-460b-b4e4-35ec7ad67f29",
   "metadata": {
    "tags": []
   },
   "outputs": [],
   "source": [
    "target = \"중증질환\"\n",
    "Y =  desease[target]\n",
    "X = preprocessing(desease)"
   ]
  },
  {
   "cell_type": "code",
   "execution_count": 5,
   "id": "3459582c-cd40-4bdc-8ce3-6ac1156c1e04",
   "metadata": {
    "tags": []
   },
   "outputs": [],
   "source": [
    "from sklearn.model_selection import train_test_split\n",
    "train_x, test_x, train_y, test_y  = train_test_split(X, Y, test_size = 0.3, random_state = 2023)"
   ]
  },
  {
   "cell_type": "markdown",
   "id": "5bfdc944-e7de-43e2-8609-138c36e42bb3",
   "metadata": {},
   "source": [
    "# 3. 모델링"
   ]
  },
  {
   "cell_type": "markdown",
   "id": "d64ecbb2-07f1-447e-99c2-5ffde7114b6a",
   "metadata": {},
   "source": [
    " * 활용 모델 : DecisionTreeClassifier, RandomForestClassifier, XGBClassifier, DNN\n",
    " * 성능 평가 : accuracy_score"
   ]
  },
  {
   "cell_type": "markdown",
   "id": "ce5b2017-0194-4455-9981-47d85afde889",
   "metadata": {},
   "source": [
    "## (1) tree"
   ]
  },
  {
   "cell_type": "code",
   "execution_count": 6,
   "id": "63b7905d-ac4d-4f22-b38c-6231df5a1b9b",
   "metadata": {
    "tags": []
   },
   "outputs": [
    {
     "name": "stdout",
     "output_type": "stream",
     "text": [
      "0.8482772122161315\n"
     ]
    }
   ],
   "source": [
    "from sklearn.tree import DecisionTreeClassifier\n",
    "from sklearn.metrics import *\n",
    "\n",
    "tree = DecisionTreeClassifier(max_depth = 5)\n",
    "\n",
    "tree.fit(train_x, train_y)\n",
    "\n",
    "tree_pred = tree.predict(test_x)\n",
    "\n",
    "tree_acc = accuracy_score(test_y, tree_pred)\n",
    "print(tree_acc)"
   ]
  },
  {
   "cell_type": "markdown",
   "id": "8c17e5a5-65e8-418b-8a86-8d3a594ad5d1",
   "metadata": {},
   "source": [
    "## (2) RandomForest"
   ]
  },
  {
   "cell_type": "code",
   "execution_count": 7,
   "id": "af1f08de-e813-4d6e-b07d-4dd7b5c6ac96",
   "metadata": {
    "tags": []
   },
   "outputs": [
    {
     "name": "stdout",
     "output_type": "stream",
     "text": [
      "0.8784259984338293\n"
     ]
    }
   ],
   "source": [
    "from sklearn.ensemble import RandomForestClassifier\n",
    "\n",
    "rf = RandomForestClassifier(max_depth = 5, n_estimators = 5)\n",
    "\n",
    "rf.fit(train_x, train_y)\n",
    "\n",
    "rf_pred = rf.predict(test_x)\n",
    "\n",
    "rf_acc = accuracy_score(test_y, rf_pred)\n",
    "print(rf_acc)"
   ]
  },
  {
   "cell_type": "markdown",
   "id": "9b235bed-e4ce-4707-b726-8666c05d93eb",
   "metadata": {
    "tags": []
   },
   "source": [
    "## (3) XGBoost"
   ]
  },
  {
   "cell_type": "code",
   "execution_count": 8,
   "id": "be2391ab-72ac-47d7-bbda-1a3f8c700e8d",
   "metadata": {
    "tags": []
   },
   "outputs": [
    {
     "name": "stdout",
     "output_type": "stream",
     "text": [
      "0.9193422083007048\n"
     ]
    }
   ],
   "source": [
    "from xgboost import XGBClassifier\n",
    "\n",
    "xg =  XGBClassifier()\n",
    "\n",
    "train_y1 = train_y.map({'뇌경색':0, '뇌출혈':1, '복부손상':2, '심근경색':3})\n",
    "test_y1 = test_y.map({'뇌경색':0, '뇌출혈':1, '복부손상':2, '심근경색':3})\n",
    "\n",
    "xg.fit(train_x, train_y1)\n",
    "\n",
    "xg_pred = xg.predict(test_x)\n",
    "\n",
    "xg_acc = accuracy_score(test_y1, xg_pred)\n",
    "print(xg_acc)"
   ]
  },
  {
   "cell_type": "markdown",
   "id": "6be719ce-936c-40d9-b0a4-cd1d13251bed",
   "metadata": {},
   "source": [
    "## (4) DNN "
   ]
  },
  {
   "cell_type": "code",
   "execution_count": 9,
   "id": "4ae947a2-6dde-475d-9eb2-a89d0eda9d7d",
   "metadata": {
    "tags": []
   },
   "outputs": [
    {
     "data": {
      "text/plain": [
       "19"
      ]
     },
     "execution_count": 9,
     "metadata": {},
     "output_type": "execute_result"
    }
   ],
   "source": [
    "nf = train_x.shape[1]\n",
    "nf"
   ]
  },
  {
   "cell_type": "code",
   "execution_count": 10,
   "id": "e94ed453-5b22-43c1-9175-291d54d68468",
   "metadata": {
    "tags": []
   },
   "outputs": [
    {
     "name": "stdout",
     "output_type": "stream",
     "text": [
      "160/160 [==============================] - 0s 2ms/step\n"
     ]
    }
   ],
   "source": [
    "from keras.layers import Dense, Dropout\n",
    "from keras.models import Sequential\n",
    "from keras.losses import sparse_categorical_crossentropy\n",
    "from keras.optimizers import Adam\n",
    "from keras.backend import clear_session\n",
    "from keras.callbacks import EarlyStopping, ModelCheckpoint\n",
    "\n",
    "clear_session()\n",
    "\n",
    "\n",
    "model = Sequential()\n",
    "model.add(Dense(128, input_shape=(nf,), activation =\"relu\"))\n",
    "model.add(Dense(4,  activation =\"softmax\"))\n",
    "\n",
    "model.compile(loss = sparse_categorical_crossentropy,\n",
    "                            optimizer = Adam(0.001), metrics = [\"accuracy\"])\n",
    "\n",
    "history = model.fit(train_x, train_y1, validation_split = 0.2,\n",
    "                              epochs = 20, batch_size = 16,  verbose = 0).history\n",
    "\n",
    "dl_pred = model.predict(test_x).argmax(axis = 1)\n",
    "\n",
    "dl_acc = accuracy_score(test_y1, dl_pred)"
   ]
  },
  {
   "cell_type": "code",
   "execution_count": 11,
   "id": "96a971d1-908e-4332-bb1b-18116902b169",
   "metadata": {
    "tags": []
   },
   "outputs": [
    {
     "data": {
      "text/plain": [
       "0.8539545810493344"
      ]
     },
     "execution_count": 11,
     "metadata": {},
     "output_type": "execute_result"
    }
   ],
   "source": [
    "dl_acc"
   ]
  },
  {
   "cell_type": "markdown",
   "id": "bf8b2c67-f70d-42f5-a46d-6e512194306a",
   "metadata": {},
   "source": [
    "## (5) 최적 모델 선정 및 저장"
   ]
  },
  {
   "cell_type": "code",
   "execution_count": 12,
   "id": "51608dd1-9c42-479d-92c3-75ecb6d8a741",
   "metadata": {
    "tags": []
   },
   "outputs": [
    {
     "data": {
      "text/html": [
       "<div>\n",
       "<style scoped>\n",
       "    .dataframe tbody tr th:only-of-type {\n",
       "        vertical-align: middle;\n",
       "    }\n",
       "\n",
       "    .dataframe tbody tr th {\n",
       "        vertical-align: top;\n",
       "    }\n",
       "\n",
       "    .dataframe thead th {\n",
       "        text-align: right;\n",
       "    }\n",
       "</style>\n",
       "<table border=\"1\" class=\"dataframe\">\n",
       "  <thead>\n",
       "    <tr style=\"text-align: right;\">\n",
       "      <th></th>\n",
       "      <th>model</th>\n",
       "      <th>acc</th>\n",
       "    </tr>\n",
       "  </thead>\n",
       "  <tbody>\n",
       "    <tr>\n",
       "      <th>0</th>\n",
       "      <td>tree</td>\n",
       "      <td>0.848277</td>\n",
       "    </tr>\n",
       "    <tr>\n",
       "      <th>1</th>\n",
       "      <td>RF</td>\n",
       "      <td>0.878426</td>\n",
       "    </tr>\n",
       "    <tr>\n",
       "      <th>2</th>\n",
       "      <td>XGBoost</td>\n",
       "      <td>0.919342</td>\n",
       "    </tr>\n",
       "    <tr>\n",
       "      <th>3</th>\n",
       "      <td>DL</td>\n",
       "      <td>0.853955</td>\n",
       "    </tr>\n",
       "  </tbody>\n",
       "</table>\n",
       "</div>"
      ],
      "text/plain": [
       "    model        acc\n",
       "0     tree  0.848277\n",
       "1       RF  0.878426\n",
       "2  XGBoost  0.919342\n",
       "3       DL  0.853955"
      ]
     },
     "execution_count": 12,
     "metadata": {},
     "output_type": "execute_result"
    }
   ],
   "source": [
    "## 질문) 최적 모델로 선정된 것은 무엇인가?\n",
    "result = pd.DataFrame({\"model \" : [\"tree\",\"RF\", \"XGBoost\", \"DL\"],\n",
    "                                \"acc\" : [tree_acc, rf_acc, xg_acc, dl_acc]})\n",
    "result"
   ]
  },
  {
   "cell_type": "code",
   "execution_count": 13,
   "id": "895ac3eb-640a-4e87-a699-534e56f5d788",
   "metadata": {
    "tags": []
   },
   "outputs": [
    {
     "data": {
      "text/plain": [
       "['best_model.pkl']"
      ]
     },
     "execution_count": 13,
     "metadata": {},
     "output_type": "execute_result"
    }
   ],
   "source": [
    "import joblib\n",
    "\n",
    "joblib.dump(xg, \"best_model.pkl\")"
   ]
  }
 ],
 "metadata": {
  "kernelspec": {
   "display_name": "Python 3 (ipykernel)",
   "language": "python",
   "name": "python3"
  },
  "language_info": {
   "codemirror_mode": {
    "name": "ipython",
    "version": 3
   },
   "file_extension": ".py",
   "mimetype": "text/x-python",
   "name": "python",
   "nbconvert_exporter": "python",
   "pygments_lexer": "ipython3",
   "version": "3.11.4"
  }
 },
 "nbformat": 4,
 "nbformat_minor": 5
}
