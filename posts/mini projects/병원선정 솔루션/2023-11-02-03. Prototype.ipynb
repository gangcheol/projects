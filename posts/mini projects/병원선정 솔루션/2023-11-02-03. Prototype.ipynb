{
 "cells": [
  {
   "cell_type": "raw",
   "id": "a6a11f16-031b-4bba-b9cf-1e6cfd39984e",
   "metadata": {},
   "source": [
    "---\n",
    "title : \"03. Prototype\"\n",
    "author : \"GC\"\n",
    "date : \"11/02/23\"\n",
    "---"
   ]
  },
  {
   "cell_type": "markdown",
   "id": "06547edf-018e-4ed2-89a4-65457cef0b3d",
   "metadata": {},
   "source": [
    "# Intro"
   ]
  },
  {
   "cell_type": "markdown",
   "id": "4768105e-c761-4458-8121-4360fb96bffa",
   "metadata": {},
   "source": [
    "`1` 해당 프로토타입은 `streamlit` 모듈을 활용하여 구현함"
   ]
  },
  {
   "cell_type": "markdown",
   "id": "07c5f824-14f0-4da8-a985-ef136c159494",
   "metadata": {},
   "source": [
    "`2` 첨부한 app.py 파일을 터미널에서 실행하여 프로토타입 확인\n",
    "\n",
    "```python\n",
    "streamlit run app.py\n",
    "```"
   ]
  },
  {
   "cell_type": "markdown",
   "id": "20b04979-e8bd-4dde-9030-b60d5f5a46f2",
   "metadata": {},
   "source": [
    "# 시연 영상"
   ]
  },
  {
   "cell_type": "code",
   "execution_count": 3,
   "id": "b2bcae3a-019a-4e3f-a5ae-09bd8be99020",
   "metadata": {
    "tags": []
   },
   "outputs": [
    {
     "data": {
      "text/html": [
       "<video src=\"prototype.mp4\" controls  width=\"1200\"  height=\"800\">\n",
       "      Your browser does not support the <code>video</code> element.\n",
       "    </video>"
      ],
      "text/plain": [
       "<IPython.core.display.Video object>"
      ]
     },
     "execution_count": 3,
     "metadata": {},
     "output_type": "execute_result"
    }
   ],
   "source": [
    "# | code-fold : true\n",
    "from IPython.display import Video\n",
    "\n",
    "Video(\"prototype.mp4\",width = 1200, height = 800)"
   ]
  }
 ],
 "metadata": {
  "kernelspec": {
   "display_name": "Python 3 (ipykernel)",
   "language": "python",
   "name": "python3"
  },
  "language_info": {
   "codemirror_mode": {
    "name": "ipython",
    "version": 3
   },
   "file_extension": ".py",
   "mimetype": "text/x-python",
   "name": "python",
   "nbconvert_exporter": "python",
   "pygments_lexer": "ipython3",
   "version": "3.11.4"
  }
 },
 "nbformat": 4,
 "nbformat_minor": 5
}
