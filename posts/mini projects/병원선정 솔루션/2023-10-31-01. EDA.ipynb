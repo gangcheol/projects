{
 "cells": [
  {
   "cell_type": "raw",
   "id": "7007cbe5-882e-40b7-bc10-30b2f65bce61",
   "metadata": {},
   "source": [
    "---\n",
    "title : \"01. EDA\"\n",
    "author : \"GC\"\n",
    "date : \"10/31/23\"\n",
    "---"
   ]
  },
  {
   "cell_type": "markdown",
   "id": "ffdaa13a-2dc6-4f1b-bd2e-34b88dfe4401",
   "metadata": {},
   "source": [
    "# 0. import"
   ]
  },
  {
   "cell_type": "code",
   "execution_count": 1,
   "id": "a7313898-6b3b-406e-a98c-cdd9fa2082b3",
   "metadata": {
    "tags": []
   },
   "outputs": [],
   "source": [
    "# 라이브러리 불러오기 \n",
    "\n",
    "import pandas as pd\n",
    "import numpy as np\n",
    "\n",
    "import matplotlib.pyplot as plt\n",
    "import seaborn as sns\n",
    "\n",
    "import scipy.stats as spst\n",
    "\n",
    "import plotly.express as px\n",
    "import plotly.io as pio\n",
    "pio.renderers.default = \"plotly_mimetype+notebook_connected\"\n",
    "\n",
    "plt.rcParams['font.family'] = 'Malgun Gothic'"
   ]
  },
  {
   "cell_type": "markdown",
   "id": "be94139a-3936-4efc-a1ae-1cdb2347e20c",
   "metadata": {},
   "source": [
    "# 1. 데이터 로드"
   ]
  },
  {
   "cell_type": "code",
   "execution_count": 2,
   "id": "7f745d99-a4d9-4821-ba54-999cd1648e6f",
   "metadata": {
    "tags": []
   },
   "outputs": [
    {
     "data": {
      "text/html": [
       "<div>\n",
       "<style scoped>\n",
       "    .dataframe tbody tr th:only-of-type {\n",
       "        vertical-align: middle;\n",
       "    }\n",
       "\n",
       "    .dataframe tbody tr th {\n",
       "        vertical-align: top;\n",
       "    }\n",
       "\n",
       "    .dataframe thead th {\n",
       "        text-align: right;\n",
       "    }\n",
       "</style>\n",
       "<table border=\"1\" class=\"dataframe\">\n",
       "  <thead>\n",
       "    <tr style=\"text-align: right;\">\n",
       "      <th></th>\n",
       "      <th>ID</th>\n",
       "      <th>출동일시</th>\n",
       "      <th>이름</th>\n",
       "      <th>성별</th>\n",
       "      <th>나이</th>\n",
       "      <th>체온</th>\n",
       "      <th>수축기 혈압</th>\n",
       "      <th>이완기 혈압</th>\n",
       "      <th>호흡 곤란</th>\n",
       "      <th>간헐성 경련</th>\n",
       "      <th>...</th>\n",
       "      <th>통증</th>\n",
       "      <th>만지면 아프다</th>\n",
       "      <th>무감각</th>\n",
       "      <th>마비</th>\n",
       "      <th>현기증</th>\n",
       "      <th>졸도</th>\n",
       "      <th>말이 어눌해졌다</th>\n",
       "      <th>시력이 흐려짐</th>\n",
       "      <th>중증질환</th>\n",
       "      <th>이송 시간</th>\n",
       "    </tr>\n",
       "  </thead>\n",
       "  <tbody>\n",
       "    <tr>\n",
       "      <th>0</th>\n",
       "      <td>P10715</td>\n",
       "      <td>2023-09-30</td>\n",
       "      <td>성**</td>\n",
       "      <td>여자</td>\n",
       "      <td>65</td>\n",
       "      <td>36.9</td>\n",
       "      <td>102</td>\n",
       "      <td>66</td>\n",
       "      <td>1</td>\n",
       "      <td>0</td>\n",
       "      <td>...</td>\n",
       "      <td>0</td>\n",
       "      <td>0</td>\n",
       "      <td>0</td>\n",
       "      <td>0</td>\n",
       "      <td>0</td>\n",
       "      <td>1</td>\n",
       "      <td>0</td>\n",
       "      <td>0</td>\n",
       "      <td>심근경색</td>\n",
       "      <td>8</td>\n",
       "    </tr>\n",
       "    <tr>\n",
       "      <th>1</th>\n",
       "      <td>P10959</td>\n",
       "      <td>2023-10-26</td>\n",
       "      <td>표**</td>\n",
       "      <td>남자</td>\n",
       "      <td>86</td>\n",
       "      <td>36.7</td>\n",
       "      <td>106</td>\n",
       "      <td>72</td>\n",
       "      <td>0</td>\n",
       "      <td>0</td>\n",
       "      <td>...</td>\n",
       "      <td>0</td>\n",
       "      <td>1</td>\n",
       "      <td>0</td>\n",
       "      <td>0</td>\n",
       "      <td>0</td>\n",
       "      <td>0</td>\n",
       "      <td>0</td>\n",
       "      <td>0</td>\n",
       "      <td>복부손상</td>\n",
       "      <td>40</td>\n",
       "    </tr>\n",
       "    <tr>\n",
       "      <th>2</th>\n",
       "      <td>P11863</td>\n",
       "      <td>2023-10-05</td>\n",
       "      <td>변**</td>\n",
       "      <td>여자</td>\n",
       "      <td>21</td>\n",
       "      <td>38.1</td>\n",
       "      <td>120</td>\n",
       "      <td>77</td>\n",
       "      <td>0</td>\n",
       "      <td>0</td>\n",
       "      <td>...</td>\n",
       "      <td>0</td>\n",
       "      <td>1</td>\n",
       "      <td>0</td>\n",
       "      <td>0</td>\n",
       "      <td>0</td>\n",
       "      <td>0</td>\n",
       "      <td>0</td>\n",
       "      <td>0</td>\n",
       "      <td>복부손상</td>\n",
       "      <td>27</td>\n",
       "    </tr>\n",
       "    <tr>\n",
       "      <th>3</th>\n",
       "      <td>P12186</td>\n",
       "      <td>2023-10-17</td>\n",
       "      <td>도**</td>\n",
       "      <td>남자</td>\n",
       "      <td>57</td>\n",
       "      <td>36.5</td>\n",
       "      <td>129</td>\n",
       "      <td>75</td>\n",
       "      <td>0</td>\n",
       "      <td>0</td>\n",
       "      <td>...</td>\n",
       "      <td>0</td>\n",
       "      <td>0</td>\n",
       "      <td>0</td>\n",
       "      <td>0</td>\n",
       "      <td>0</td>\n",
       "      <td>1</td>\n",
       "      <td>0</td>\n",
       "      <td>0</td>\n",
       "      <td>뇌경색</td>\n",
       "      <td>26</td>\n",
       "    </tr>\n",
       "    <tr>\n",
       "      <th>4</th>\n",
       "      <td>P15043</td>\n",
       "      <td>2023-10-01</td>\n",
       "      <td>송**</td>\n",
       "      <td>여자</td>\n",
       "      <td>88</td>\n",
       "      <td>39.1</td>\n",
       "      <td>103</td>\n",
       "      <td>65</td>\n",
       "      <td>0</td>\n",
       "      <td>0</td>\n",
       "      <td>...</td>\n",
       "      <td>0</td>\n",
       "      <td>1</td>\n",
       "      <td>0</td>\n",
       "      <td>0</td>\n",
       "      <td>0</td>\n",
       "      <td>0</td>\n",
       "      <td>0</td>\n",
       "      <td>0</td>\n",
       "      <td>복부손상</td>\n",
       "      <td>62</td>\n",
       "    </tr>\n",
       "  </tbody>\n",
       "</table>\n",
       "<p>5 rows × 23 columns</p>\n",
       "</div>"
      ],
      "text/plain": [
       "       ID        출동일시   이름  성별  나이    체온  수축기 혈압  이완기 혈압  호흡 곤란  간헐성 경련  ...  \\\n",
       "0  P10715  2023-09-30  성**  여자  65  36.9     102      66      1       0  ...   \n",
       "1  P10959  2023-10-26  표**  남자  86  36.7     106      72      0       0  ...   \n",
       "2  P11863  2023-10-05  변**  여자  21  38.1     120      77      0       0  ...   \n",
       "3  P12186  2023-10-17  도**  남자  57  36.5     129      75      0       0  ...   \n",
       "4  P15043  2023-10-01  송**  여자  88  39.1     103      65      0       0  ...   \n",
       "\n",
       "   통증  만지면 아프다  무감각  마비  현기증  졸도  말이 어눌해졌다  시력이 흐려짐  중증질환  이송 시간  \n",
       "0   0        0    0   0    0   1         0        0  심근경색      8  \n",
       "1   0        1    0   0    0   0         0        0  복부손상     40  \n",
       "2   0        1    0   0    0   0         0        0  복부손상     27  \n",
       "3   0        0    0   0    0   1         0        0   뇌경색     26  \n",
       "4   0        1    0   0    0   0         0        0  복부손상     62  \n",
       "\n",
       "[5 rows x 23 columns]"
      ]
     },
     "execution_count": 2,
     "metadata": {},
     "output_type": "execute_result"
    }
   ],
   "source": [
    "# 응급 출동 데이터 불러오기\n",
    "# 파일명 119_emergency_dispatch.csv, encoding='cp949'\n",
    "\n",
    "data = pd.read_csv(\"119_emergency_dispatch.csv\", encoding = \"cp949\")\n",
    "data.head()"
   ]
  },
  {
   "cell_type": "markdown",
   "id": "8ec10661-00e2-4552-b971-d14c75f215c5",
   "metadata": {
    "tags": []
   },
   "source": [
    "## (1) 기초 정보 확인"
   ]
  },
  {
   "cell_type": "code",
   "execution_count": 3,
   "id": "aa86ffcc-6f7a-4394-bc45-0619b8412911",
   "metadata": {
    "tags": []
   },
   "outputs": [
    {
     "data": {
      "text/plain": [
       "(17210, 23)"
      ]
     },
     "execution_count": 3,
     "metadata": {},
     "output_type": "execute_result"
    }
   ],
   "source": [
    "data.shape"
   ]
  },
  {
   "cell_type": "code",
   "execution_count": 4,
   "id": "51cae151-fb6d-4d88-8e3d-0e1adfdb135f",
   "metadata": {
    "tags": []
   },
   "outputs": [
    {
     "name": "stdout",
     "output_type": "stream",
     "text": [
      "<class 'pandas.core.frame.DataFrame'>\n",
      "RangeIndex: 17210 entries, 0 to 17209\n",
      "Data columns (total 23 columns):\n",
      " #   Column    Non-Null Count  Dtype  \n",
      "---  ------    --------------  -----  \n",
      " 0   ID        17210 non-null  object \n",
      " 1   출동일시      17210 non-null  object \n",
      " 2   이름        17210 non-null  object \n",
      " 3   성별        17210 non-null  object \n",
      " 4   나이        17210 non-null  int64  \n",
      " 5   체온        17210 non-null  float64\n",
      " 6   수축기 혈압    17210 non-null  int64  \n",
      " 7   이완기 혈압    17210 non-null  int64  \n",
      " 8   호흡 곤란     17210 non-null  int64  \n",
      " 9   간헐성 경련    17210 non-null  int64  \n",
      " 10  설사        17210 non-null  int64  \n",
      " 11  기침        17210 non-null  int64  \n",
      " 12  출혈        17210 non-null  int64  \n",
      " 13  통증        17210 non-null  int64  \n",
      " 14  만지면 아프다   17210 non-null  int64  \n",
      " 15  무감각       17210 non-null  int64  \n",
      " 16  마비        17210 non-null  int64  \n",
      " 17  현기증       17210 non-null  int64  \n",
      " 18  졸도        17210 non-null  int64  \n",
      " 19  말이 어눌해졌다  17210 non-null  int64  \n",
      " 20  시력이 흐려짐   17210 non-null  int64  \n",
      " 21  중증질환      17210 non-null  object \n",
      " 22  이송 시간     17210 non-null  int64  \n",
      "dtypes: float64(1), int64(17), object(5)\n",
      "memory usage: 3.0+ MB\n"
     ]
    }
   ],
   "source": [
    "data.info()"
   ]
  },
  {
   "cell_type": "code",
   "execution_count": 5,
   "id": "11c47f79-1add-4e76-88f7-fc8e1542b989",
   "metadata": {
    "tags": []
   },
   "outputs": [
    {
     "data": {
      "text/plain": [
       "ID          0\n",
       "출동일시        0\n",
       "이름          0\n",
       "성별          0\n",
       "나이          0\n",
       "체온          0\n",
       "수축기 혈압      0\n",
       "이완기 혈압      0\n",
       "호흡 곤란       0\n",
       "간헐성 경련      0\n",
       "설사          0\n",
       "기침          0\n",
       "출혈          0\n",
       "통증          0\n",
       "만지면 아프다     0\n",
       "무감각         0\n",
       "마비          0\n",
       "현기증         0\n",
       "졸도          0\n",
       "말이 어눌해졌다    0\n",
       "시력이 흐려짐     0\n",
       "중증질환        0\n",
       "이송 시간       0\n",
       "dtype: int64"
      ]
     },
     "execution_count": 5,
     "metadata": {},
     "output_type": "execute_result"
    }
   ],
   "source": [
    "data.isna().sum()"
   ]
  },
  {
   "cell_type": "markdown",
   "id": "17b2e96e-a072-46b9-ba90-2935bb60d845",
   "metadata": {},
   "source": [
    "# 2.  데이터 전처리"
   ]
  },
  {
   "cell_type": "markdown",
   "id": "0a2c19cb-5175-4f50-bbc5-ceabd5d7336b",
   "metadata": {},
   "source": [
    "`-` '나이' 컬럼을 활용하여 [신생아, 10대미만, 10대, 20대~ 80대, 90이상]으로 구분"
   ]
  },
  {
   "cell_type": "code",
   "execution_count": 6,
   "id": "f9873ef5-b3ef-4f42-92a0-056ab7b387fa",
   "metadata": {
    "tags": []
   },
   "outputs": [
    {
     "data": {
      "text/html": [
       "<div>\n",
       "<style scoped>\n",
       "    .dataframe tbody tr th:only-of-type {\n",
       "        vertical-align: middle;\n",
       "    }\n",
       "\n",
       "    .dataframe tbody tr th {\n",
       "        vertical-align: top;\n",
       "    }\n",
       "\n",
       "    .dataframe thead th {\n",
       "        text-align: right;\n",
       "    }\n",
       "</style>\n",
       "<table border=\"1\" class=\"dataframe\">\n",
       "  <thead>\n",
       "    <tr style=\"text-align: right;\">\n",
       "      <th></th>\n",
       "      <th>ID</th>\n",
       "      <th>출동일시</th>\n",
       "      <th>이름</th>\n",
       "      <th>성별</th>\n",
       "      <th>나이</th>\n",
       "      <th>체온</th>\n",
       "      <th>수축기 혈압</th>\n",
       "      <th>이완기 혈압</th>\n",
       "      <th>호흡 곤란</th>\n",
       "      <th>간헐성 경련</th>\n",
       "      <th>...</th>\n",
       "      <th>만지면 아프다</th>\n",
       "      <th>무감각</th>\n",
       "      <th>마비</th>\n",
       "      <th>현기증</th>\n",
       "      <th>졸도</th>\n",
       "      <th>말이 어눌해졌다</th>\n",
       "      <th>시력이 흐려짐</th>\n",
       "      <th>중증질환</th>\n",
       "      <th>이송 시간</th>\n",
       "      <th>연령구분</th>\n",
       "    </tr>\n",
       "  </thead>\n",
       "  <tbody>\n",
       "    <tr>\n",
       "      <th>0</th>\n",
       "      <td>P10715</td>\n",
       "      <td>2023-09-30</td>\n",
       "      <td>성**</td>\n",
       "      <td>여자</td>\n",
       "      <td>65</td>\n",
       "      <td>36.9</td>\n",
       "      <td>102</td>\n",
       "      <td>66</td>\n",
       "      <td>1</td>\n",
       "      <td>0</td>\n",
       "      <td>...</td>\n",
       "      <td>0</td>\n",
       "      <td>0</td>\n",
       "      <td>0</td>\n",
       "      <td>0</td>\n",
       "      <td>1</td>\n",
       "      <td>0</td>\n",
       "      <td>0</td>\n",
       "      <td>심근경색</td>\n",
       "      <td>8</td>\n",
       "      <td>60대</td>\n",
       "    </tr>\n",
       "    <tr>\n",
       "      <th>1</th>\n",
       "      <td>P10959</td>\n",
       "      <td>2023-10-26</td>\n",
       "      <td>표**</td>\n",
       "      <td>남자</td>\n",
       "      <td>86</td>\n",
       "      <td>36.7</td>\n",
       "      <td>106</td>\n",
       "      <td>72</td>\n",
       "      <td>0</td>\n",
       "      <td>0</td>\n",
       "      <td>...</td>\n",
       "      <td>1</td>\n",
       "      <td>0</td>\n",
       "      <td>0</td>\n",
       "      <td>0</td>\n",
       "      <td>0</td>\n",
       "      <td>0</td>\n",
       "      <td>0</td>\n",
       "      <td>복부손상</td>\n",
       "      <td>40</td>\n",
       "      <td>80대</td>\n",
       "    </tr>\n",
       "    <tr>\n",
       "      <th>2</th>\n",
       "      <td>P11863</td>\n",
       "      <td>2023-10-05</td>\n",
       "      <td>변**</td>\n",
       "      <td>여자</td>\n",
       "      <td>21</td>\n",
       "      <td>38.1</td>\n",
       "      <td>120</td>\n",
       "      <td>77</td>\n",
       "      <td>0</td>\n",
       "      <td>0</td>\n",
       "      <td>...</td>\n",
       "      <td>1</td>\n",
       "      <td>0</td>\n",
       "      <td>0</td>\n",
       "      <td>0</td>\n",
       "      <td>0</td>\n",
       "      <td>0</td>\n",
       "      <td>0</td>\n",
       "      <td>복부손상</td>\n",
       "      <td>27</td>\n",
       "      <td>20대</td>\n",
       "    </tr>\n",
       "    <tr>\n",
       "      <th>3</th>\n",
       "      <td>P12186</td>\n",
       "      <td>2023-10-17</td>\n",
       "      <td>도**</td>\n",
       "      <td>남자</td>\n",
       "      <td>57</td>\n",
       "      <td>36.5</td>\n",
       "      <td>129</td>\n",
       "      <td>75</td>\n",
       "      <td>0</td>\n",
       "      <td>0</td>\n",
       "      <td>...</td>\n",
       "      <td>0</td>\n",
       "      <td>0</td>\n",
       "      <td>0</td>\n",
       "      <td>0</td>\n",
       "      <td>1</td>\n",
       "      <td>0</td>\n",
       "      <td>0</td>\n",
       "      <td>뇌경색</td>\n",
       "      <td>26</td>\n",
       "      <td>50대</td>\n",
       "    </tr>\n",
       "    <tr>\n",
       "      <th>4</th>\n",
       "      <td>P15043</td>\n",
       "      <td>2023-10-01</td>\n",
       "      <td>송**</td>\n",
       "      <td>여자</td>\n",
       "      <td>88</td>\n",
       "      <td>39.1</td>\n",
       "      <td>103</td>\n",
       "      <td>65</td>\n",
       "      <td>0</td>\n",
       "      <td>0</td>\n",
       "      <td>...</td>\n",
       "      <td>1</td>\n",
       "      <td>0</td>\n",
       "      <td>0</td>\n",
       "      <td>0</td>\n",
       "      <td>0</td>\n",
       "      <td>0</td>\n",
       "      <td>0</td>\n",
       "      <td>복부손상</td>\n",
       "      <td>62</td>\n",
       "      <td>80대</td>\n",
       "    </tr>\n",
       "  </tbody>\n",
       "</table>\n",
       "<p>5 rows × 24 columns</p>\n",
       "</div>"
      ],
      "text/plain": [
       "       ID        출동일시   이름  성별  나이    체온  수축기 혈압  이완기 혈압  호흡 곤란  간헐성 경련  ...  \\\n",
       "0  P10715  2023-09-30  성**  여자  65  36.9     102      66      1       0  ...   \n",
       "1  P10959  2023-10-26  표**  남자  86  36.7     106      72      0       0  ...   \n",
       "2  P11863  2023-10-05  변**  여자  21  38.1     120      77      0       0  ...   \n",
       "3  P12186  2023-10-17  도**  남자  57  36.5     129      75      0       0  ...   \n",
       "4  P15043  2023-10-01  송**  여자  88  39.1     103      65      0       0  ...   \n",
       "\n",
       "   만지면 아프다  무감각  마비  현기증  졸도  말이 어눌해졌다  시력이 흐려짐  중증질환  이송 시간  연령구분  \n",
       "0        0    0   0    0   1         0        0  심근경색      8   60대  \n",
       "1        1    0   0    0   0         0        0  복부손상     40   80대  \n",
       "2        1    0   0    0   0         0        0  복부손상     27   20대  \n",
       "3        0    0   0    0   1         0        0   뇌경색     26   50대  \n",
       "4        1    0   0    0   0         0        0  복부손상     62   80대  \n",
       "\n",
       "[5 rows x 24 columns]"
      ]
     },
     "execution_count": 6,
     "metadata": {},
     "output_type": "execute_result"
    }
   ],
   "source": [
    "data['연령구분'] = pd.cut(data[\"나이\"], \n",
    "                      labels = [\"신생아\", \"10대미만\", \"10대\", \"20대\", \"30대\", \"40대\", \"50대\", \"60대\", \"70대\", \"80대\", \"90이상\"], \n",
    "                      bins = [-np.inf, 0, 9, 19, 29, 39, 49, 59, 69, 79, 89, np.inf])\n",
    "data.head()"
   ]
  },
  {
   "cell_type": "markdown",
   "id": "eb3db746-b875-4b25-b5f7-1cb9c6ab8e5a",
   "metadata": {},
   "source": [
    "`-` 출동일자 컬럼에서 출동월 정보를 추출하기"
   ]
  },
  {
   "cell_type": "code",
   "execution_count": 7,
   "id": "4694925f-b517-4e3e-b9ac-9b89aa03573f",
   "metadata": {
    "tags": []
   },
   "outputs": [],
   "source": [
    "data['출동월'] = [i.split(\"-\")[1] for i in data[\"출동일시\"]]"
   ]
  },
  {
   "cell_type": "markdown",
   "id": "b9f44466-e409-4c8a-936b-2b48bf58700a",
   "metadata": {},
   "source": [
    "`-` 발열 정보 추출\n",
    "\n",
    "* 체온이 37도 이상이면 1, 그렇지 않으면 0"
   ]
  },
  {
   "cell_type": "code",
   "execution_count": 8,
   "id": "707826e7-c966-4dda-810d-66616458dcf5",
   "metadata": {
    "tags": []
   },
   "outputs": [],
   "source": [
    "data['발열'] = [1 if i >= 37 else 0 for i in data[\"체온\"]]"
   ]
  },
  {
   "cell_type": "markdown",
   "id": "9a3c3d3c-2b7b-479f-84a3-199d8805e509",
   "metadata": {},
   "source": [
    "`-` 혈압 정보 추출\n",
    "\n",
    "* 수축기 혈압 컬럼을 활용하여 140이상인 경우 1, 그렇지 않으면 0으로 구분\n",
    "\n",
    "* 수축기 혈압이 90이하인 경우 1, 그렇지 않으면 0"
   ]
  },
  {
   "cell_type": "code",
   "execution_count": 9,
   "id": "bf52861a-5e92-4256-8d91-8ea986e50a68",
   "metadata": {
    "tags": []
   },
   "outputs": [],
   "source": [
    "data['고혈압'] = [1 if i >= 140 else 0 for i in data[\"수축기 혈압\"]]\n",
    "\n",
    "data['저혈압'] = [1 if i <= 90 else 0 for i in data[\"수축기 혈압\"]]"
   ]
  },
  {
   "cell_type": "markdown",
   "id": "219c7df5-d984-49ba-852b-dac26550a2b2",
   "metadata": {},
   "source": [
    "***"
   ]
  },
  {
   "cell_type": "markdown",
   "id": "e41b2b96-f7d5-49f8-8d03-ed8f258d80a2",
   "metadata": {},
   "source": [
    "# 3. 단변량 분석 - 범주형 데이터"
   ]
  },
  {
   "cell_type": "markdown",
   "id": "4c2a3c34-d6ad-47cf-b922-10da142ea22e",
   "metadata": {},
   "source": [
    "## (1) 중증질환"
   ]
  },
  {
   "cell_type": "code",
   "execution_count": 10,
   "id": "99995fe8-04d5-488b-a507-c8c7b7b8f555",
   "metadata": {
    "tags": []
   },
   "outputs": [
    {
     "data": {
      "image/png": "[encoded data removed]",
      "text/plain": [
       "<Figure size 640x480 with 1 Axes>"
      ]
     },
     "metadata": {},
     "output_type": "display_data"
    }
   ],
   "source": [
    "import seaborn as sns\n",
    "\n",
    "sns.countplot(x = data[\"중증질환\"])\n",
    "plt.title(\"중증질환 빈도수\")\n",
    "plt.show()"
   ]
  },
  {
   "cell_type": "markdown",
   "id": "3255007f-f68b-4129-89ec-2300b530a118",
   "metadata": {},
   "source": [
    "`-` 중증 질환 중 `[심근경색, 복부손상, 뇌경색, 뇌출혈]`에 대한 자료만 추출하여 분석"
   ]
  },
  {
   "cell_type": "code",
   "execution_count": 11,
   "id": "e496c01f-8c32-40b7-b38d-9c52dffd0504",
   "metadata": {
    "tags": []
   },
   "outputs": [],
   "source": [
    "c = ['심근경색', '복부손상', '뇌경색', '뇌출혈']\n",
    "desease = data.loc[map(lambda x : x in c, data[\"중증질환\"]), : ]"
   ]
  },
  {
   "cell_type": "code",
   "execution_count": 12,
   "id": "e23eddc4-b775-4cd5-80da-e6a5a98ab75e",
   "metadata": {
    "tags": []
   },
   "outputs": [
    {
     "data": {
      "image/png": "[encoded data removed]",
      "text/plain": [
       "<Figure size 640x480 with 1 Axes>"
      ]
     },
     "metadata": {},
     "output_type": "display_data"
    }
   ],
   "source": [
    "sns.countplot(x = desease[\"중증질환\"])\n",
    "plt.title(\"중증질환 출동건수\")\n",
    "plt.show()"
   ]
  },
  {
   "cell_type": "markdown",
   "id": "06f5ce0b-457d-4764-8471-db2eb15afd80",
   "metadata": {},
   "source": [
    "## (2) 연령대"
   ]
  },
  {
   "cell_type": "code",
   "execution_count": 13,
   "id": "832631fe-2a5a-4f12-b420-db766f6454d0",
   "metadata": {
    "tags": []
   },
   "outputs": [
    {
     "data": {
      "image/png": "[encoded data removed]",
      "text/plain": [
       "<Figure size 640x480 with 1 Axes>"
      ]
     },
     "metadata": {},
     "output_type": "display_data"
    }
   ],
   "source": [
    "sns.countplot(x = desease[\"연령구분\"])\n",
    "plt.title(\"연령대별 출동건수\")\n",
    "plt.show()"
   ]
  },
  {
   "cell_type": "markdown",
   "id": "fdbf885f-0f6c-4834-96c6-160295917a9e",
   "metadata": {},
   "source": [
    "***"
   ]
  },
  {
   "cell_type": "markdown",
   "id": "afbbf87a-bc48-4ef6-986d-1ce364d1f0a3",
   "metadata": {},
   "source": [
    "# 4. 단변량 분석 - 수치형 데이터"
   ]
  },
  {
   "cell_type": "markdown",
   "id": "5f857eb4-4136-4949-84c4-ad8f60ca690d",
   "metadata": {},
   "source": [
    "## (1) 체온"
   ]
  },
  {
   "cell_type": "code",
   "execution_count": 14,
   "id": "da7c6a82-b008-438e-836d-491c0671aa09",
   "metadata": {
    "tags": []
   },
   "outputs": [
    {
     "data": {
      "image/png": "[encoded data removed]",
      "text/plain": [
       "<Figure size 400x400 with 1 Axes>"
      ]
     },
     "metadata": {},
     "output_type": "display_data"
    }
   ],
   "source": [
    "plt.figure(figsize = (4,4))\n",
    "sns.boxplot(x = desease[\"체온\"])\n",
    "plt.show()"
   ]
  },
  {
   "cell_type": "markdown",
   "id": "dc2043a7-90b0-4f37-beb9-81e1eadcc3d4",
   "metadata": {},
   "source": [
    "`-` 체온컬럼은 다수의 이상치가 보이나, 응급상황에 따른 병원 이송 솔루션이기 때문에 제거하거나 다른값으로 대체하기엔 적절하지 않다"
   ]
  },
  {
   "cell_type": "markdown",
   "id": "b47ef545-3b88-4e3e-bfec-3a2d80488def",
   "metadata": {},
   "source": [
    "# 5. 이변량 분석 : 범주 vs 범주"
   ]
  },
  {
   "cell_type": "markdown",
   "id": "d21988c1-ca64-4855-a475-fce5025b8b1d",
   "metadata": {},
   "source": [
    "* Target : 중증 질환\n",
    "* Feature : 성별, 연령구분, 출동월, 증상 리스트"
   ]
  },
  {
   "cell_type": "code",
   "execution_count": 15,
   "id": "96650a0c-99e9-4e69-9069-7e2ce485ec7f",
   "metadata": {
    "tags": []
   },
   "outputs": [],
   "source": [
    "c = ['성별', '연령구분', '출동월']\n",
    "c1 =  ['호흡 곤란', '간헐성 경련', '설사', '기침', '출혈', '통증', '만지면 아프다', '무감각', '마비', '현기증', '졸도',\n",
    "       '말이 어눌해졌다', '시력이 흐려짐', '발열', '고혈압', '저혈압']\n",
    "c.extend(c1)"
   ]
  },
  {
   "cell_type": "code",
   "execution_count": 16,
   "id": "0b6ad49a-60e9-4f3d-8a0f-e46f07c842ea",
   "metadata": {
    "tags": []
   },
   "outputs": [],
   "source": [
    "chi2_p = []\n",
    "chi2_s = []\n",
    "\n",
    "for i in range(len(c)) :\n",
    "    chi2_p.append(spst.chi2_contingency(pd.crosstab(desease[c[i]],desease[\"중증질환\"]))[1])\n",
    "    chi2_s.append(spst.chi2_contingency(pd.crosstab(desease[c[i]],desease[\"중증질환\"]))[0])"
   ]
  },
  {
   "cell_type": "code",
   "execution_count": 17,
   "id": "0a9452e0-a132-4f59-9732-2b6df80bf058",
   "metadata": {
    "tags": []
   },
   "outputs": [
    {
     "data": {
      "text/html": [
       "<div>\n",
       "<style scoped>\n",
       "    .dataframe tbody tr th:only-of-type {\n",
       "        vertical-align: middle;\n",
       "    }\n",
       "\n",
       "    .dataframe tbody tr th {\n",
       "        vertical-align: top;\n",
       "    }\n",
       "\n",
       "    .dataframe thead th {\n",
       "        text-align: right;\n",
       "    }\n",
       "</style>\n",
       "<table border=\"1\" class=\"dataframe\">\n",
       "  <thead>\n",
       "    <tr style=\"text-align: right;\">\n",
       "      <th></th>\n",
       "      <th>var</th>\n",
       "      <th>stat</th>\n",
       "      <th>p-value</th>\n",
       "      <th>기각여부</th>\n",
       "    </tr>\n",
       "  </thead>\n",
       "  <tbody>\n",
       "    <tr>\n",
       "      <th>0</th>\n",
       "      <td>성별</td>\n",
       "      <td>1.632336</td>\n",
       "      <td>6.520803e-01</td>\n",
       "      <td>기각 x</td>\n",
       "    </tr>\n",
       "    <tr>\n",
       "      <th>1</th>\n",
       "      <td>연령구분</td>\n",
       "      <td>20.724015</td>\n",
       "      <td>7.990422e-01</td>\n",
       "      <td>기각 x</td>\n",
       "    </tr>\n",
       "    <tr>\n",
       "      <th>2</th>\n",
       "      <td>출동월</td>\n",
       "      <td>27.426785</td>\n",
       "      <td>6.007840e-01</td>\n",
       "      <td>기각 x</td>\n",
       "    </tr>\n",
       "    <tr>\n",
       "      <th>3</th>\n",
       "      <td>호흡 곤란</td>\n",
       "      <td>12143.468674</td>\n",
       "      <td>0.000000e+00</td>\n",
       "      <td>기각</td>\n",
       "    </tr>\n",
       "    <tr>\n",
       "      <th>4</th>\n",
       "      <td>간헐성 경련</td>\n",
       "      <td>1191.634967</td>\n",
       "      <td>4.787739e-258</td>\n",
       "      <td>기각</td>\n",
       "    </tr>\n",
       "    <tr>\n",
       "      <th>5</th>\n",
       "      <td>설사</td>\n",
       "      <td>2153.464755</td>\n",
       "      <td>0.000000e+00</td>\n",
       "      <td>기각</td>\n",
       "    </tr>\n",
       "    <tr>\n",
       "      <th>6</th>\n",
       "      <td>기침</td>\n",
       "      <td>1075.098480</td>\n",
       "      <td>9.191766e-233</td>\n",
       "      <td>기각</td>\n",
       "    </tr>\n",
       "    <tr>\n",
       "      <th>7</th>\n",
       "      <td>출혈</td>\n",
       "      <td>2341.378625</td>\n",
       "      <td>0.000000e+00</td>\n",
       "      <td>기각</td>\n",
       "    </tr>\n",
       "    <tr>\n",
       "      <th>8</th>\n",
       "      <td>통증</td>\n",
       "      <td>1690.206920</td>\n",
       "      <td>0.000000e+00</td>\n",
       "      <td>기각</td>\n",
       "    </tr>\n",
       "    <tr>\n",
       "      <th>9</th>\n",
       "      <td>만지면 아프다</td>\n",
       "      <td>6423.164301</td>\n",
       "      <td>0.000000e+00</td>\n",
       "      <td>기각</td>\n",
       "    </tr>\n",
       "    <tr>\n",
       "      <th>10</th>\n",
       "      <td>무감각</td>\n",
       "      <td>3834.728328</td>\n",
       "      <td>0.000000e+00</td>\n",
       "      <td>기각</td>\n",
       "    </tr>\n",
       "    <tr>\n",
       "      <th>11</th>\n",
       "      <td>마비</td>\n",
       "      <td>6827.361021</td>\n",
       "      <td>0.000000e+00</td>\n",
       "      <td>기각</td>\n",
       "    </tr>\n",
       "    <tr>\n",
       "      <th>12</th>\n",
       "      <td>현기증</td>\n",
       "      <td>3120.203329</td>\n",
       "      <td>0.000000e+00</td>\n",
       "      <td>기각</td>\n",
       "    </tr>\n",
       "    <tr>\n",
       "      <th>13</th>\n",
       "      <td>졸도</td>\n",
       "      <td>2012.433146</td>\n",
       "      <td>0.000000e+00</td>\n",
       "      <td>기각</td>\n",
       "    </tr>\n",
       "    <tr>\n",
       "      <th>14</th>\n",
       "      <td>말이 어눌해졌다</td>\n",
       "      <td>7526.849010</td>\n",
       "      <td>0.000000e+00</td>\n",
       "      <td>기각</td>\n",
       "    </tr>\n",
       "    <tr>\n",
       "      <th>15</th>\n",
       "      <td>시력이 흐려짐</td>\n",
       "      <td>2120.402303</td>\n",
       "      <td>0.000000e+00</td>\n",
       "      <td>기각</td>\n",
       "    </tr>\n",
       "    <tr>\n",
       "      <th>16</th>\n",
       "      <td>발열</td>\n",
       "      <td>923.068222</td>\n",
       "      <td>8.776252e-200</td>\n",
       "      <td>기각</td>\n",
       "    </tr>\n",
       "    <tr>\n",
       "      <th>17</th>\n",
       "      <td>고혈압</td>\n",
       "      <td>13.412977</td>\n",
       "      <td>3.823537e-03</td>\n",
       "      <td>기각</td>\n",
       "    </tr>\n",
       "    <tr>\n",
       "      <th>18</th>\n",
       "      <td>저혈압</td>\n",
       "      <td>182.259783</td>\n",
       "      <td>2.867082e-39</td>\n",
       "      <td>기각</td>\n",
       "    </tr>\n",
       "  </tbody>\n",
       "</table>\n",
       "</div>"
      ],
      "text/plain": [
       "         var          stat        p-value  기각여부\n",
       "0         성별      1.632336   6.520803e-01  기각 x\n",
       "1       연령구분     20.724015   7.990422e-01  기각 x\n",
       "2        출동월     27.426785   6.007840e-01  기각 x\n",
       "3      호흡 곤란  12143.468674   0.000000e+00    기각\n",
       "4     간헐성 경련   1191.634967  4.787739e-258    기각\n",
       "5         설사   2153.464755   0.000000e+00    기각\n",
       "6         기침   1075.098480  9.191766e-233    기각\n",
       "7         출혈   2341.378625   0.000000e+00    기각\n",
       "8         통증   1690.206920   0.000000e+00    기각\n",
       "9    만지면 아프다   6423.164301   0.000000e+00    기각\n",
       "10       무감각   3834.728328   0.000000e+00    기각\n",
       "11        마비   6827.361021   0.000000e+00    기각\n",
       "12       현기증   3120.203329   0.000000e+00    기각\n",
       "13        졸도   2012.433146   0.000000e+00    기각\n",
       "14  말이 어눌해졌다   7526.849010   0.000000e+00    기각\n",
       "15   시력이 흐려짐   2120.402303   0.000000e+00    기각\n",
       "16        발열    923.068222  8.776252e-200    기각\n",
       "17       고혈압     13.412977   3.823537e-03    기각\n",
       "18       저혈압    182.259783   2.867082e-39    기각"
      ]
     },
     "execution_count": 17,
     "metadata": {},
     "output_type": "execute_result"
    }
   ],
   "source": [
    "symptom = ['호흡 곤란', '간헐성 경련', '설사', '기침', '출혈', '통증', '만지면 아프다', '무감각', '마비', '현기증', '졸도',\n",
    "       '말이 어눌해졌다', '시력이 흐려짐', '발열', '고혈압', '저혈압']\n",
    "\n",
    "result1 = pd.DataFrame({\"var\" : c, \"stat\" : chi2_s, \"p-value\" : chi2_p})\n",
    "result1[\"기각여부\"] = [\"기각\" if i <=0.05 else \"기각 x\" for i in result1[\"p-value\"]]\n",
    "result1"
   ]
  },
  {
   "cell_type": "markdown",
   "id": "9e3b530d-e452-4c9e-a826-a7f592aea159",
   "metadata": {},
   "source": [
    "***"
   ]
  },
  {
   "cell_type": "markdown",
   "id": "46355e38-706c-456d-9a08-ab7de36d85ba",
   "metadata": {},
   "source": [
    "# 6. 이변량 분석  : 수치 vs 범주"
   ]
  },
  {
   "cell_type": "markdown",
   "id": "b175ae19-10d1-4d47-ae64-e8c6429ce5f9",
   "metadata": {},
   "source": [
    " * Target : 중증 질환\n",
    " * Feature : 나이, 체온, 수축기 혈압, 이완기 혈압"
   ]
  },
  {
   "cell_type": "markdown",
   "id": "d1f70455-ca20-426a-91b9-54f6daf62e1e",
   "metadata": {},
   "source": [
    "## (1) bar chart"
   ]
  },
  {
   "cell_type": "code",
   "execution_count": 18,
   "id": "ba46d68b-cb00-4d6a-a31c-3dcf7b01ebaf",
   "metadata": {
    "tags": []
   },
   "outputs": [],
   "source": [
    "_l = desease[\"중증질환\"].unique()\n",
    "_l\n",
    "\n",
    "anova_column = ['나이', '체온', '수축기 혈압', '이완기 혈압']\n",
    "\n",
    "aov_stat = []\n",
    "for j in range(len(anova_column)) :\n",
    "    for i in range(len(_l)) :\n",
    "        exec(f\"p_{j}{i} = desease.loc[desease['중증질환'] == _l[{i}] , [anova_column[{j}]]]\")\n",
    "        \n",
    "anova1 = spst.f_oneway(p_00,p_01,p_02,p_03)\n",
    "anova2 = spst.f_oneway(p_10,p_11,p_12,p_13)\n",
    "anova3 = spst.f_oneway(p_20,p_21,p_22,p_23)\n",
    "anova4 = spst.f_oneway(p_30,p_31,p_32,p_33)"
   ]
  },
  {
   "cell_type": "code",
   "execution_count": 19,
   "id": "ba565b25-1d6f-4192-8180-ee510bb47a69",
   "metadata": {
    "tags": []
   },
   "outputs": [],
   "source": [
    "aov_spst =[anova1[0][0],anova2[0][0],anova3[0][0],anova4[0][0]]\n",
    "aov_p =[anova1[1][0],anova2[1][0],anova3[1][0],anova4[1][0]]"
   ]
  },
  {
   "cell_type": "code",
   "execution_count": 20,
   "id": "b87e7e2c-b779-4104-84bb-206ba5025bbe",
   "metadata": {
    "tags": []
   },
   "outputs": [
    {
     "data": {
      "image/png": "[encoded data removed]",
      "text/plain": [
       "<Figure size 1200x400 with 4 Axes>"
      ]
     },
     "metadata": {},
     "output_type": "display_data"
    }
   ],
   "source": [
    "import seaborn as sns\n",
    "fig, axes = plt.subplots(1,4, figsize = (12, 4))\n",
    "\n",
    "for i in range(4) :\n",
    "    sns.barplot(y=anova_column[i], x = \"중증질환\", data = desease, ax = axes[i])\n",
    "    axes[i].set_title(f\"중증질환별 {anova_column[i]} 평균\")\n",
    "    \n",
    "fig.tight_layout()"
   ]
  },
  {
   "cell_type": "markdown",
   "id": "128e5c15-e114-4610-aa28-eb82a54b1cb0",
   "metadata": {},
   "source": [
    "## (2) anova"
   ]
  },
  {
   "cell_type": "code",
   "execution_count": 21,
   "id": "3cb294fc-de9c-474e-8e2c-b5b677f48ded",
   "metadata": {
    "tags": []
   },
   "outputs": [],
   "source": [
    "result2 = pd.DataFrame({\"var\" : anova_column,\n",
    "              \"stat\" : aov_spst,\n",
    "              \"p-value\" : aov_p})\n",
    "\n",
    "result2[\"기각여부\"] = [\"기각\" if i<=0.05 else \"기각 x\" for i in result2[\"p-value\"]]"
   ]
  },
  {
   "cell_type": "code",
   "execution_count": 22,
   "id": "164d1af2-72a0-4e45-9766-6da8dbb2961a",
   "metadata": {
    "tags": []
   },
   "outputs": [],
   "source": [
    "total_result = pd.concat([result1, result2], axis = 0)\n",
    "total_result = total_result.loc[total_result.기각여부 == \"기각\", :].reset_index(drop = True)"
   ]
  },
  {
   "cell_type": "code",
   "execution_count": 23,
   "id": "e5b55f89-2835-4c66-881d-c64f9db7ad34",
   "metadata": {
    "tags": []
   },
   "outputs": [
    {
     "data": {
      "text/html": [
       "<div>\n",
       "<style scoped>\n",
       "    .dataframe tbody tr th:only-of-type {\n",
       "        vertical-align: middle;\n",
       "    }\n",
       "\n",
       "    .dataframe tbody tr th {\n",
       "        vertical-align: top;\n",
       "    }\n",
       "\n",
       "    .dataframe thead th {\n",
       "        text-align: right;\n",
       "    }\n",
       "</style>\n",
       "<table border=\"1\" class=\"dataframe\">\n",
       "  <thead>\n",
       "    <tr style=\"text-align: right;\">\n",
       "      <th></th>\n",
       "      <th>var</th>\n",
       "      <th>stat</th>\n",
       "      <th>p-value</th>\n",
       "      <th>기각여부</th>\n",
       "    </tr>\n",
       "  </thead>\n",
       "  <tbody>\n",
       "    <tr>\n",
       "      <th>0</th>\n",
       "      <td>호흡 곤란</td>\n",
       "      <td>12143.468674</td>\n",
       "      <td>0.000000e+00</td>\n",
       "      <td>기각</td>\n",
       "    </tr>\n",
       "    <tr>\n",
       "      <th>1</th>\n",
       "      <td>간헐성 경련</td>\n",
       "      <td>1191.634967</td>\n",
       "      <td>4.787739e-258</td>\n",
       "      <td>기각</td>\n",
       "    </tr>\n",
       "    <tr>\n",
       "      <th>2</th>\n",
       "      <td>설사</td>\n",
       "      <td>2153.464755</td>\n",
       "      <td>0.000000e+00</td>\n",
       "      <td>기각</td>\n",
       "    </tr>\n",
       "    <tr>\n",
       "      <th>3</th>\n",
       "      <td>기침</td>\n",
       "      <td>1075.098480</td>\n",
       "      <td>9.191766e-233</td>\n",
       "      <td>기각</td>\n",
       "    </tr>\n",
       "    <tr>\n",
       "      <th>4</th>\n",
       "      <td>출혈</td>\n",
       "      <td>2341.378625</td>\n",
       "      <td>0.000000e+00</td>\n",
       "      <td>기각</td>\n",
       "    </tr>\n",
       "    <tr>\n",
       "      <th>5</th>\n",
       "      <td>통증</td>\n",
       "      <td>1690.206920</td>\n",
       "      <td>0.000000e+00</td>\n",
       "      <td>기각</td>\n",
       "    </tr>\n",
       "    <tr>\n",
       "      <th>6</th>\n",
       "      <td>만지면 아프다</td>\n",
       "      <td>6423.164301</td>\n",
       "      <td>0.000000e+00</td>\n",
       "      <td>기각</td>\n",
       "    </tr>\n",
       "    <tr>\n",
       "      <th>7</th>\n",
       "      <td>무감각</td>\n",
       "      <td>3834.728328</td>\n",
       "      <td>0.000000e+00</td>\n",
       "      <td>기각</td>\n",
       "    </tr>\n",
       "    <tr>\n",
       "      <th>8</th>\n",
       "      <td>마비</td>\n",
       "      <td>6827.361021</td>\n",
       "      <td>0.000000e+00</td>\n",
       "      <td>기각</td>\n",
       "    </tr>\n",
       "    <tr>\n",
       "      <th>9</th>\n",
       "      <td>현기증</td>\n",
       "      <td>3120.203329</td>\n",
       "      <td>0.000000e+00</td>\n",
       "      <td>기각</td>\n",
       "    </tr>\n",
       "    <tr>\n",
       "      <th>10</th>\n",
       "      <td>졸도</td>\n",
       "      <td>2012.433146</td>\n",
       "      <td>0.000000e+00</td>\n",
       "      <td>기각</td>\n",
       "    </tr>\n",
       "    <tr>\n",
       "      <th>11</th>\n",
       "      <td>말이 어눌해졌다</td>\n",
       "      <td>7526.849010</td>\n",
       "      <td>0.000000e+00</td>\n",
       "      <td>기각</td>\n",
       "    </tr>\n",
       "    <tr>\n",
       "      <th>12</th>\n",
       "      <td>시력이 흐려짐</td>\n",
       "      <td>2120.402303</td>\n",
       "      <td>0.000000e+00</td>\n",
       "      <td>기각</td>\n",
       "    </tr>\n",
       "    <tr>\n",
       "      <th>13</th>\n",
       "      <td>발열</td>\n",
       "      <td>923.068222</td>\n",
       "      <td>8.776252e-200</td>\n",
       "      <td>기각</td>\n",
       "    </tr>\n",
       "    <tr>\n",
       "      <th>14</th>\n",
       "      <td>고혈압</td>\n",
       "      <td>13.412977</td>\n",
       "      <td>3.823537e-03</td>\n",
       "      <td>기각</td>\n",
       "    </tr>\n",
       "    <tr>\n",
       "      <th>15</th>\n",
       "      <td>저혈압</td>\n",
       "      <td>182.259783</td>\n",
       "      <td>2.867082e-39</td>\n",
       "      <td>기각</td>\n",
       "    </tr>\n",
       "    <tr>\n",
       "      <th>16</th>\n",
       "      <td>체온</td>\n",
       "      <td>201.863444</td>\n",
       "      <td>1.172774e-128</td>\n",
       "      <td>기각</td>\n",
       "    </tr>\n",
       "    <tr>\n",
       "      <th>17</th>\n",
       "      <td>수축기 혈압</td>\n",
       "      <td>7.310971</td>\n",
       "      <td>6.779787e-05</td>\n",
       "      <td>기각</td>\n",
       "    </tr>\n",
       "    <tr>\n",
       "      <th>18</th>\n",
       "      <td>이완기 혈압</td>\n",
       "      <td>12.692009</td>\n",
       "      <td>2.779175e-08</td>\n",
       "      <td>기각</td>\n",
       "    </tr>\n",
       "  </tbody>\n",
       "</table>\n",
       "</div>"
      ],
      "text/plain": [
       "         var          stat        p-value 기각여부\n",
       "0      호흡 곤란  12143.468674   0.000000e+00   기각\n",
       "1     간헐성 경련   1191.634967  4.787739e-258   기각\n",
       "2         설사   2153.464755   0.000000e+00   기각\n",
       "3         기침   1075.098480  9.191766e-233   기각\n",
       "4         출혈   2341.378625   0.000000e+00   기각\n",
       "5         통증   1690.206920   0.000000e+00   기각\n",
       "6    만지면 아프다   6423.164301   0.000000e+00   기각\n",
       "7        무감각   3834.728328   0.000000e+00   기각\n",
       "8         마비   6827.361021   0.000000e+00   기각\n",
       "9        현기증   3120.203329   0.000000e+00   기각\n",
       "10        졸도   2012.433146   0.000000e+00   기각\n",
       "11  말이 어눌해졌다   7526.849010   0.000000e+00   기각\n",
       "12   시력이 흐려짐   2120.402303   0.000000e+00   기각\n",
       "13        발열    923.068222  8.776252e-200   기각\n",
       "14       고혈압     13.412977   3.823537e-03   기각\n",
       "15       저혈압    182.259783   2.867082e-39   기각\n",
       "16        체온    201.863444  1.172774e-128   기각\n",
       "17    수축기 혈압      7.310971   6.779787e-05   기각\n",
       "18    이완기 혈압     12.692009   2.779175e-08   기각"
      ]
     },
     "execution_count": 23,
     "metadata": {},
     "output_type": "execute_result"
    }
   ],
   "source": [
    "total_result"
   ]
  },
  {
   "cell_type": "code",
   "execution_count": 24,
   "id": "d73f9253-bd3c-4b35-bcd9-913390aefdfc",
   "metadata": {
    "tags": []
   },
   "outputs": [],
   "source": [
    "total_result.to_csv(\"변수선택.csv\", index = False)"
   ]
  }
 ],
 "metadata": {
  "kernelspec": {
   "display_name": "Python 3 (ipykernel)",
   "language": "python",
   "name": "python3"
  },
  "language_info": {
   "codemirror_mode": {
    "name": "ipython",
    "version": 3
   },
   "file_extension": ".py",
   "mimetype": "text/x-python",
   "name": "python",
   "nbconvert_exporter": "python",
   "pygments_lexer": "ipython3",
   "version": "3.11.4"
  }
 },
 "nbformat": 4,
 "nbformat_minor": 5
}
