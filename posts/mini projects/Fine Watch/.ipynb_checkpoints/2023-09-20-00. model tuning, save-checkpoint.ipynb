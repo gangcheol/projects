{
 "cells": [
  {
   "cell_type": "raw",
   "id": "c06de1b5-c51f-45cd-b8d7-c442f11beb4b",
   "metadata": {},
   "source": [
    "---\n",
    "title : \"01. model tuning & save\"\n",
    "author : \"GC\"\n",
    "date : \"09/20/23\"\n",
    "---"
   ]
  },
  {
   "cell_type": "markdown",
   "id": "a64e25f8-007e-435c-ae50-7860ee2e128d",
   "metadata": {},
   "source": [
    "# Intro"
   ]
  },
  {
   "cell_type": "markdown",
   "id": "41e50c90-2c3f-404f-81b4-b47182042726",
   "metadata": {},
   "source": [
    "`1` 모델링 결과 XGB 모델을 적합했을 경우 가장 예측 성능이 좋았음\n",
    "\n",
    "`2` Hyperparameter tuning 기법과 Selection 기법을 사용해 최종 모델링 수행\n",
    "\n",
    "- Hyperparameter Tuning: AI 모델 학습시 매개변수를 조정하여 최상의 성능을 발휘하는 매개변수를 찾는 기법\n",
    "- Feature Selection: 모델링 시 raw data의 562개나 되는 모든 feature를 사용하는 것은 computing power와 memory 측면에서 매우 비효율적이기 때문에 결과 예측에 영향도가 높은 중요 feature만 선택하여 자원을 절약하고 모델의 성능을 높이는 기법"
   ]
  },
  {
   "cell_type": "markdown",
   "id": "9c01e9b4-8fbd-4c84-a12a-aa0264b93624",
   "metadata": {},
   "source": [
    "# 0. import"
   ]
  },
  {
   "cell_type": "code",
   "execution_count": 1,
   "id": "d8299273-e56b-4321-b5b3-23de0bdaa453",
   "metadata": {
    "tags": []
   },
   "outputs": [],
   "source": [
    "# | code-fold : true\n",
    "import pandas as pd\n",
    "import numpy as np\n",
    "import matplotlib.pyplot  as plt\n",
    "import seaborn as sns\n",
    "import os\n",
    "import plotly.express as px\n",
    "import plotly.io as pio\n",
    "pio.renderers.default = \"plotly_mimetype+notebook_connected\"\n",
    "\n",
    "from sklearn.model_selection import train_test_split\n",
    "from sklearn.metrics import *\n",
    "\n",
    "plt.rc('font', family='Malgun Gothic')"
   ]
  },
  {
   "cell_type": "markdown",
   "id": "245927e1-c215-457c-a358-1b2614d9b2fa",
   "metadata": {},
   "source": [
    "# 1. 데이터 로드"
   ]
  },
  {
   "cell_type": "code",
   "execution_count": 2,
   "id": "897a4a74-12d3-44ab-b5c8-d1bbff70a1e2",
   "metadata": {
    "tags": []
   },
   "outputs": [
    {
     "data": {
      "text/html": [
       "<div>\n",
       "<style scoped>\n",
       "    .dataframe tbody tr th:only-of-type {\n",
       "        vertical-align: middle;\n",
       "    }\n",
       "\n",
       "    .dataframe tbody tr th {\n",
       "        vertical-align: top;\n",
       "    }\n",
       "\n",
       "    .dataframe thead th {\n",
       "        text-align: right;\n",
       "    }\n",
       "</style>\n",
       "<table border=\"1\" class=\"dataframe\">\n",
       "  <thead>\n",
       "    <tr style=\"text-align: right;\">\n",
       "      <th></th>\n",
       "      <th>tBodyAcc-mean()-X</th>\n",
       "      <th>tBodyAcc-mean()-Y</th>\n",
       "      <th>tBodyAcc-mean()-Z</th>\n",
       "      <th>tBodyAcc-std()-X</th>\n",
       "      <th>tBodyAcc-std()-Y</th>\n",
       "      <th>tBodyAcc-std()-Z</th>\n",
       "      <th>tBodyAcc-mad()-X</th>\n",
       "      <th>tBodyAcc-mad()-Y</th>\n",
       "      <th>tBodyAcc-mad()-Z</th>\n",
       "      <th>tBodyAcc-max()-X</th>\n",
       "      <th>...</th>\n",
       "      <th>fBodyBodyGyroJerkMag-kurtosis()</th>\n",
       "      <th>angle(tBodyAccMean,gravity)</th>\n",
       "      <th>angle(tBodyAccJerkMean),gravityMean)</th>\n",
       "      <th>angle(tBodyGyroMean,gravityMean)</th>\n",
       "      <th>angle(tBodyGyroJerkMean,gravityMean)</th>\n",
       "      <th>angle(X,gravityMean)</th>\n",
       "      <th>angle(Y,gravityMean)</th>\n",
       "      <th>angle(Z,gravityMean)</th>\n",
       "      <th>subject</th>\n",
       "      <th>Activity</th>\n",
       "    </tr>\n",
       "  </thead>\n",
       "  <tbody>\n",
       "    <tr>\n",
       "      <th>0</th>\n",
       "      <td>0.288508</td>\n",
       "      <td>-0.009196</td>\n",
       "      <td>-0.103362</td>\n",
       "      <td>-0.988986</td>\n",
       "      <td>-0.962797</td>\n",
       "      <td>-0.967422</td>\n",
       "      <td>-0.989000</td>\n",
       "      <td>-0.962596</td>\n",
       "      <td>-0.965650</td>\n",
       "      <td>-0.929747</td>\n",
       "      <td>...</td>\n",
       "      <td>-0.816696</td>\n",
       "      <td>-0.042494</td>\n",
       "      <td>-0.044218</td>\n",
       "      <td>0.307873</td>\n",
       "      <td>0.072790</td>\n",
       "      <td>-0.601120</td>\n",
       "      <td>0.331298</td>\n",
       "      <td>0.165163</td>\n",
       "      <td>21</td>\n",
       "      <td>STANDING</td>\n",
       "    </tr>\n",
       "    <tr>\n",
       "      <th>1</th>\n",
       "      <td>0.265757</td>\n",
       "      <td>-0.016576</td>\n",
       "      <td>-0.098163</td>\n",
       "      <td>-0.989551</td>\n",
       "      <td>-0.994636</td>\n",
       "      <td>-0.987435</td>\n",
       "      <td>-0.990189</td>\n",
       "      <td>-0.993870</td>\n",
       "      <td>-0.987558</td>\n",
       "      <td>-0.937337</td>\n",
       "      <td>...</td>\n",
       "      <td>-0.693515</td>\n",
       "      <td>-0.062899</td>\n",
       "      <td>0.388459</td>\n",
       "      <td>-0.765014</td>\n",
       "      <td>0.771524</td>\n",
       "      <td>0.345205</td>\n",
       "      <td>-0.769186</td>\n",
       "      <td>-0.147944</td>\n",
       "      <td>15</td>\n",
       "      <td>LAYING</td>\n",
       "    </tr>\n",
       "    <tr>\n",
       "      <th>2</th>\n",
       "      <td>0.278709</td>\n",
       "      <td>-0.014511</td>\n",
       "      <td>-0.108717</td>\n",
       "      <td>-0.997720</td>\n",
       "      <td>-0.981088</td>\n",
       "      <td>-0.994008</td>\n",
       "      <td>-0.997934</td>\n",
       "      <td>-0.982187</td>\n",
       "      <td>-0.995017</td>\n",
       "      <td>-0.942584</td>\n",
       "      <td>...</td>\n",
       "      <td>-0.829311</td>\n",
       "      <td>0.000265</td>\n",
       "      <td>-0.525022</td>\n",
       "      <td>-0.891875</td>\n",
       "      <td>0.021528</td>\n",
       "      <td>-0.833564</td>\n",
       "      <td>0.202434</td>\n",
       "      <td>-0.032755</td>\n",
       "      <td>11</td>\n",
       "      <td>STANDING</td>\n",
       "    </tr>\n",
       "    <tr>\n",
       "      <th>3</th>\n",
       "      <td>0.289795</td>\n",
       "      <td>-0.035536</td>\n",
       "      <td>-0.150354</td>\n",
       "      <td>-0.231727</td>\n",
       "      <td>-0.006412</td>\n",
       "      <td>-0.338117</td>\n",
       "      <td>-0.273557</td>\n",
       "      <td>0.014245</td>\n",
       "      <td>-0.347916</td>\n",
       "      <td>0.008288</td>\n",
       "      <td>...</td>\n",
       "      <td>-0.408956</td>\n",
       "      <td>-0.255125</td>\n",
       "      <td>0.612804</td>\n",
       "      <td>0.747381</td>\n",
       "      <td>-0.072944</td>\n",
       "      <td>-0.695819</td>\n",
       "      <td>0.287154</td>\n",
       "      <td>0.111388</td>\n",
       "      <td>17</td>\n",
       "      <td>WALKING</td>\n",
       "    </tr>\n",
       "    <tr>\n",
       "      <th>4</th>\n",
       "      <td>0.394807</td>\n",
       "      <td>0.034098</td>\n",
       "      <td>0.091229</td>\n",
       "      <td>0.088489</td>\n",
       "      <td>-0.106636</td>\n",
       "      <td>-0.388502</td>\n",
       "      <td>-0.010469</td>\n",
       "      <td>-0.109680</td>\n",
       "      <td>-0.346372</td>\n",
       "      <td>0.584131</td>\n",
       "      <td>...</td>\n",
       "      <td>-0.563437</td>\n",
       "      <td>-0.044344</td>\n",
       "      <td>-0.845268</td>\n",
       "      <td>-0.974650</td>\n",
       "      <td>-0.887846</td>\n",
       "      <td>-0.705029</td>\n",
       "      <td>0.264952</td>\n",
       "      <td>0.137758</td>\n",
       "      <td>17</td>\n",
       "      <td>WALKING_DOWNSTAIRS</td>\n",
       "    </tr>\n",
       "  </tbody>\n",
       "</table>\n",
       "<p>5 rows × 563 columns</p>\n",
       "</div>"
      ],
      "text/plain": [
       "   tBodyAcc-mean()-X  tBodyAcc-mean()-Y  tBodyAcc-mean()-Z  tBodyAcc-std()-X  \\\n",
       "0           0.288508          -0.009196          -0.103362         -0.988986   \n",
       "1           0.265757          -0.016576          -0.098163         -0.989551   \n",
       "2           0.278709          -0.014511          -0.108717         -0.997720   \n",
       "3           0.289795          -0.035536          -0.150354         -0.231727   \n",
       "4           0.394807           0.034098           0.091229          0.088489   \n",
       "\n",
       "   tBodyAcc-std()-Y  tBodyAcc-std()-Z  tBodyAcc-mad()-X  tBodyAcc-mad()-Y  \\\n",
       "0         -0.962797         -0.967422         -0.989000         -0.962596   \n",
       "1         -0.994636         -0.987435         -0.990189         -0.993870   \n",
       "2         -0.981088         -0.994008         -0.997934         -0.982187   \n",
       "3         -0.006412         -0.338117         -0.273557          0.014245   \n",
       "4         -0.106636         -0.388502         -0.010469         -0.109680   \n",
       "\n",
       "   tBodyAcc-mad()-Z  tBodyAcc-max()-X  ...  fBodyBodyGyroJerkMag-kurtosis()  \\\n",
       "0         -0.965650         -0.929747  ...                        -0.816696   \n",
       "1         -0.987558         -0.937337  ...                        -0.693515   \n",
       "2         -0.995017         -0.942584  ...                        -0.829311   \n",
       "3         -0.347916          0.008288  ...                        -0.408956   \n",
       "4         -0.346372          0.584131  ...                        -0.563437   \n",
       "\n",
       "   angle(tBodyAccMean,gravity)  angle(tBodyAccJerkMean),gravityMean)  \\\n",
       "0                    -0.042494                             -0.044218   \n",
       "1                    -0.062899                              0.388459   \n",
       "2                     0.000265                             -0.525022   \n",
       "3                    -0.255125                              0.612804   \n",
       "4                    -0.044344                             -0.845268   \n",
       "\n",
       "   angle(tBodyGyroMean,gravityMean)  angle(tBodyGyroJerkMean,gravityMean)  \\\n",
       "0                          0.307873                              0.072790   \n",
       "1                         -0.765014                              0.771524   \n",
       "2                         -0.891875                              0.021528   \n",
       "3                          0.747381                             -0.072944   \n",
       "4                         -0.974650                             -0.887846   \n",
       "\n",
       "   angle(X,gravityMean)  angle(Y,gravityMean)  angle(Z,gravityMean)  subject  \\\n",
       "0             -0.601120              0.331298              0.165163       21   \n",
       "1              0.345205             -0.769186             -0.147944       15   \n",
       "2             -0.833564              0.202434             -0.032755       11   \n",
       "3             -0.695819              0.287154              0.111388       17   \n",
       "4             -0.705029              0.264952              0.137758       17   \n",
       "\n",
       "             Activity  \n",
       "0            STANDING  \n",
       "1              LAYING  \n",
       "2            STANDING  \n",
       "3             WALKING  \n",
       "4  WALKING_DOWNSTAIRS  \n",
       "\n",
       "[5 rows x 563 columns]"
      ]
     },
     "execution_count": 2,
     "metadata": {},
     "output_type": "execute_result"
    }
   ],
   "source": [
    "data = pd.read_csv(\"data.csv\")\n",
    "data.head()"
   ]
  },
  {
   "cell_type": "markdown",
   "id": "bee503e4-7279-4719-907e-1e44490577ac",
   "metadata": {},
   "source": [
    "`-` 불필요한 컬럼 제거"
   ]
  },
  {
   "cell_type": "markdown",
   "id": "ade99ce6-6cd6-410f-b186-6a79dc4c7032",
   "metadata": {
    "tags": []
   },
   "source": [
    "* `subject`열 은 데이터를 수집한 사람을 구별하기 위한 데이터"
   ]
  },
  {
   "cell_type": "code",
   "execution_count": 3,
   "id": "54ffc615-13f8-4505-8837-c5c9d98c315b",
   "metadata": {
    "tags": []
   },
   "outputs": [
    {
     "data": {
      "text/html": [
       "<div>\n",
       "<style scoped>\n",
       "    .dataframe tbody tr th:only-of-type {\n",
       "        vertical-align: middle;\n",
       "    }\n",
       "\n",
       "    .dataframe tbody tr th {\n",
       "        vertical-align: top;\n",
       "    }\n",
       "\n",
       "    .dataframe thead th {\n",
       "        text-align: right;\n",
       "    }\n",
       "</style>\n",
       "<table border=\"1\" class=\"dataframe\">\n",
       "  <thead>\n",
       "    <tr style=\"text-align: right;\">\n",
       "      <th></th>\n",
       "      <th>tBodyAcc-mean()-X</th>\n",
       "      <th>tBodyAcc-mean()-Y</th>\n",
       "      <th>tBodyAcc-mean()-Z</th>\n",
       "      <th>tBodyAcc-std()-X</th>\n",
       "      <th>tBodyAcc-std()-Y</th>\n",
       "      <th>tBodyAcc-std()-Z</th>\n",
       "      <th>tBodyAcc-mad()-X</th>\n",
       "      <th>tBodyAcc-mad()-Y</th>\n",
       "      <th>tBodyAcc-mad()-Z</th>\n",
       "      <th>tBodyAcc-max()-X</th>\n",
       "      <th>...</th>\n",
       "      <th>fBodyBodyGyroJerkMag-skewness()</th>\n",
       "      <th>fBodyBodyGyroJerkMag-kurtosis()</th>\n",
       "      <th>angle(tBodyAccMean,gravity)</th>\n",
       "      <th>angle(tBodyAccJerkMean),gravityMean)</th>\n",
       "      <th>angle(tBodyGyroMean,gravityMean)</th>\n",
       "      <th>angle(tBodyGyroJerkMean,gravityMean)</th>\n",
       "      <th>angle(X,gravityMean)</th>\n",
       "      <th>angle(Y,gravityMean)</th>\n",
       "      <th>angle(Z,gravityMean)</th>\n",
       "      <th>Activity</th>\n",
       "    </tr>\n",
       "  </thead>\n",
       "  <tbody>\n",
       "    <tr>\n",
       "      <th>0</th>\n",
       "      <td>0.288508</td>\n",
       "      <td>-0.009196</td>\n",
       "      <td>-0.103362</td>\n",
       "      <td>-0.988986</td>\n",
       "      <td>-0.962797</td>\n",
       "      <td>-0.967422</td>\n",
       "      <td>-0.989000</td>\n",
       "      <td>-0.962596</td>\n",
       "      <td>-0.965650</td>\n",
       "      <td>-0.929747</td>\n",
       "      <td>...</td>\n",
       "      <td>-0.487737</td>\n",
       "      <td>-0.816696</td>\n",
       "      <td>-0.042494</td>\n",
       "      <td>-0.044218</td>\n",
       "      <td>0.307873</td>\n",
       "      <td>0.072790</td>\n",
       "      <td>-0.601120</td>\n",
       "      <td>0.331298</td>\n",
       "      <td>0.165163</td>\n",
       "      <td>STANDING</td>\n",
       "    </tr>\n",
       "    <tr>\n",
       "      <th>1</th>\n",
       "      <td>0.265757</td>\n",
       "      <td>-0.016576</td>\n",
       "      <td>-0.098163</td>\n",
       "      <td>-0.989551</td>\n",
       "      <td>-0.994636</td>\n",
       "      <td>-0.987435</td>\n",
       "      <td>-0.990189</td>\n",
       "      <td>-0.993870</td>\n",
       "      <td>-0.987558</td>\n",
       "      <td>-0.937337</td>\n",
       "      <td>...</td>\n",
       "      <td>-0.237820</td>\n",
       "      <td>-0.693515</td>\n",
       "      <td>-0.062899</td>\n",
       "      <td>0.388459</td>\n",
       "      <td>-0.765014</td>\n",
       "      <td>0.771524</td>\n",
       "      <td>0.345205</td>\n",
       "      <td>-0.769186</td>\n",
       "      <td>-0.147944</td>\n",
       "      <td>LAYING</td>\n",
       "    </tr>\n",
       "    <tr>\n",
       "      <th>2</th>\n",
       "      <td>0.278709</td>\n",
       "      <td>-0.014511</td>\n",
       "      <td>-0.108717</td>\n",
       "      <td>-0.997720</td>\n",
       "      <td>-0.981088</td>\n",
       "      <td>-0.994008</td>\n",
       "      <td>-0.997934</td>\n",
       "      <td>-0.982187</td>\n",
       "      <td>-0.995017</td>\n",
       "      <td>-0.942584</td>\n",
       "      <td>...</td>\n",
       "      <td>-0.535287</td>\n",
       "      <td>-0.829311</td>\n",
       "      <td>0.000265</td>\n",
       "      <td>-0.525022</td>\n",
       "      <td>-0.891875</td>\n",
       "      <td>0.021528</td>\n",
       "      <td>-0.833564</td>\n",
       "      <td>0.202434</td>\n",
       "      <td>-0.032755</td>\n",
       "      <td>STANDING</td>\n",
       "    </tr>\n",
       "    <tr>\n",
       "      <th>3</th>\n",
       "      <td>0.289795</td>\n",
       "      <td>-0.035536</td>\n",
       "      <td>-0.150354</td>\n",
       "      <td>-0.231727</td>\n",
       "      <td>-0.006412</td>\n",
       "      <td>-0.338117</td>\n",
       "      <td>-0.273557</td>\n",
       "      <td>0.014245</td>\n",
       "      <td>-0.347916</td>\n",
       "      <td>0.008288</td>\n",
       "      <td>...</td>\n",
       "      <td>-0.004012</td>\n",
       "      <td>-0.408956</td>\n",
       "      <td>-0.255125</td>\n",
       "      <td>0.612804</td>\n",
       "      <td>0.747381</td>\n",
       "      <td>-0.072944</td>\n",
       "      <td>-0.695819</td>\n",
       "      <td>0.287154</td>\n",
       "      <td>0.111388</td>\n",
       "      <td>WALKING</td>\n",
       "    </tr>\n",
       "    <tr>\n",
       "      <th>4</th>\n",
       "      <td>0.394807</td>\n",
       "      <td>0.034098</td>\n",
       "      <td>0.091229</td>\n",
       "      <td>0.088489</td>\n",
       "      <td>-0.106636</td>\n",
       "      <td>-0.388502</td>\n",
       "      <td>-0.010469</td>\n",
       "      <td>-0.109680</td>\n",
       "      <td>-0.346372</td>\n",
       "      <td>0.584131</td>\n",
       "      <td>...</td>\n",
       "      <td>-0.157832</td>\n",
       "      <td>-0.563437</td>\n",
       "      <td>-0.044344</td>\n",
       "      <td>-0.845268</td>\n",
       "      <td>-0.974650</td>\n",
       "      <td>-0.887846</td>\n",
       "      <td>-0.705029</td>\n",
       "      <td>0.264952</td>\n",
       "      <td>0.137758</td>\n",
       "      <td>WALKING_DOWNSTAIRS</td>\n",
       "    </tr>\n",
       "  </tbody>\n",
       "</table>\n",
       "<p>5 rows × 562 columns</p>\n",
       "</div>"
      ],
      "text/plain": [
       "   tBodyAcc-mean()-X  tBodyAcc-mean()-Y  tBodyAcc-mean()-Z  tBodyAcc-std()-X  \\\n",
       "0           0.288508          -0.009196          -0.103362         -0.988986   \n",
       "1           0.265757          -0.016576          -0.098163         -0.989551   \n",
       "2           0.278709          -0.014511          -0.108717         -0.997720   \n",
       "3           0.289795          -0.035536          -0.150354         -0.231727   \n",
       "4           0.394807           0.034098           0.091229          0.088489   \n",
       "\n",
       "   tBodyAcc-std()-Y  tBodyAcc-std()-Z  tBodyAcc-mad()-X  tBodyAcc-mad()-Y  \\\n",
       "0         -0.962797         -0.967422         -0.989000         -0.962596   \n",
       "1         -0.994636         -0.987435         -0.990189         -0.993870   \n",
       "2         -0.981088         -0.994008         -0.997934         -0.982187   \n",
       "3         -0.006412         -0.338117         -0.273557          0.014245   \n",
       "4         -0.106636         -0.388502         -0.010469         -0.109680   \n",
       "\n",
       "   tBodyAcc-mad()-Z  tBodyAcc-max()-X  ...  fBodyBodyGyroJerkMag-skewness()  \\\n",
       "0         -0.965650         -0.929747  ...                        -0.487737   \n",
       "1         -0.987558         -0.937337  ...                        -0.237820   \n",
       "2         -0.995017         -0.942584  ...                        -0.535287   \n",
       "3         -0.347916          0.008288  ...                        -0.004012   \n",
       "4         -0.346372          0.584131  ...                        -0.157832   \n",
       "\n",
       "   fBodyBodyGyroJerkMag-kurtosis()  angle(tBodyAccMean,gravity)  \\\n",
       "0                        -0.816696                    -0.042494   \n",
       "1                        -0.693515                    -0.062899   \n",
       "2                        -0.829311                     0.000265   \n",
       "3                        -0.408956                    -0.255125   \n",
       "4                        -0.563437                    -0.044344   \n",
       "\n",
       "   angle(tBodyAccJerkMean),gravityMean)  angle(tBodyGyroMean,gravityMean)  \\\n",
       "0                             -0.044218                          0.307873   \n",
       "1                              0.388459                         -0.765014   \n",
       "2                             -0.525022                         -0.891875   \n",
       "3                              0.612804                          0.747381   \n",
       "4                             -0.845268                         -0.974650   \n",
       "\n",
       "   angle(tBodyGyroJerkMean,gravityMean)  angle(X,gravityMean)  \\\n",
       "0                              0.072790             -0.601120   \n",
       "1                              0.771524              0.345205   \n",
       "2                              0.021528             -0.833564   \n",
       "3                             -0.072944             -0.695819   \n",
       "4                             -0.887846             -0.705029   \n",
       "\n",
       "   angle(Y,gravityMean)  angle(Z,gravityMean)            Activity  \n",
       "0              0.331298              0.165163            STANDING  \n",
       "1             -0.769186             -0.147944              LAYING  \n",
       "2              0.202434             -0.032755            STANDING  \n",
       "3              0.287154              0.111388             WALKING  \n",
       "4              0.264952              0.137758  WALKING_DOWNSTAIRS  \n",
       "\n",
       "[5 rows x 562 columns]"
      ]
     },
     "execution_count": 3,
     "metadata": {},
     "output_type": "execute_result"
    }
   ],
   "source": [
    "data.drop(\"subject\", axis = 1,inplace = True)\n",
    "data.head()"
   ]
  },
  {
   "cell_type": "markdown",
   "id": "bf13d6e3-d803-4661-9198-27b1beff0922",
   "metadata": {},
   "source": [
    "`-` 이전에 저장한 모델링 결과파일 로드"
   ]
  },
  {
   "cell_type": "code",
   "execution_count": 5,
   "id": "03f64bf8-7b51-40ed-89c4-ac40c4c80a1c",
   "metadata": {
    "tags": []
   },
   "outputs": [
    {
     "data": {
      "text/html": [
       "<div>\n",
       "<style scoped>\n",
       "    .dataframe tbody tr th:only-of-type {\n",
       "        vertical-align: middle;\n",
       "    }\n",
       "\n",
       "    .dataframe tbody tr th {\n",
       "        vertical-align: top;\n",
       "    }\n",
       "\n",
       "    .dataframe thead th {\n",
       "        text-align: right;\n",
       "    }\n",
       "</style>\n",
       "<table border=\"1\" class=\"dataframe\">\n",
       "  <thead>\n",
       "    <tr style=\"text-align: right;\">\n",
       "      <th></th>\n",
       "      <th>model_name</th>\n",
       "      <th>valid_data</th>\n",
       "      <th>accuracy_score</th>\n",
       "      <th>F1_score</th>\n",
       "    </tr>\n",
       "  </thead>\n",
       "  <tbody>\n",
       "    <tr>\n",
       "      <th>0</th>\n",
       "      <td>lr</td>\n",
       "      <td>train</td>\n",
       "      <td>0.984136</td>\n",
       "      <td>0.985601</td>\n",
       "    </tr>\n",
       "    <tr>\n",
       "      <th>1</th>\n",
       "      <td>knn</td>\n",
       "      <td>train</td>\n",
       "      <td>0.954674</td>\n",
       "      <td>0.958345</td>\n",
       "    </tr>\n",
       "    <tr>\n",
       "      <th>2</th>\n",
       "      <td>gbc</td>\n",
       "      <td>train</td>\n",
       "      <td>0.981870</td>\n",
       "      <td>0.983141</td>\n",
       "    </tr>\n",
       "    <tr>\n",
       "      <th>3</th>\n",
       "      <td>xgb</td>\n",
       "      <td>train</td>\n",
       "      <td>0.990368</td>\n",
       "      <td>0.991178</td>\n",
       "    </tr>\n",
       "  </tbody>\n",
       "</table>\n",
       "</div>"
      ],
      "text/plain": [
       "  model_name valid_data  accuracy_score  F1_score\n",
       "0         lr      train        0.984136  0.985601\n",
       "1        knn      train        0.954674  0.958345\n",
       "2        gbc      train        0.981870  0.983141\n",
       "3        xgb      train        0.990368  0.991178"
      ]
     },
     "execution_count": 5,
     "metadata": {},
     "output_type": "execute_result"
    }
   ],
   "source": [
    "result = pd.read_csv(\"result3.csv\")\n",
    "result"
   ]
  },
  {
   "cell_type": "markdown",
   "id": "a790a50b-b594-404a-98d2-43391f311c31",
   "metadata": {},
   "source": [
    "# 2. Hyperparameter Tuning"
   ]
  },
  {
   "cell_type": "markdown",
   "id": "6e98a46d-f61f-4a9c-a670-590444083439",
   "metadata": {},
   "source": [
    "## (1) 라이브러리 호출"
   ]
  },
  {
   "cell_type": "code",
   "execution_count": 6,
   "id": "1f8713f8-5480-4aec-ad36-e2a674ab9c76",
   "metadata": {
    "tags": []
   },
   "outputs": [],
   "source": [
    "from xgboost import XGBClassifier\n",
    "from sklearn.model_selection import GridSearchCV"
   ]
  },
  {
   "cell_type": "markdown",
   "id": "914be770-9ee0-4dd5-bcc0-55406e93fbcc",
   "metadata": {},
   "source": [
    "## (2) X,y 데이터 나누기"
   ]
  },
  {
   "cell_type": "code",
   "execution_count": 7,
   "id": "567c7e9e-4f62-4317-b13d-a326c50b1bec",
   "metadata": {
    "tags": []
   },
   "outputs": [],
   "source": [
    "target = \"Activity\"\n",
    "\n",
    "x = data.drop(target, axis = 1)\n",
    "y = data[target]"
   ]
  },
  {
   "cell_type": "markdown",
   "id": "69442faa-2951-497e-8d72-5c969471378d",
   "metadata": {},
   "source": [
    "## (3) Encoding"
   ]
  },
  {
   "cell_type": "code",
   "execution_count": 8,
   "id": "e28da64e-d497-4699-ad73-6c43ac1348d6",
   "metadata": {
    "tags": []
   },
   "outputs": [
    {
     "data": {
      "text/plain": [
       "[0, 2, 0, 3, 5]"
      ]
     },
     "execution_count": 8,
     "metadata": {},
     "output_type": "execute_result"
    }
   ],
   "source": [
    "dic = {'STANDING':0, 'SITTING':1, 'LAYING':2, 'WALKING':3, 'WALKING_UPSTAIRS':4, 'WALKING_DOWNSTAIRS':5}\n",
    "y_map = [dic[i] for i in y]\n",
    "y_map[:5]"
   ]
  },
  {
   "cell_type": "markdown",
   "id": "34a5f6c6-3328-459b-9e73-7b51c2694c0a",
   "metadata": {
    "tags": []
   },
   "source": [
    "## (4) train, test data 분리"
   ]
  },
  {
   "cell_type": "code",
   "execution_count": 10,
   "id": "4a886dd5-d5ae-4b1f-8ba7-19a2efe61fd3",
   "metadata": {
    "tags": []
   },
   "outputs": [],
   "source": [
    "x_train, x_val, y_train, y_val = train_test_split(x, y_map, random_state = 2023, test_size = 0.3)"
   ]
  },
  {
   "cell_type": "markdown",
   "id": "44da8f9d-bf66-4701-a13c-48da8620ef3e",
   "metadata": {},
   "source": [
    "## (5) 최적의 Hyperparameter 찾기"
   ]
  },
  {
   "cell_type": "code",
   "execution_count": 11,
   "id": "c9dfa0e1-9ce4-4bc8-977c-5573b14f6717",
   "metadata": {
    "tags": []
   },
   "outputs": [
    {
     "name": "stdout",
     "output_type": "stream",
     "text": [
      "Fitting 3 folds for each of 9 candidates, totalling 27 fits\n",
      "[CV] END .....................learning_rate=0.1, max_depth=2; total time=   6.6s\n",
      "[CV] END .....................learning_rate=0.1, max_depth=2; total time=   6.8s\n",
      "[CV] END .....................learning_rate=0.1, max_depth=2; total time=   6.8s\n",
      "[CV] END .....................learning_rate=0.1, max_depth=3; total time=   9.1s\n",
      "[CV] END .....................learning_rate=0.1, max_depth=3; total time=   9.3s\n",
      "[CV] END .....................learning_rate=0.1, max_depth=3; total time=   9.5s\n",
      "[CV] END .....................learning_rate=0.1, max_depth=4; total time=  11.8s\n",
      "[CV] END .....................learning_rate=0.1, max_depth=4; total time=  11.9s\n",
      "[CV] END .....................learning_rate=0.1, max_depth=4; total time=  12.2s\n",
      "[CV] END .....................learning_rate=0.2, max_depth=2; total time=   7.2s\n",
      "[CV] END .....................learning_rate=0.2, max_depth=2; total time=   7.4s\n",
      "[CV] END .....................learning_rate=0.2, max_depth=2; total time=   7.3s\n",
      "[CV] END .....................learning_rate=0.2, max_depth=3; total time=   8.8s\n",
      "[CV] END .....................learning_rate=0.2, max_depth=3; total time=   8.8s\n",
      "[CV] END .....................learning_rate=0.2, max_depth=3; total time=   9.4s\n",
      "[CV] END .....................learning_rate=0.2, max_depth=4; total time=  10.3s\n",
      "[CV] END .....................learning_rate=0.2, max_depth=4; total time=  10.1s\n",
      "[CV] END .....................learning_rate=0.2, max_depth=4; total time=   9.8s\n",
      "[CV] END .....................learning_rate=0.3, max_depth=2; total time=   7.1s\n",
      "[CV] END .....................learning_rate=0.3, max_depth=2; total time=   6.8s\n",
      "[CV] END .....................learning_rate=0.3, max_depth=2; total time=   6.9s\n",
      "[CV] END .....................learning_rate=0.3, max_depth=3; total time=   8.0s\n",
      "[CV] END .....................learning_rate=0.3, max_depth=3; total time=   8.0s\n",
      "[CV] END .....................learning_rate=0.3, max_depth=3; total time=   7.9s\n",
      "[CV] END .....................learning_rate=0.3, max_depth=4; total time=   8.6s\n",
      "[CV] END .....................learning_rate=0.3, max_depth=4; total time=   8.6s\n",
      "[CV] END .....................learning_rate=0.3, max_depth=4; total time=   8.9s\n"
     ]
    }
   ],
   "source": [
    "params = {'learning_rate': [0.1, 0.2, 0.3], 'max_depth': [2, 3, 4]}\n",
    "xgb_model = XGBClassifier(random_state = 2023 )\n",
    "\n",
    "hpt_xgb_model = GridSearchCV(estimator= xgb_model , param_grid= params, cv=3, verbose=2)\n",
    "\n",
    "hpt_xgb_model.fit(x_train, y_train)\n",
    "\n",
    "hpt_xgb_pred = hpt_xgb_model.predict(x_val)"
   ]
  },
  {
   "cell_type": "markdown",
   "id": "f7126b12-30e5-4c69-9e8b-17e913e603da",
   "metadata": {},
   "source": [
    "## (6) 결과 확인 및 저장"
   ]
  },
  {
   "cell_type": "markdown",
   "id": "b8db2f6c-cd3e-452e-97dd-54ad2d1f1be3",
   "metadata": {},
   "source": [
    "`-` 최적의 파라미터 확인"
   ]
  },
  {
   "cell_type": "code",
   "execution_count": 12,
   "id": "65fdbd8d-89af-4cf9-bda5-93d056b37beb",
   "metadata": {
    "tags": []
   },
   "outputs": [
    {
     "data": {
      "text/plain": [
       "{'learning_rate': 0.3, 'max_depth': 2}"
      ]
     },
     "execution_count": 12,
     "metadata": {},
     "output_type": "execute_result"
    }
   ],
   "source": [
    "params = hpt_xgb_model.best_params_\n",
    "params"
   ]
  },
  {
   "cell_type": "markdown",
   "id": "ac62b9d2-c2a0-47cd-a978-867e9227534b",
   "metadata": {},
   "source": [
    "`-` 정확도 확인"
   ]
  },
  {
   "cell_type": "code",
   "execution_count": 13,
   "id": "537ec462-ef60-4c99-9bcb-cbe9961c8335",
   "metadata": {
    "tags": []
   },
   "outputs": [
    {
     "data": {
      "text/plain": [
       "0.9920679886685553"
      ]
     },
     "execution_count": 13,
     "metadata": {},
     "output_type": "execute_result"
    }
   ],
   "source": [
    "accuracy_score(y_val,hpt_xgb_pred)"
   ]
  },
  {
   "cell_type": "code",
   "execution_count": 14,
   "id": "3c77c03f-07b3-41dc-a3b6-d2fadbadc5c8",
   "metadata": {
    "tags": []
   },
   "outputs": [
    {
     "data": {
      "text/plain": [
       "array([3, 0, 2, ..., 3, 3, 2], dtype=int64)"
      ]
     },
     "execution_count": 14,
     "metadata": {},
     "output_type": "execute_result"
    }
   ],
   "source": [
    "hpt_xgb_model = XGBClassifier(learning_rate=0.3, max_depth = 2,random_state=2023)\n",
    "hpt_xgb_model.fit(x_train,y_train)\n",
    "hpt_xgb_pred = hpt_xgb_model.predict(x_val)\n",
    "hpt_xgb_pred"
   ]
  },
  {
   "cell_type": "code",
   "execution_count": 15,
   "id": "e3b3bb1e-2b4f-4168-8de6-b5431b557096",
   "metadata": {
    "tags": []
   },
   "outputs": [
    {
     "data": {
      "text/html": [
       "<div>\n",
       "<style scoped>\n",
       "    .dataframe tbody tr th:only-of-type {\n",
       "        vertical-align: middle;\n",
       "    }\n",
       "\n",
       "    .dataframe tbody tr th {\n",
       "        vertical-align: top;\n",
       "    }\n",
       "\n",
       "    .dataframe thead th {\n",
       "        text-align: right;\n",
       "    }\n",
       "</style>\n",
       "<table border=\"1\" class=\"dataframe\">\n",
       "  <thead>\n",
       "    <tr style=\"text-align: right;\">\n",
       "      <th></th>\n",
       "      <th>model_name</th>\n",
       "      <th>valid_data</th>\n",
       "      <th>accuracy_score</th>\n",
       "      <th>F1_score</th>\n",
       "    </tr>\n",
       "  </thead>\n",
       "  <tbody>\n",
       "    <tr>\n",
       "      <th>0</th>\n",
       "      <td>lr</td>\n",
       "      <td>train</td>\n",
       "      <td>0.984136</td>\n",
       "      <td>0.985601</td>\n",
       "    </tr>\n",
       "    <tr>\n",
       "      <th>1</th>\n",
       "      <td>knn</td>\n",
       "      <td>train</td>\n",
       "      <td>0.954674</td>\n",
       "      <td>0.958345</td>\n",
       "    </tr>\n",
       "    <tr>\n",
       "      <th>2</th>\n",
       "      <td>gbc</td>\n",
       "      <td>train</td>\n",
       "      <td>0.981870</td>\n",
       "      <td>0.983141</td>\n",
       "    </tr>\n",
       "    <tr>\n",
       "      <th>3</th>\n",
       "      <td>xgb</td>\n",
       "      <td>train</td>\n",
       "      <td>0.990368</td>\n",
       "      <td>0.991178</td>\n",
       "    </tr>\n",
       "    <tr>\n",
       "      <th>5</th>\n",
       "      <td>hpt_xgb</td>\n",
       "      <td>train</td>\n",
       "      <td>0.992068</td>\n",
       "      <td>0.992707</td>\n",
       "    </tr>\n",
       "  </tbody>\n",
       "</table>\n",
       "</div>"
      ],
      "text/plain": [
       "  model_name valid_data  accuracy_score  F1_score\n",
       "0         lr      train        0.984136  0.985601\n",
       "1        knn      train        0.954674  0.958345\n",
       "2        gbc      train        0.981870  0.983141\n",
       "3        xgb      train        0.990368  0.991178\n",
       "5    hpt_xgb      train        0.992068  0.992707"
      ]
     },
     "execution_count": 15,
     "metadata": {},
     "output_type": "execute_result"
    }
   ],
   "source": [
    "result.loc[5] = [\"hpt_xgb\", \"train\", \n",
    "                 accuracy_score(y_val, hpt_xgb_pred), \n",
    "                 f1_score(y_val, hpt_xgb_pred, average = \"macro\")]\n",
    "result"
   ]
  },
  {
   "cell_type": "markdown",
   "id": "df4e01fb-bc39-410e-a866-7fd53d5f7ba8",
   "metadata": {},
   "source": [
    "# 3. Feature Selection"
   ]
  },
  {
   "cell_type": "markdown",
   "id": "9643b312-c888-4d76-b5b7-6a24eae5ef54",
   "metadata": {},
   "source": [
    "`1` 변수 중요도 상위 150개, 50개의 feature를 선별하여 모델을 학습"
   ]
  },
  {
   "cell_type": "markdown",
   "id": "cd63f364-0668-4e60-8483-f096eef7961b",
   "metadata": {},
   "source": [
    "## (1) 변수 중요도 산출"
   ]
  },
  {
   "cell_type": "code",
   "execution_count": 16,
   "id": "46c17329-8b89-46c3-a31f-50eb95b1d083",
   "metadata": {
    "tags": []
   },
   "outputs": [],
   "source": [
    "imp = hpt_xgb_model.feature_importances_\n",
    "f_name = hpt_xgb_model.feature_names_in_"
   ]
  },
  {
   "cell_type": "code",
   "execution_count": 17,
   "id": "f03bea34-401f-4147-a35e-ec6f3d507e68",
   "metadata": {
    "tags": []
   },
   "outputs": [
    {
     "data": {
      "text/html": [
       "<div>\n",
       "<style scoped>\n",
       "    .dataframe tbody tr th:only-of-type {\n",
       "        vertical-align: middle;\n",
       "    }\n",
       "\n",
       "    .dataframe tbody tr th {\n",
       "        vertical-align: top;\n",
       "    }\n",
       "\n",
       "    .dataframe thead th {\n",
       "        text-align: right;\n",
       "    }\n",
       "</style>\n",
       "<table border=\"1\" class=\"dataframe\">\n",
       "  <thead>\n",
       "    <tr style=\"text-align: right;\">\n",
       "      <th></th>\n",
       "      <th>feature_name</th>\n",
       "      <th>feature_importance</th>\n",
       "    </tr>\n",
       "  </thead>\n",
       "  <tbody>\n",
       "    <tr>\n",
       "      <th>0</th>\n",
       "      <td>tBodyAcc-mean()-X</td>\n",
       "      <td>0.000000</td>\n",
       "    </tr>\n",
       "    <tr>\n",
       "      <th>1</th>\n",
       "      <td>tBodyAcc-mean()-Y</td>\n",
       "      <td>0.000721</td>\n",
       "    </tr>\n",
       "    <tr>\n",
       "      <th>2</th>\n",
       "      <td>tBodyAcc-mean()-Z</td>\n",
       "      <td>0.000000</td>\n",
       "    </tr>\n",
       "    <tr>\n",
       "      <th>3</th>\n",
       "      <td>tBodyAcc-std()-X</td>\n",
       "      <td>0.000366</td>\n",
       "    </tr>\n",
       "    <tr>\n",
       "      <th>4</th>\n",
       "      <td>tBodyAcc-std()-Y</td>\n",
       "      <td>0.000000</td>\n",
       "    </tr>\n",
       "  </tbody>\n",
       "</table>\n",
       "</div>"
      ],
      "text/plain": [
       "        feature_name  feature_importance\n",
       "0  tBodyAcc-mean()-X            0.000000\n",
       "1  tBodyAcc-mean()-Y            0.000721\n",
       "2  tBodyAcc-mean()-Z            0.000000\n",
       "3   tBodyAcc-std()-X            0.000366\n",
       "4   tBodyAcc-std()-Y            0.000000"
      ]
     },
     "execution_count": 17,
     "metadata": {},
     "output_type": "execute_result"
    }
   ],
   "source": [
    "importance_sort = pd.DataFrame({\"feature_name\" : f_name, \n",
    "                                \"feature_importance\" : imp})\n",
    "importance_sort.head()"
   ]
  },
  {
   "cell_type": "code",
   "execution_count": 19,
   "id": "44b1ec51-a8f1-43c8-a10b-ad4710d7c152",
   "metadata": {
    "tags": []
   },
   "outputs": [
    {
     "data": {
      "text/html": [
       "<div>\n",
       "<style scoped>\n",
       "    .dataframe tbody tr th:only-of-type {\n",
       "        vertical-align: middle;\n",
       "    }\n",
       "\n",
       "    .dataframe tbody tr th {\n",
       "        vertical-align: top;\n",
       "    }\n",
       "\n",
       "    .dataframe thead th {\n",
       "        text-align: right;\n",
       "    }\n",
       "</style>\n",
       "<table border=\"1\" class=\"dataframe\">\n",
       "  <thead>\n",
       "    <tr style=\"text-align: right;\">\n",
       "      <th></th>\n",
       "      <th>feature_name</th>\n",
       "      <th>feature_importance</th>\n",
       "    </tr>\n",
       "  </thead>\n",
       "  <tbody>\n",
       "    <tr>\n",
       "      <th>558</th>\n",
       "      <td>angle(X,gravityMean)</td>\n",
       "      <td>0.114671</td>\n",
       "    </tr>\n",
       "    <tr>\n",
       "      <th>201</th>\n",
       "      <td>tBodyAccMag-std()</td>\n",
       "      <td>0.101686</td>\n",
       "    </tr>\n",
       "    <tr>\n",
       "      <th>296</th>\n",
       "      <td>fBodyAcc-skewness()-X</td>\n",
       "      <td>0.065176</td>\n",
       "    </tr>\n",
       "    <tr>\n",
       "      <th>503</th>\n",
       "      <td>fBodyAccMag-std()</td>\n",
       "      <td>0.042554</td>\n",
       "    </tr>\n",
       "    <tr>\n",
       "      <th>73</th>\n",
       "      <td>tGravityAcc-arCoeff()-Z,1</td>\n",
       "      <td>0.040255</td>\n",
       "    </tr>\n",
       "  </tbody>\n",
       "</table>\n",
       "</div>"
      ],
      "text/plain": [
       "                  feature_name  feature_importance\n",
       "558       angle(X,gravityMean)            0.114671\n",
       "201          tBodyAccMag-std()            0.101686\n",
       "296      fBodyAcc-skewness()-X            0.065176\n",
       "503          fBodyAccMag-std()            0.042554\n",
       "73   tGravityAcc-arCoeff()-Z,1            0.040255"
      ]
     },
     "execution_count": 19,
     "metadata": {},
     "output_type": "execute_result"
    }
   ],
   "source": [
    "importance_sort.sort_values(\"feature_importance\", ascending = False, inplace = True)\n",
    "importance_sort.head()"
   ]
  },
  {
   "cell_type": "code",
   "execution_count": 21,
   "id": "7e000fcc-be83-4cfd-8ae4-aad92e3c514d",
   "metadata": {
    "tags": []
   },
   "outputs": [],
   "source": [
    "importance_sort.reset_index(drop = True, inplace = True)\n",
    "#importance_sort"
   ]
  },
  {
   "cell_type": "markdown",
   "id": "40162c93-de99-4ca4-9060-b84fe0733b42",
   "metadata": {},
   "source": [
    "## (2) 중요 feature 150개 선정"
   ]
  },
  {
   "cell_type": "code",
   "execution_count": 29,
   "id": "6ac6fbce-2a57-45df-af20-d34b15e524ec",
   "metadata": {
    "tags": []
   },
   "outputs": [
    {
     "data": {
      "text/plain": [
       "0         angle(X,gravityMean)\n",
       "1            tBodyAccMag-std()\n",
       "2        fBodyAcc-skewness()-X\n",
       "3            fBodyAccMag-std()\n",
       "4    tGravityAcc-arCoeff()-Z,1\n",
       "Name: feature_name, dtype: object"
      ]
     },
     "execution_count": 29,
     "metadata": {},
     "output_type": "execute_result"
    }
   ],
   "source": [
    "importance_150 = importance_sort[\"feature_name\"][:150]\n",
    "importance_150.head()"
   ]
  },
  {
   "cell_type": "code",
   "execution_count": 23,
   "id": "9c5b1931-9878-40fc-bf73-39506fe06ea1",
   "metadata": {
    "tags": []
   },
   "outputs": [],
   "source": [
    "x_train_150 = x_train[importance_150]\n",
    "x_val_150 = x_val[importance_150]"
   ]
  },
  {
   "cell_type": "markdown",
   "id": "eb5410cd-d519-42d8-b1df-d02238d6057b",
   "metadata": {},
   "source": [
    "### a. 모델링"
   ]
  },
  {
   "cell_type": "code",
   "execution_count": 24,
   "id": "621a328e-c493-45e9-8d56-44020e1824b1",
   "metadata": {
    "tags": []
   },
   "outputs": [
    {
     "name": "stderr",
     "output_type": "stream",
     "text": [
      "C:\\Users\\rkdcj\\anaconda3\\envs\\dx\\Lib\\site-packages\\xgboost\\core.py:726: FutureWarning:\n",
      "\n",
      "Pass `objective` as keyword args.\n",
      "\n"
     ]
    },
    {
     "data": {
      "text/plain": [
       "array([3, 0, 2, ..., 3, 3, 2], dtype=int64)"
      ]
     },
     "execution_count": 24,
     "metadata": {},
     "output_type": "execute_result"
    }
   ],
   "source": [
    "hpt_xgb_150_model = XGBClassifier(params, random_state = 2023)\n",
    "hpt_xgb_150_model.fit(x_train_150,y_train)\n",
    "hpt_xgb_150_pred = hpt_xgb_150_model.predict(x_val_150)\n",
    "hpt_xgb_150_pred"
   ]
  },
  {
   "cell_type": "markdown",
   "id": "0c1d55f7-3050-4000-9ea0-6e63a94b8904",
   "metadata": {},
   "source": [
    "### b. 예측 성능 결과 저장"
   ]
  },
  {
   "cell_type": "code",
   "execution_count": 25,
   "id": "5e5da147-6c46-4a91-bf41-fb553ee56a29",
   "metadata": {
    "tags": []
   },
   "outputs": [],
   "source": [
    "result.loc[7] = [\"hpt_xgb_150\", \"train\", \n",
    "             accuracy_score(y_val,hpt_xgb_150_pred),\n",
    "             f1_score(y_val, hpt_xgb_150_pred, average = \"macro\")]"
   ]
  },
  {
   "cell_type": "code",
   "execution_count": 26,
   "id": "08be7d44-7354-4499-968c-d1fa911d5b3f",
   "metadata": {
    "tags": []
   },
   "outputs": [
    {
     "data": {
      "text/html": [
       "<div>\n",
       "<style scoped>\n",
       "    .dataframe tbody tr th:only-of-type {\n",
       "        vertical-align: middle;\n",
       "    }\n",
       "\n",
       "    .dataframe tbody tr th {\n",
       "        vertical-align: top;\n",
       "    }\n",
       "\n",
       "    .dataframe thead th {\n",
       "        text-align: right;\n",
       "    }\n",
       "</style>\n",
       "<table border=\"1\" class=\"dataframe\">\n",
       "  <thead>\n",
       "    <tr style=\"text-align: right;\">\n",
       "      <th></th>\n",
       "      <th>model_name</th>\n",
       "      <th>valid_data</th>\n",
       "      <th>accuracy_score</th>\n",
       "      <th>F1_score</th>\n",
       "    </tr>\n",
       "  </thead>\n",
       "  <tbody>\n",
       "    <tr>\n",
       "      <th>0</th>\n",
       "      <td>lr</td>\n",
       "      <td>train</td>\n",
       "      <td>0.984136</td>\n",
       "      <td>0.985601</td>\n",
       "    </tr>\n",
       "    <tr>\n",
       "      <th>1</th>\n",
       "      <td>knn</td>\n",
       "      <td>train</td>\n",
       "      <td>0.954674</td>\n",
       "      <td>0.958345</td>\n",
       "    </tr>\n",
       "    <tr>\n",
       "      <th>2</th>\n",
       "      <td>gbc</td>\n",
       "      <td>train</td>\n",
       "      <td>0.981870</td>\n",
       "      <td>0.983141</td>\n",
       "    </tr>\n",
       "    <tr>\n",
       "      <th>3</th>\n",
       "      <td>xgb</td>\n",
       "      <td>train</td>\n",
       "      <td>0.990368</td>\n",
       "      <td>0.991178</td>\n",
       "    </tr>\n",
       "    <tr>\n",
       "      <th>5</th>\n",
       "      <td>hpt_xgb</td>\n",
       "      <td>train</td>\n",
       "      <td>0.992068</td>\n",
       "      <td>0.992707</td>\n",
       "    </tr>\n",
       "    <tr>\n",
       "      <th>7</th>\n",
       "      <td>hpt_xgb_150</td>\n",
       "      <td>train</td>\n",
       "      <td>0.989235</td>\n",
       "      <td>0.989286</td>\n",
       "    </tr>\n",
       "  </tbody>\n",
       "</table>\n",
       "</div>"
      ],
      "text/plain": [
       "    model_name valid_data  accuracy_score  F1_score\n",
       "0           lr      train        0.984136  0.985601\n",
       "1          knn      train        0.954674  0.958345\n",
       "2          gbc      train        0.981870  0.983141\n",
       "3          xgb      train        0.990368  0.991178\n",
       "5      hpt_xgb      train        0.992068  0.992707\n",
       "7  hpt_xgb_150      train        0.989235  0.989286"
      ]
     },
     "execution_count": 26,
     "metadata": {},
     "output_type": "execute_result"
    }
   ],
   "source": [
    "result"
   ]
  },
  {
   "cell_type": "markdown",
   "id": "6252c7d0-7d74-45a6-88e5-8b241eacf134",
   "metadata": {},
   "source": [
    "## (3) 중요 feature 50개 선정"
   ]
  },
  {
   "cell_type": "code",
   "execution_count": 28,
   "id": "388c050e-b6cf-437a-a481-b6a2d7e1ef29",
   "metadata": {
    "tags": []
   },
   "outputs": [
    {
     "data": {
      "text/plain": [
       "0         angle(X,gravityMean)\n",
       "1            tBodyAccMag-std()\n",
       "2        fBodyAcc-skewness()-X\n",
       "3            fBodyAccMag-std()\n",
       "4    tGravityAcc-arCoeff()-Z,1\n",
       "Name: feature_name, dtype: object"
      ]
     },
     "execution_count": 28,
     "metadata": {},
     "output_type": "execute_result"
    }
   ],
   "source": [
    "importance_50 = importance_150[:50]\n",
    "importance_50.head()"
   ]
  },
  {
   "cell_type": "markdown",
   "id": "e476ec0b-1a14-4bef-8a0a-71d529785856",
   "metadata": {},
   "source": [
    "### a. 모델링"
   ]
  },
  {
   "cell_type": "code",
   "execution_count": 30,
   "id": "6d912c00-3023-4f67-b2f9-58f74b8789e0",
   "metadata": {
    "tags": []
   },
   "outputs": [],
   "source": [
    "x_train_50 = x_train[importance_50]\n",
    "x_val_50 = x_val[importance_50]"
   ]
  },
  {
   "cell_type": "code",
   "execution_count": 31,
   "id": "faded07f-ac12-4ff6-9904-a94329047360",
   "metadata": {
    "tags": []
   },
   "outputs": [
    {
     "name": "stderr",
     "output_type": "stream",
     "text": [
      "C:\\Users\\rkdcj\\anaconda3\\envs\\dx\\Lib\\site-packages\\xgboost\\core.py:726: FutureWarning:\n",
      "\n",
      "Pass `objective` as keyword args.\n",
      "\n",
      "C:\\Users\\rkdcj\\anaconda3\\envs\\dx\\Lib\\site-packages\\xgboost\\core.py:160: UserWarning:\n",
      "\n",
      "[17:47:21] WARNING: C:\\buildkite-agent\\builds\\buildkite-windows-cpu-autoscaling-group-i-0cec3277c4d9d0165-1\\xgboost\\xgboost-ci-windows\\src\\learner.cc:742: \n",
      "Parameters: { \"random_stat\" } are not used.\n",
      "\n",
      "\n"
     ]
    },
    {
     "data": {
      "text/plain": [
       "array([3, 0, 2, ..., 3, 3, 2], dtype=int64)"
      ]
     },
     "execution_count": 31,
     "metadata": {},
     "output_type": "execute_result"
    }
   ],
   "source": [
    "hpt_xgb_50_model = XGBClassifier(params, random_stat = 2023)\n",
    "hpt_xgb_50_model.fit(x_train_50, y_train)\n",
    "hpt_xgb_50_pred = hpt_xgb_50_model.predict(x_val_50)\n",
    "hpt_xgb_50_pred"
   ]
  },
  {
   "cell_type": "markdown",
   "id": "df73a69c-a36a-4a57-9f05-a0ac76404fe1",
   "metadata": {},
   "source": [
    "### b. 예측 성능 결과 저장"
   ]
  },
  {
   "cell_type": "code",
   "execution_count": 32,
   "id": "a4c94da7-24cf-4ad0-966e-cb48fbb479fc",
   "metadata": {
    "tags": []
   },
   "outputs": [],
   "source": [
    "result.loc[8] = [\"hpt_xgb_50\", \"train\", \n",
    "             accuracy_score(y_val,hpt_xgb_50_pred),\n",
    "             f1_score(y_val, hpt_xgb_50_pred, average = \"macro\")]\n"
   ]
  },
  {
   "cell_type": "code",
   "execution_count": 33,
   "id": "10d69272-7f11-45a6-b929-26fed01fb2e6",
   "metadata": {
    "tags": []
   },
   "outputs": [
    {
     "data": {
      "text/html": [
       "<div>\n",
       "<style scoped>\n",
       "    .dataframe tbody tr th:only-of-type {\n",
       "        vertical-align: middle;\n",
       "    }\n",
       "\n",
       "    .dataframe tbody tr th {\n",
       "        vertical-align: top;\n",
       "    }\n",
       "\n",
       "    .dataframe thead th {\n",
       "        text-align: right;\n",
       "    }\n",
       "</style>\n",
       "<table border=\"1\" class=\"dataframe\">\n",
       "  <thead>\n",
       "    <tr style=\"text-align: right;\">\n",
       "      <th></th>\n",
       "      <th>model_name</th>\n",
       "      <th>valid_data</th>\n",
       "      <th>accuracy_score</th>\n",
       "      <th>F1_score</th>\n",
       "    </tr>\n",
       "  </thead>\n",
       "  <tbody>\n",
       "    <tr>\n",
       "      <th>0</th>\n",
       "      <td>lr</td>\n",
       "      <td>train</td>\n",
       "      <td>0.984136</td>\n",
       "      <td>0.985601</td>\n",
       "    </tr>\n",
       "    <tr>\n",
       "      <th>1</th>\n",
       "      <td>knn</td>\n",
       "      <td>train</td>\n",
       "      <td>0.954674</td>\n",
       "      <td>0.958345</td>\n",
       "    </tr>\n",
       "    <tr>\n",
       "      <th>2</th>\n",
       "      <td>gbc</td>\n",
       "      <td>train</td>\n",
       "      <td>0.981870</td>\n",
       "      <td>0.983141</td>\n",
       "    </tr>\n",
       "    <tr>\n",
       "      <th>3</th>\n",
       "      <td>xgb</td>\n",
       "      <td>train</td>\n",
       "      <td>0.990368</td>\n",
       "      <td>0.991178</td>\n",
       "    </tr>\n",
       "    <tr>\n",
       "      <th>5</th>\n",
       "      <td>hpt_xgb</td>\n",
       "      <td>train</td>\n",
       "      <td>0.992068</td>\n",
       "      <td>0.992707</td>\n",
       "    </tr>\n",
       "    <tr>\n",
       "      <th>7</th>\n",
       "      <td>hpt_xgb_150</td>\n",
       "      <td>train</td>\n",
       "      <td>0.989235</td>\n",
       "      <td>0.989286</td>\n",
       "    </tr>\n",
       "    <tr>\n",
       "      <th>8</th>\n",
       "      <td>hpt_xgb_50</td>\n",
       "      <td>train</td>\n",
       "      <td>0.988102</td>\n",
       "      <td>0.988090</td>\n",
       "    </tr>\n",
       "  </tbody>\n",
       "</table>\n",
       "</div>"
      ],
      "text/plain": [
       "    model_name valid_data  accuracy_score  F1_score\n",
       "0           lr      train        0.984136  0.985601\n",
       "1          knn      train        0.954674  0.958345\n",
       "2          gbc      train        0.981870  0.983141\n",
       "3          xgb      train        0.990368  0.991178\n",
       "5      hpt_xgb      train        0.992068  0.992707\n",
       "7  hpt_xgb_150      train        0.989235  0.989286\n",
       "8   hpt_xgb_50      train        0.988102  0.988090"
      ]
     },
     "execution_count": 33,
     "metadata": {},
     "output_type": "execute_result"
    }
   ],
   "source": [
    "result"
   ]
  },
  {
   "cell_type": "markdown",
   "id": "8d150397-0823-4d8a-a841-eea5e79ecd71",
   "metadata": {},
   "source": [
    "## (4) 결과 시각화"
   ]
  },
  {
   "cell_type": "code",
   "execution_count": 40,
   "id": "1a17d4ed-dec3-43a5-abad-ebac646fbbcb",
   "metadata": {
    "tags": []
   },
   "outputs": [
    {
     "ename": "SyntaxError",
     "evalue": "positional argument follows keyword argument (1637397984.py, line 3)",
     "output_type": "error",
     "traceback": [
      "\u001b[1;36m  Cell \u001b[1;32mIn[40], line 3\u001b[1;36m\u001b[0m\n\u001b[1;33m    plot(x = \"model_name\", y = \"value\", color -= \"variable\")\u001b[0m\n\u001b[1;37m                                              ^\u001b[0m\n\u001b[1;31mSyntaxError\u001b[0m\u001b[1;31m:\u001b[0m positional argument follows keyword argument\n"
     ]
    }
   ],
   "source": [
    "result.melt(id_vars = [\"model_name\"], \n",
    "            value_vars= [\"accuracy_score\", \"F1_score\"]).\\\n",
    "                plot(x = \"model_name\", y = \"value\", \n",
    "                     color = \"variable\")"
   ]
  }
 ],
 "metadata": {
  "kernelspec": {
   "display_name": "Python 3 (ipykernel)",
   "language": "python",
   "name": "python3"
  },
  "language_info": {
   "codemirror_mode": {
    "name": "ipython",
    "version": 3
   },
   "file_extension": ".py",
   "mimetype": "text/x-python",
   "name": "python",
   "nbconvert_exporter": "python",
   "pygments_lexer": "ipython3",
   "version": "3.11.4"
  }
 },
 "nbformat": 4,
 "nbformat_minor": 5
}
