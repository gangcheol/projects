{
 "cells": [
  {
   "cell_type": "raw",
   "id": "c06de1b5-c51f-45cd-b8d7-c442f11beb4b",
   "metadata": {},
   "source": [
    "---\n",
    "title : \"01. model tuning & save\"\n",
    "author : \"GC\"\n",
    "date : \"09/20/23\"\n",
    "---"
   ]
  },
  {
   "cell_type": "markdown",
   "id": "9c01e9b4-8fbd-4c84-a12a-aa0264b93624",
   "metadata": {},
   "source": [
    "# import"
   ]
  },
  {
   "cell_type": "code",
   "execution_count": null,
   "id": "d8299273-e56b-4321-b5b3-23de0bdaa453",
   "metadata": {},
   "outputs": [],
   "source": []
  }
 ],
 "metadata": {
  "kernelspec": {
   "display_name": "Python 3 (ipykernel)",
   "language": "python",
   "name": "python3"
  },
  "language_info": {
   "codemirror_mode": {
    "name": "ipython",
    "version": 3
   },
   "file_extension": ".py",
   "mimetype": "text/x-python",
   "name": "python",
   "nbconvert_exporter": "python",
   "pygments_lexer": "ipython3",
   "version": "3.11.4"
  }
 },
 "nbformat": 4,
 "nbformat_minor": 5
}
