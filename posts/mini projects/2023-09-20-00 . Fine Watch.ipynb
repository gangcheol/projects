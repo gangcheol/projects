{
 "cells": [
  {
   "cell_type": "raw",
   "id": "19be3b01-3f31-45a7-b427-844a8cff88b8",
   "metadata": {},
   "source": [
    "---\n",
    "title : \"00. Fine Watch 행동 데이터 분류 AI 모델링\"\n",
    "author : \"GC\"\n",
    "date : \"09/20/23\"\n",
    "---"
   ]
  },
  {
   "cell_type": "markdown",
   "id": "7976c0db-4e8f-49c7-8f72-1e8f37ad5118",
   "metadata": {},
   "source": [
    "# 개요"
   ]
  },
  {
   "cell_type": "markdown",
   "id": "27f630df-871e-4290-a7b6-80e15bed0c07",
   "metadata": {},
   "source": [
    "`1` 출시될 시제품에서 수집한 데이터를 바탕으로 6가지 행동 검토 후 '계단오르기'를 분류할 수 있는 AI 모델 생성 및 중요도 상위 Feature 선별"
   ]
  },
  {
   "cell_type": "code",
   "execution_count": null,
   "id": "3d222616-c8cf-4e44-ae02-97c108a2aa2d",
   "metadata": {},
   "outputs": [],
   "source": []
  }
 ],
 "metadata": {
  "kernelspec": {
   "display_name": "Python 3 (ipykernel)",
   "language": "python",
   "name": "python3"
  },
  "language_info": {
   "codemirror_mode": {
    "name": "ipython",
    "version": 3
   },
   "file_extension": ".py",
   "mimetype": "text/x-python",
   "name": "python",
   "nbconvert_exporter": "python",
   "pygments_lexer": "ipython3",
   "version": "3.11.4"
  }
 },
 "nbformat": 4,
 "nbformat_minor": 5
}
