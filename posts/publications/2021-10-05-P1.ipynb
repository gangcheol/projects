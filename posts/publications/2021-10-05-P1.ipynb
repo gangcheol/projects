{
 "cells": [
  {
   "cell_type": "raw",
   "id": "b2e116e6-2f69-4037-8d8f-ce614181eef5",
   "metadata": {},
   "source": [
    "---\n",
    "title : \"Paper 1\"\n",
    "author : \"GC\"\n",
    "date : \"10/05/21\"\n",
    "---"
   ]
  },
  {
   "cell_type": "markdown",
   "id": "64dda41f-6310-47d0-9633-e6173fcd36c7",
   "metadata": {},
   "source": [
    "<iframe src=\"paper1.pdf\" width = 800 height = 800></iframe>"
   ]
  }
 ],
 "metadata": {
  "kernelspec": {
   "display_name": "Python 3 (ipykernel)",
   "language": "python",
   "name": "python3"
  },
  "language_info": {
   "codemirror_mode": {
    "name": "ipython",
    "version": 3
   },
   "file_extension": ".py",
   "mimetype": "text/x-python",
   "name": "python",
   "nbconvert_exporter": "python",
   "pygments_lexer": "ipython3",
   "version": "3.11.7"
  }
 },
 "nbformat": 4,
 "nbformat_minor": 5
}
