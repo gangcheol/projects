{
 "cells": [
  {
   "cell_type": "raw",
   "id": "b2e116e6-2f69-4037-8d8f-ce614181eef5",
   "metadata": {},
   "source": [
    "---\n",
    "title : \"Paper 2\"\n",
    "author : \"GC\"\n",
    "date : \"02/22/23\"\n",
    "---"
   ]
  },
  {
   "cell_type": "markdown",
   "id": "b624bb46-0ff9-4bf4-8f2f-91594eea4930",
   "metadata": {},
   "source": [
    "<iframe src=\"paper2.pdf\" width = 800 height = 800></iframe>"
   ]
  }
 ],
 "metadata": {
  "kernelspec": {
   "display_name": "Python 3 (ipykernel)",
   "language": "python",
   "name": "python3"
  },
  "language_info": {
   "codemirror_mode": {
    "name": "ipython",
    "version": 3
   },
   "file_extension": ".py",
   "mimetype": "text/x-python",
   "name": "python",
   "nbconvert_exporter": "python",
   "pygments_lexer": "ipython3",
   "version": "3.11.7"
  }
 },
 "nbformat": 4,
 "nbformat_minor": 5
}
